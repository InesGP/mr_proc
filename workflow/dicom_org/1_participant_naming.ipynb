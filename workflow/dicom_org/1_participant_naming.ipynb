{
 "cells": [
  {
   "cell_type": "markdown",
   "metadata": {},
   "source": [
    "## Notebook to generate participant ids and populate `participants.csv` for nimhans serb pd dataset\n",
    "- This avoids using nimhans generated ids (UHID) in the downstream processing and anonymizes subject names\n",
    "- The mapping between genearated `participant_id` and `UHID` is retained in the uhid_dicom_map.csv"
   ]
  },
  {
   "cell_type": "code",
   "execution_count": 1,
   "metadata": {},
   "outputs": [],
   "source": [
    "import pandas as pd\n",
    "import numpy as np\n",
    "import glob\n",
    "import os\n",
    "import re"
   ]
  },
  {
   "cell_type": "markdown",
   "metadata": {},
   "source": [
    "### Paths"
   ]
  },
  {
   "cell_type": "code",
   "execution_count": 2,
   "metadata": {},
   "outputs": [],
   "source": [
    "DATASET_ROOT = \"/home/nimhans/projects/data/PD_SERB/\"\n",
    "demographics_file = f\"{DATASET_ROOT}scratch/demographics.csv\"\n",
    "uhid_dicom_map_file = f\"{DATASET_ROOT}scratch/uhid_dicom_map.csv\"\n",
    "participants_csv = f\"{DATASET_ROOT}tabular/demographics/participants.csv\"\n",
    "\n",
    "raw_dicom_dir = f\"{DATASET_ROOT}scratch/raw_dicom/\""
   ]
  },
  {
   "cell_type": "markdown",
   "metadata": {},
   "source": [
    "### Read demographics file"
   ]
  },
  {
   "cell_type": "code",
   "execution_count": 3,
   "metadata": {},
   "outputs": [
    {
     "name": "stdout",
     "output_type": "stream",
     "text": [
      "Number of participants: 102\n"
     ]
    },
    {
     "data": {
      "text/html": [
       "<div>\n",
       "<style scoped>\n",
       "    .dataframe tbody tr th:only-of-type {\n",
       "        vertical-align: middle;\n",
       "    }\n",
       "\n",
       "    .dataframe tbody tr th {\n",
       "        vertical-align: top;\n",
       "    }\n",
       "\n",
       "    .dataframe thead th {\n",
       "        text-align: right;\n",
       "    }\n",
       "</style>\n",
       "<table border=\"1\" class=\"dataframe\">\n",
       "  <thead>\n",
       "    <tr style=\"text-align: right;\">\n",
       "      <th></th>\n",
       "      <th>Name</th>\n",
       "      <th>UHID</th>\n",
       "      <th>D.O.A</th>\n",
       "      <th>Age</th>\n",
       "      <th>Gender (0_F 1_M)</th>\n",
       "      <th>Education</th>\n",
       "      <th>participant_id</th>\n",
       "    </tr>\n",
       "    <tr>\n",
       "      <th>SL.NO</th>\n",
       "      <th></th>\n",
       "      <th></th>\n",
       "      <th></th>\n",
       "      <th></th>\n",
       "      <th></th>\n",
       "      <th></th>\n",
       "      <th></th>\n",
       "    </tr>\n",
       "  </thead>\n",
       "  <tbody>\n",
       "    <tr>\n",
       "      <th>1</th>\n",
       "      <td>Omana P</td>\n",
       "      <td>20190051791</td>\n",
       "      <td>04.05.2019</td>\n",
       "      <td>44.0</td>\n",
       "      <td>0.0</td>\n",
       "      <td>12.0</td>\n",
       "      <td>SERB001</td>\n",
       "    </tr>\n",
       "    <tr>\n",
       "      <th>2</th>\n",
       "      <td>Tapan Kumar</td>\n",
       "      <td>20130087469</td>\n",
       "      <td>06.06.2019</td>\n",
       "      <td>45.0</td>\n",
       "      <td>1.0</td>\n",
       "      <td>12.0</td>\n",
       "      <td>SERB002</td>\n",
       "    </tr>\n",
       "    <tr>\n",
       "      <th>3</th>\n",
       "      <td>Braj Bhushan Prasad</td>\n",
       "      <td>20170107419</td>\n",
       "      <td>14.05.2019</td>\n",
       "      <td>66.0</td>\n",
       "      <td>1.0</td>\n",
       "      <td>15.0</td>\n",
       "      <td>SERB003</td>\n",
       "    </tr>\n",
       "    <tr>\n",
       "      <th>4</th>\n",
       "      <td>Ramesh R</td>\n",
       "      <td>20190032049</td>\n",
       "      <td>19.07.2019</td>\n",
       "      <td>42.0</td>\n",
       "      <td>1.0</td>\n",
       "      <td>10.0</td>\n",
       "      <td>SERB004</td>\n",
       "    </tr>\n",
       "    <tr>\n",
       "      <th>5</th>\n",
       "      <td>Samsani Naga Brahmananda Rao</td>\n",
       "      <td>20180094521</td>\n",
       "      <td>24.07.2019</td>\n",
       "      <td>62.0</td>\n",
       "      <td>1.0</td>\n",
       "      <td>11.0</td>\n",
       "      <td>SERB005</td>\n",
       "    </tr>\n",
       "  </tbody>\n",
       "</table>\n",
       "</div>"
      ],
      "text/plain": [
       "                               Name         UHID       D.O.A   Age  \\\n",
       "SL.NO                                                                \n",
       "1                           Omana P  20190051791  04.05.2019  44.0   \n",
       "2                       Tapan Kumar  20130087469  06.06.2019  45.0   \n",
       "3               Braj Bhushan Prasad  20170107419  14.05.2019  66.0   \n",
       "4                          Ramesh R  20190032049  19.07.2019  42.0   \n",
       "5      Samsani Naga Brahmananda Rao  20180094521  24.07.2019  62.0   \n",
       "\n",
       "       Gender (0_F 1_M)  Education participant_id  \n",
       "SL.NO                                              \n",
       "1                   0.0       12.0        SERB001  \n",
       "2                   1.0       12.0        SERB002  \n",
       "3                   1.0       15.0        SERB003  \n",
       "4                   1.0       10.0        SERB004  \n",
       "5                   1.0       11.0        SERB005  "
      ]
     },
     "execution_count": 3,
     "metadata": {},
     "output_type": "execute_result"
    }
   ],
   "source": [
    "demo_df = pd.read_csv(demographics_file,index_col=[0])\n",
    "n_participants = len(demo_df)\n",
    "print(f\"Number of participants: {n_participants}\")\n",
    "demo_df.head()"
   ]
  },
  {
   "cell_type": "markdown",
   "metadata": {},
   "source": [
    "### Identify DICOM filenames and Diagnosis based on data on disk"
   ]
  },
  {
   "cell_type": "code",
   "execution_count": 4,
   "metadata": {},
   "outputs": [],
   "source": [
    "def parse_raw_dicom_filenames(raw_dicom_dir):\n",
    "    raw_dicom_dir_names = os.listdir(raw_dicom_dir)\n",
    "\n",
    "    raw_dir_name_list = []\n",
    "    UHID_list = []\n",
    "    for dir_name in raw_dicom_dir_names:\n",
    "        try:\n",
    "            UHID = re.split('-|_| ', dir_name)[0]\n",
    "        except Exception as ex:\n",
    "            print(ex)\n",
    "            \n",
    "        #Names have either \"_\" or \" \" as sep\n",
    "        # try:\n",
    "        #     UHID, raw_dir_name = dir_name.split(\"_\",1) \n",
    "        # except Exception as ex:\n",
    "        #     print(ex)\n",
    "        #     print(f\"Trying space as sep for {dir_name}\")\n",
    "        #     try:\n",
    "        #         UHID, _ = dir_name.split(\" \",1)\n",
    "        #     except Exception as ex:\n",
    "        #         print(ex)\n",
    "            \n",
    "        raw_dir_name_list.append(dir_name)    \n",
    "        UHID_list.append(UHID)\n",
    "\n",
    "    raw_dicom_df = pd.DataFrame()\n",
    "    raw_dicom_df[\"UHID\"] = UHID_list\n",
    "    raw_dicom_df[\"raw_dir_name\"] = raw_dir_name_list\n",
    "\n",
    "    return raw_dicom_df"
   ]
  },
  {
   "cell_type": "code",
   "execution_count": 5,
   "metadata": {},
   "outputs": [
    {
     "name": "stdout",
     "output_type": "stream",
     "text": [
      "Number of control raw_dicom_dirs: 23\n",
      "Number of pd raw_dicom_dirs: 70\n"
     ]
    },
    {
     "data": {
      "text/html": [
       "<div>\n",
       "<style scoped>\n",
       "    .dataframe tbody tr th:only-of-type {\n",
       "        vertical-align: middle;\n",
       "    }\n",
       "\n",
       "    .dataframe tbody tr th {\n",
       "        vertical-align: top;\n",
       "    }\n",
       "\n",
       "    .dataframe thead th {\n",
       "        text-align: right;\n",
       "    }\n",
       "</style>\n",
       "<table border=\"1\" class=\"dataframe\">\n",
       "  <thead>\n",
       "    <tr style=\"text-align: right;\">\n",
       "      <th></th>\n",
       "      <th>UHID</th>\n",
       "      <th>raw_dir_name</th>\n",
       "      <th>group</th>\n",
       "    </tr>\n",
       "  </thead>\n",
       "  <tbody>\n",
       "    <tr>\n",
       "      <th>0</th>\n",
       "      <td>PJ19001297</td>\n",
       "      <td>PJ19001297_ALAMGIR_PARVEZ</td>\n",
       "      <td>control</td>\n",
       "    </tr>\n",
       "    <tr>\n",
       "      <th>1</th>\n",
       "      <td>MANOHAR</td>\n",
       "      <td>MANOHAR VICTOR</td>\n",
       "      <td>control</td>\n",
       "    </tr>\n",
       "    <tr>\n",
       "      <th>2</th>\n",
       "      <td>PJ21000356</td>\n",
       "      <td>PJ21000356_KHALEEL_PASHA_13.07.2021</td>\n",
       "      <td>control</td>\n",
       "    </tr>\n",
       "    <tr>\n",
       "      <th>3</th>\n",
       "      <td>PJ19001294</td>\n",
       "      <td>PJ19001294_NIKHIL_KUMAR_SAXENA_COM</td>\n",
       "      <td>control</td>\n",
       "    </tr>\n",
       "    <tr>\n",
       "      <th>4</th>\n",
       "      <td>PJ22000050</td>\n",
       "      <td>PJ22000050_VIJAYA KUMARI</td>\n",
       "      <td>control</td>\n",
       "    </tr>\n",
       "  </tbody>\n",
       "</table>\n",
       "</div>"
      ],
      "text/plain": [
       "         UHID                         raw_dir_name    group\n",
       "0  PJ19001297            PJ19001297_ALAMGIR_PARVEZ  control\n",
       "1     MANOHAR                       MANOHAR VICTOR  control\n",
       "2  PJ21000356  PJ21000356_KHALEEL_PASHA_13.07.2021  control\n",
       "3  PJ19001294   PJ19001294_NIKHIL_KUMAR_SAXENA_COM  control\n",
       "4  PJ22000050             PJ22000050_VIJAYA KUMARI  control"
      ]
     },
     "execution_count": 5,
     "metadata": {},
     "output_type": "execute_result"
    }
   ],
   "source": [
    "control_participants_dir = f\"{raw_dicom_dir}/controls/\"\n",
    "\n",
    "control_raw_dicom_df = parse_raw_dicom_filenames(control_participants_dir)\n",
    "control_raw_dicom_df[\"group\"] = \"control\"\n",
    "n_raw_dicom_dirs = len(control_raw_dicom_df)\n",
    "print(f\"Number of control raw_dicom_dirs: {n_raw_dicom_dirs}\")\n",
    "\n",
    "pd_participants_dir = f\"{raw_dicom_dir}/pd/\"\n",
    "\n",
    "pd_raw_dicom_df = parse_raw_dicom_filenames(pd_participants_dir)\n",
    "n_raw_dicom_dirs = len(pd_raw_dicom_df)\n",
    "print(f\"Number of pd raw_dicom_dirs: {n_raw_dicom_dirs}\")\n",
    "pd_raw_dicom_df[\"group\"] = \"PD\"\n",
    "\n",
    "raw_dicom_df = pd.concat([control_raw_dicom_df,pd_raw_dicom_df],axis=0)\n",
    "\n",
    "raw_dicom_df.head()"
   ]
  },
  {
   "cell_type": "markdown",
   "metadata": {},
   "source": [
    "### Compare UHID lists from demographics and DICOM data"
   ]
  },
  {
   "cell_type": "code",
   "execution_count": 6,
   "metadata": {},
   "outputs": [
    {
     "name": "stdout",
     "output_type": "stream",
     "text": [
      "25 demo_minus_dicom_uhid:\n",
      "{'20190142414', 'PJ19001653', '20210030843', '2017007959', 'PJ21000348', '20150074405', 'PJ21000332', '2020785098', 'PJ2100199', '20170107419', '20190107946', '2021097509', '2019417864', '20210043218', 'PJ19001582', '20210006263', '2021', 'PJ21000335', '20180094521', '20210056722', '20190114475', '20210017670', '20190032049', '20170133455', '20150094898'}\n",
      "\n",
      "16 dicom_minus_demo_uhid:\n",
      "{'20210005183', '20210006323', 'MANOHAR', '20210084672', 'PJ22000051', '20190041062', '20170079594', 'PJ21000199', '20210055462', '20190109746', 'PJ19001554', 'PJ22000050', '20180033695', 'PJ21000464', '20210069906', '20150060949'}\n"
     ]
    }
   ],
   "source": [
    "raw_dicom_uhid = set(raw_dicom_df[\"UHID\"])\n",
    "demo_uhid = set(demo_df[\"UHID\"])\n",
    "\n",
    "demo_minus_dicom_uhid = demo_uhid - raw_dicom_uhid\n",
    "dicom_minus_demo_uhid = raw_dicom_uhid - demo_uhid\n",
    "\n",
    "print(f\"{len(demo_minus_dicom_uhid)} demo_missing_dicom_uhid:\\n{demo_minus_dicom_uhid}\")\n",
    "\n",
    "print(f\"\\n{len(dicom_minus_demo_uhid)} dicom_missing_demo_uhid:\\n{dicom_minus_demo_uhid}\")\n"
   ]
  },
  {
   "cell_type": "markdown",
   "metadata": {},
   "source": [
    "### Append demo df with \n",
    "    - Newly generated participant_id \n",
    "    - Group column (i.e. Dx for the participant)"
   ]
  },
  {
   "cell_type": "code",
   "execution_count": 7,
   "metadata": {},
   "outputs": [
    {
     "data": {
      "text/html": [
       "<div>\n",
       "<style scoped>\n",
       "    .dataframe tbody tr th:only-of-type {\n",
       "        vertical-align: middle;\n",
       "    }\n",
       "\n",
       "    .dataframe tbody tr th {\n",
       "        vertical-align: top;\n",
       "    }\n",
       "\n",
       "    .dataframe thead th {\n",
       "        text-align: right;\n",
       "    }\n",
       "</style>\n",
       "<table border=\"1\" class=\"dataframe\">\n",
       "  <thead>\n",
       "    <tr style=\"text-align: right;\">\n",
       "      <th></th>\n",
       "      <th>Name</th>\n",
       "      <th>UHID</th>\n",
       "      <th>D.O.A</th>\n",
       "      <th>Age</th>\n",
       "      <th>Gender (0_F 1_M)</th>\n",
       "      <th>Education</th>\n",
       "      <th>participant_id</th>\n",
       "      <th>raw_dir_name</th>\n",
       "      <th>group</th>\n",
       "    </tr>\n",
       "  </thead>\n",
       "  <tbody>\n",
       "    <tr>\n",
       "      <th>0</th>\n",
       "      <td>Omana P</td>\n",
       "      <td>20190051791</td>\n",
       "      <td>04.05.2019</td>\n",
       "      <td>44.0</td>\n",
       "      <td>0.0</td>\n",
       "      <td>12.0</td>\n",
       "      <td>SERB001</td>\n",
       "      <td>20190051791_OMANA_P</td>\n",
       "      <td>PD</td>\n",
       "    </tr>\n",
       "    <tr>\n",
       "      <th>1</th>\n",
       "      <td>Tapan Kumar</td>\n",
       "      <td>20130087469</td>\n",
       "      <td>06.06.2019</td>\n",
       "      <td>45.0</td>\n",
       "      <td>1.0</td>\n",
       "      <td>12.0</td>\n",
       "      <td>SERB002</td>\n",
       "      <td>20130087469_TAPAN KUMAR PATNAIK_COM</td>\n",
       "      <td>PD</td>\n",
       "    </tr>\n",
       "    <tr>\n",
       "      <th>2</th>\n",
       "      <td>Braj Bhushan Prasad</td>\n",
       "      <td>20170107419</td>\n",
       "      <td>14.05.2019</td>\n",
       "      <td>66.0</td>\n",
       "      <td>1.0</td>\n",
       "      <td>15.0</td>\n",
       "      <td>SERB003</td>\n",
       "      <td>NaN</td>\n",
       "      <td>NaN</td>\n",
       "    </tr>\n",
       "    <tr>\n",
       "      <th>3</th>\n",
       "      <td>Ramesh R</td>\n",
       "      <td>20190032049</td>\n",
       "      <td>19.07.2019</td>\n",
       "      <td>42.0</td>\n",
       "      <td>1.0</td>\n",
       "      <td>10.0</td>\n",
       "      <td>SERB004</td>\n",
       "      <td>NaN</td>\n",
       "      <td>NaN</td>\n",
       "    </tr>\n",
       "    <tr>\n",
       "      <th>4</th>\n",
       "      <td>Samsani Naga Brahmananda Rao</td>\n",
       "      <td>20180094521</td>\n",
       "      <td>24.07.2019</td>\n",
       "      <td>62.0</td>\n",
       "      <td>1.0</td>\n",
       "      <td>11.0</td>\n",
       "      <td>SERB005</td>\n",
       "      <td>NaN</td>\n",
       "      <td>NaN</td>\n",
       "    </tr>\n",
       "  </tbody>\n",
       "</table>\n",
       "</div>"
      ],
      "text/plain": [
       "                           Name         UHID       D.O.A   Age  \\\n",
       "0                       Omana P  20190051791  04.05.2019  44.0   \n",
       "1                   Tapan Kumar  20130087469  06.06.2019  45.0   \n",
       "2           Braj Bhushan Prasad  20170107419  14.05.2019  66.0   \n",
       "3                      Ramesh R  20190032049  19.07.2019  42.0   \n",
       "4  Samsani Naga Brahmananda Rao  20180094521  24.07.2019  62.0   \n",
       "\n",
       "   Gender (0_F 1_M)  Education participant_id  \\\n",
       "0               0.0       12.0        SERB001   \n",
       "1               1.0       12.0        SERB002   \n",
       "2               1.0       15.0        SERB003   \n",
       "3               1.0       10.0        SERB004   \n",
       "4               1.0       11.0        SERB005   \n",
       "\n",
       "                          raw_dir_name group  \n",
       "0                  20190051791_OMANA_P    PD  \n",
       "1  20130087469_TAPAN KUMAR PATNAIK_COM    PD  \n",
       "2                                  NaN   NaN  \n",
       "3                                  NaN   NaN  \n",
       "4                                  NaN   NaN  "
      ]
     },
     "execution_count": 7,
     "metadata": {},
     "output_type": "execute_result"
    }
   ],
   "source": [
    "ds_prefix = \"SERB\"\n",
    "n_participants_len = len(str(n_participants))\n",
    "participant_ids = np.arange(1, n_participants+1)\n",
    "participant_ids_str = [ds_prefix + str(idx).zfill(n_participants_len) for idx in participant_ids]        \n",
    "\n",
    "demo_df[\"participant_id\"] = participant_ids_str\n",
    "demo_df = pd.merge(demo_df, raw_dicom_df, on=\"UHID\", how=\"left\")\n",
    "demo_df.head()"
   ]
  },
  {
   "cell_type": "markdown",
   "metadata": {},
   "source": [
    "### Save uhid_dicom_map file \n",
    "- participants_id --> UHID mapping --> raw_dicom_dir names to be renamed with [organize_dicoms.py](./organize_dicoms.py)\n",
    "- Note that UHID is still part of the dicom header, but that can be stripped when converting to Niftis"
   ]
  },
  {
   "cell_type": "code",
   "execution_count": 8,
   "metadata": {},
   "outputs": [
    {
     "name": "stdout",
     "output_type": "stream",
     "text": [
      "Saving uhid_dicom_map here: /home/nimhans/projects/data/PD_SERB/scratch/uhid_dicom_map.csv\n"
     ]
    },
    {
     "data": {
      "text/html": [
       "<div>\n",
       "<style scoped>\n",
       "    .dataframe tbody tr th:only-of-type {\n",
       "        vertical-align: middle;\n",
       "    }\n",
       "\n",
       "    .dataframe tbody tr th {\n",
       "        vertical-align: top;\n",
       "    }\n",
       "\n",
       "    .dataframe thead th {\n",
       "        text-align: right;\n",
       "    }\n",
       "</style>\n",
       "<table border=\"1\" class=\"dataframe\">\n",
       "  <thead>\n",
       "    <tr style=\"text-align: right;\">\n",
       "      <th></th>\n",
       "      <th>participant_id</th>\n",
       "      <th>UHID</th>\n",
       "      <th>raw_dir_name</th>\n",
       "    </tr>\n",
       "  </thead>\n",
       "  <tbody>\n",
       "    <tr>\n",
       "      <th>0</th>\n",
       "      <td>SERB001</td>\n",
       "      <td>20190051791</td>\n",
       "      <td>20190051791_OMANA_P</td>\n",
       "    </tr>\n",
       "    <tr>\n",
       "      <th>1</th>\n",
       "      <td>SERB002</td>\n",
       "      <td>20130087469</td>\n",
       "      <td>20130087469_TAPAN KUMAR PATNAIK_COM</td>\n",
       "    </tr>\n",
       "    <tr>\n",
       "      <th>2</th>\n",
       "      <td>SERB003</td>\n",
       "      <td>20170107419</td>\n",
       "      <td>NaN</td>\n",
       "    </tr>\n",
       "    <tr>\n",
       "      <th>3</th>\n",
       "      <td>SERB004</td>\n",
       "      <td>20190032049</td>\n",
       "      <td>NaN</td>\n",
       "    </tr>\n",
       "    <tr>\n",
       "      <th>4</th>\n",
       "      <td>SERB005</td>\n",
       "      <td>20180094521</td>\n",
       "      <td>NaN</td>\n",
       "    </tr>\n",
       "  </tbody>\n",
       "</table>\n",
       "</div>"
      ],
      "text/plain": [
       "  participant_id         UHID                         raw_dir_name\n",
       "0        SERB001  20190051791                  20190051791_OMANA_P\n",
       "1        SERB002  20130087469  20130087469_TAPAN KUMAR PATNAIK_COM\n",
       "2        SERB003  20170107419                                  NaN\n",
       "3        SERB004  20190032049                                  NaN\n",
       "4        SERB005  20180094521                                  NaN"
      ]
     },
     "execution_count": 8,
     "metadata": {},
     "output_type": "execute_result"
    }
   ],
   "source": [
    "uhid_dicom_map_df = demo_df[[\"participant_id\",\"UHID\",\"raw_dir_name\"]]\n",
    "\n",
    "uhid_dicom_map_df.to_csv(uhid_dicom_map_file, index=None)\n",
    "print(f\"Saving uhid_dicom_map here: {uhid_dicom_map_file}\")\n",
    "\n",
    "uhid_dicom_map_df.head()"
   ]
  },
  {
   "cell_type": "markdown",
   "metadata": {},
   "source": [
    "### Populate participants.csv for `mr_proc` based organization and processing"
   ]
  },
  {
   "cell_type": "code",
   "execution_count": 9,
   "metadata": {},
   "outputs": [
    {
     "data": {
      "text/html": [
       "<div>\n",
       "<style scoped>\n",
       "    .dataframe tbody tr th:only-of-type {\n",
       "        vertical-align: middle;\n",
       "    }\n",
       "\n",
       "    .dataframe tbody tr th {\n",
       "        vertical-align: top;\n",
       "    }\n",
       "\n",
       "    .dataframe thead th {\n",
       "        text-align: right;\n",
       "    }\n",
       "</style>\n",
       "<table border=\"1\" class=\"dataframe\">\n",
       "  <thead>\n",
       "    <tr style=\"text-align: right;\">\n",
       "      <th></th>\n",
       "      <th>participant_id</th>\n",
       "      <th>age</th>\n",
       "      <th>sex</th>\n",
       "      <th>group</th>\n",
       "    </tr>\n",
       "  </thead>\n",
       "  <tbody>\n",
       "    <tr>\n",
       "      <th>0</th>\n",
       "      <td>SERB001</td>\n",
       "      <td>44.0</td>\n",
       "      <td>F</td>\n",
       "      <td>PD</td>\n",
       "    </tr>\n",
       "    <tr>\n",
       "      <th>1</th>\n",
       "      <td>SERB002</td>\n",
       "      <td>45.0</td>\n",
       "      <td>M</td>\n",
       "      <td>PD</td>\n",
       "    </tr>\n",
       "    <tr>\n",
       "      <th>2</th>\n",
       "      <td>SERB003</td>\n",
       "      <td>66.0</td>\n",
       "      <td>M</td>\n",
       "      <td>NaN</td>\n",
       "    </tr>\n",
       "    <tr>\n",
       "      <th>3</th>\n",
       "      <td>SERB004</td>\n",
       "      <td>42.0</td>\n",
       "      <td>M</td>\n",
       "      <td>NaN</td>\n",
       "    </tr>\n",
       "    <tr>\n",
       "      <th>4</th>\n",
       "      <td>SERB005</td>\n",
       "      <td>62.0</td>\n",
       "      <td>M</td>\n",
       "      <td>NaN</td>\n",
       "    </tr>\n",
       "  </tbody>\n",
       "</table>\n",
       "</div>"
      ],
      "text/plain": [
       "  participant_id   age sex group\n",
       "0        SERB001  44.0   F    PD\n",
       "1        SERB002  45.0   M    PD\n",
       "2        SERB003  66.0   M   NaN\n",
       "3        SERB004  42.0   M   NaN\n",
       "4        SERB005  62.0   M   NaN"
      ]
     },
     "execution_count": 9,
     "metadata": {},
     "output_type": "execute_result"
    }
   ],
   "source": [
    "participant_df = pd.read_csv(participants_csv)\n",
    "participant_df[\"participant_id\"] = demo_df[\"participant_id\"]\n",
    "participant_df[\"age\"] = demo_df[\"Age\"]\n",
    "participant_df[\"sex\"] = demo_df[\"Gender (0_F 1_M)\"]\n",
    "participant_df[\"sex\"] = participant_df[\"sex\"].replace({0:\"F\", 1:\"M\"})\n",
    "participant_df[\"group\"] = demo_df[\"group\"]\n",
    "\n",
    "participant_df.head()"
   ]
  },
  {
   "cell_type": "markdown",
   "metadata": {},
   "source": [
    "### Save participants.csv"
   ]
  },
  {
   "cell_type": "code",
   "execution_count": 10,
   "metadata": {},
   "outputs": [
    {
     "name": "stdout",
     "output_type": "stream",
     "text": [
      "Saving file here: /home/nimhans/projects/data/PD_SERB/tabular/demographics/participants.csv\n"
     ]
    }
   ],
   "source": [
    "participant_df.to_csv(participants_csv, index=None)\n",
    "print(f\"Saving file here: {participants_csv}\")"
   ]
  },
  {
   "cell_type": "code",
   "execution_count": null,
   "metadata": {},
   "outputs": [],
   "source": []
  }
 ],
 "metadata": {
  "kernelspec": {
   "display_name": "Python 3.10.6 64-bit",
   "language": "python",
   "name": "python3"
  },
  "language_info": {
   "codemirror_mode": {
    "name": "ipython",
    "version": 3
   },
   "file_extension": ".py",
   "mimetype": "text/x-python",
   "name": "python",
   "nbconvert_exporter": "python",
   "pygments_lexer": "ipython3",
   "version": "3.10.6"
  },
  "orig_nbformat": 4,
  "vscode": {
   "interpreter": {
    "hash": "916dbcbb3f70747c44a77c7bcd40155683ae19c65e1c03b4aa3499c5328201f1"
   }
  }
 },
 "nbformat": 4,
 "nbformat_minor": 2
}
