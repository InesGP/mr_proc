{
 "cells": [
  {
   "cell_type": "markdown",
   "metadata": {},
   "source": [
    "## Notebook to generate participant ids and populate `participants.csv` for nimhans serb pd dataset\n",
    "- This avoids using nimhans generated ids (UHID) in the downstream processing and anonymizes subject names\n",
    "- The mapping between genearated `participant_id` and `UHID` is retained in the uhid_dicom_map.csv"
   ]
  },
  {
   "cell_type": "code",
   "execution_count": null,
   "metadata": {},
   "outputs": [],
   "source": [
    "import pandas as pd\n",
    "import numpy as np\n",
    "import glob\n",
    "import os\n",
    "import re"
   ]
  },
  {
   "cell_type": "markdown",
   "metadata": {},
   "source": [
    "### Paths"
   ]
  },
  {
   "cell_type": "code",
   "execution_count": null,
   "metadata": {},
   "outputs": [],
   "source": [
    "DATASET_ROOT = \"/home/nimhans/projects/data/PD_SERB/\"\n",
    "demographics_file = f\"{DATASET_ROOT}scratch/demographics.csv\"\n",
    "uhid_dicom_map_file = f\"{DATASET_ROOT}scratch/uhid_dicom_map.csv\"\n",
    "participants_csv = f\"{DATASET_ROOT}tabular/demographics/participants.csv\"\n",
    "\n",
    "raw_dicom_dir = f\"{DATASET_ROOT}scratch/raw_dicom/\""
   ]
  },
  {
   "cell_type": "markdown",
   "metadata": {},
   "source": [
    "### Read demographics file"
   ]
  },
  {
   "cell_type": "code",
   "execution_count": null,
   "metadata": {},
   "outputs": [],
   "source": [
    "demo_df = pd.read_csv(demographics_file,index_col=[0])\n",
    "n_participants = len(demo_df)\n",
    "print(f\"Number of participants in demographics file: {n_participants}\")\n",
    "demo_df.head()"
   ]
  },
  {
   "cell_type": "markdown",
   "metadata": {},
   "source": [
    "### Identify DICOM filenames and Diagnosis based on data on disk"
   ]
  },
  {
   "cell_type": "code",
   "execution_count": null,
   "metadata": {},
   "outputs": [],
   "source": [
    "def parse_raw_dicom_filenames(raw_dicom_dir):\n",
    "    raw_dicom_dir_names = os.listdir(raw_dicom_dir)\n",
    "\n",
    "    raw_dir_name_list = []\n",
    "    UHID_list = []\n",
    "    for dir_name in raw_dicom_dir_names:\n",
    "        try:\n",
    "            UHID = re.split('-|_| ', dir_name)[0]\n",
    "        except Exception as ex:\n",
    "            print(ex)\n",
    "            \n",
    "        raw_dir_name_list.append(f\"{raw_dicom_dir}/{dir_name}\")\n",
    "        UHID_list.append(UHID)\n",
    "\n",
    "    raw_dicom_df = pd.DataFrame()\n",
    "    raw_dicom_df[\"UHID\"] = UHID_list\n",
    "    raw_dicom_df[\"raw_dir_name\"] = raw_dir_name_list\n",
    "\n",
    "    return raw_dicom_df"
   ]
  },
  {
   "cell_type": "code",
   "execution_count": null,
   "metadata": {},
   "outputs": [],
   "source": [
    "control_participants_dir = f\"{raw_dicom_dir}/controls/\"\n",
    "\n",
    "control_raw_dicom_df = parse_raw_dicom_filenames(control_participants_dir)\n",
    "control_raw_dicom_df[\"group\"] = \"control\"\n",
    "n_raw_dicom_dirs = len(control_raw_dicom_df)\n",
    "print(f\"Number of control raw_dicom_dirs: {n_raw_dicom_dirs}\")\n",
    "\n",
    "pd_participants_dir = f\"{raw_dicom_dir}/pd/\"\n",
    "\n",
    "pd_raw_dicom_df = parse_raw_dicom_filenames(pd_participants_dir)\n",
    "n_raw_dicom_dirs = len(pd_raw_dicom_df)\n",
    "print(f\"Number of pd raw_dicom_dirs: {n_raw_dicom_dirs}\")\n",
    "pd_raw_dicom_df[\"group\"] = \"PD\"\n",
    "\n",
    "raw_dicom_df = pd.concat([control_raw_dicom_df,pd_raw_dicom_df],axis=0)\n",
    "\n",
    "raw_dicom_df.head()"
   ]
  },
  {
   "cell_type": "markdown",
   "metadata": {},
   "source": [
    "### Compare UHID lists from demographics and DICOM data"
   ]
  },
  {
   "cell_type": "code",
   "execution_count": null,
   "metadata": {},
   "outputs": [],
   "source": [
    "raw_dicom_uhid = set(raw_dicom_df[\"UHID\"])\n",
    "demo_uhid = set(demo_df[\"UHID\"])\n",
    "\n",
    "demo_minus_dicom_uhid = demo_uhid - raw_dicom_uhid\n",
    "dicom_minus_demo_uhid = raw_dicom_uhid - demo_uhid\n",
    "\n",
    "print(f\"{len(demo_minus_dicom_uhid)} demo_missing_dicom_uhid:\\n{demo_minus_dicom_uhid}\")\n",
    "\n",
    "print(f\"\\n{len(dicom_minus_demo_uhid)} dicom_missing_demo_uhid:\\n{dicom_minus_demo_uhid}\")\n"
   ]
  },
  {
   "cell_type": "markdown",
   "metadata": {},
   "source": [
    "### Append demo df with \n",
    "    - Newly generated participant_id \n",
    "    - Group column (i.e. Dx for the participant)"
   ]
  },
  {
   "cell_type": "code",
   "execution_count": null,
   "metadata": {},
   "outputs": [],
   "source": [
    "ds_prefix = \"SERB\"\n",
    "n_participants_len = len(str(n_participants))\n",
    "participant_ids = np.arange(1, n_participants+1)\n",
    "participant_ids_str = [ds_prefix + str(idx).zfill(n_participants_len) for idx in participant_ids]        \n",
    "\n",
    "demo_df[\"participant_id\"] = participant_ids_str\n",
    "demo_df = pd.merge(demo_df, raw_dicom_df, on=\"UHID\", how=\"inner\")\n",
    "\n",
    "print(f\"Number participants with available MR data: {len(demo_df)}\")\n",
    "demo_df.head()"
   ]
  },
  {
   "cell_type": "markdown",
   "metadata": {},
   "source": [
    "### Save uhid_dicom_map file \n",
    "- participants_id --> UHID mapping --> raw_dicom_dir names to be renamed with [organize_dicoms.py](./organize_dicoms.py)\n",
    "- Note that UHID is still part of the dicom header, but that can be stripped when converting to Niftis"
   ]
  },
  {
   "cell_type": "code",
   "execution_count": null,
   "metadata": {},
   "outputs": [],
   "source": [
    "uhid_dicom_map_df = demo_df[[\"participant_id\",\"UHID\",\"raw_dir_name\"]]\n",
    "\n",
    "uhid_dicom_map_df.to_csv(uhid_dicom_map_file, index=None)\n",
    "print(f\"Saving uhid_dicom_map here: {uhid_dicom_map_file}\")\n",
    "\n",
    "uhid_dicom_map_df.head()"
   ]
  },
  {
   "cell_type": "markdown",
   "metadata": {},
   "source": [
    "### Populate participants.csv for `mr_proc` based organization and processing"
   ]
  },
  {
   "cell_type": "code",
   "execution_count": null,
   "metadata": {},
   "outputs": [],
   "source": [
    "participant_df = pd.read_csv(participants_csv)\n",
    "participant_df[\"participant_id\"] = demo_df[\"participant_id\"]\n",
    "participant_df[\"age\"] = demo_df[\"Age\"]\n",
    "participant_df[\"sex\"] = demo_df[\"Gender (0_F 1_M)\"]\n",
    "participant_df[\"sex\"] = participant_df[\"sex\"].replace({0:\"F\", 1:\"M\"})\n",
    "participant_df[\"group\"] = demo_df[\"group\"]\n",
    "\n",
    "print(f\"Number of participants: {len(participant_df)}\")\n",
    "participant_df.head()"
   ]
  },
  {
   "cell_type": "markdown",
   "metadata": {},
   "source": [
    "### Save participants.csv"
   ]
  },
  {
   "cell_type": "code",
   "execution_count": null,
   "metadata": {},
   "outputs": [],
   "source": [
    "participant_df.to_csv(participants_csv, index=None)\n",
    "print(f\"Saving file here: {participants_csv}\")"
   ]
  },
  {
   "cell_type": "code",
   "execution_count": null,
   "metadata": {},
   "outputs": [],
   "source": []
  }
 ],
 "metadata": {
  "kernelspec": {
   "display_name": "Python 3.10.6 64-bit",
   "language": "python",
   "name": "python3"
  },
  "language_info": {
   "codemirror_mode": {
    "name": "ipython",
    "version": 3
   },
   "file_extension": ".py",
   "mimetype": "text/x-python",
   "name": "python",
   "nbconvert_exporter": "python",
   "pygments_lexer": "ipython3",
   "version": "3.10.6"
  },
  "orig_nbformat": 4,
  "vscode": {
   "interpreter": {
    "hash": "916dbcbb3f70747c44a77c7bcd40155683ae19c65e1c03b4aa3499c5328201f1"
   }
  }
 },
 "nbformat": 4,
 "nbformat_minor": 2
}
