{
 "cells": [
  {
   "cell_type": "markdown",
   "metadata": {},
   "source": [
    "## Notebook to generate participant ids and populate `participants.csv` for nimhans serb pd dataset\n",
    "- This avoids using nimhans generated ids (UHID) in the downstream processing and anonymizes subject names\n",
    "- The mapping between genearated `participant_id` and `UHID` is retained in the uhid_dicom_map.csv\n",
    "\n",
    "### Important notes\n",
    "- If `organize_dicoms.py` is already run on your dataset which renames the raw_dicoms into mr_proc organization based on genearated `participant_id`, then DONOT use this notebook to re-create `participants_csv` and `uhid_dicom_map_file`. This may break the correspondance between existing renamed dicoms in mr_proc and `UHID` and consequently demographic data. If you have only a few new subjects to add, do it manually inside `participants_csv` and `uhid_dicom_map_file`. This notebooks is meant to work on a completely \"new\" dataset and requires running of `organize_dicoms.py` after new participant_ids are generated. "
   ]
  },
  {
   "cell_type": "code",
   "execution_count": 2,
   "metadata": {},
   "outputs": [],
   "source": [
    "import pandas as pd\n",
    "import numpy as np\n",
    "import glob\n",
    "import os\n",
    "import re\n",
    "from pathlib import Path"
   ]
  },
  {
   "cell_type": "markdown",
   "metadata": {},
   "source": [
    "### Paths"
   ]
  },
  {
   "cell_type": "code",
   "execution_count": 3,
   "metadata": {},
   "outputs": [],
   "source": [
    "DATASET_ROOT = \"/home/nimhans/projects/data/PD_SERB/\"\n",
    "demographics_file = f\"{DATASET_ROOT}scratch/demographics.csv\"\n",
    "uhid_dicom_map_file = f\"{DATASET_ROOT}scratch/uhid_dicom_map.csv\"\n",
    "participants_csv = f\"{DATASET_ROOT}tabular/demographics/participants.csv\"\n",
    "\n",
    "raw_dicom_dir = f\"{DATASET_ROOT}scratch/raw_dicom/\""
   ]
  },
  {
   "cell_type": "markdown",
   "metadata": {},
   "source": [
    "### Read demographics file"
   ]
  },
  {
   "cell_type": "code",
   "execution_count": 4,
   "metadata": {},
   "outputs": [
    {
     "name": "stdout",
     "output_type": "stream",
     "text": [
      "Number of participants in demographics file: 102\n"
     ]
    },
    {
     "data": {
      "text/html": [
       "<div>\n",
       "<style scoped>\n",
       "    .dataframe tbody tr th:only-of-type {\n",
       "        vertical-align: middle;\n",
       "    }\n",
       "\n",
       "    .dataframe tbody tr th {\n",
       "        vertical-align: top;\n",
       "    }\n",
       "\n",
       "    .dataframe thead th {\n",
       "        text-align: right;\n",
       "    }\n",
       "</style>\n",
       "<table border=\"1\" class=\"dataframe\">\n",
       "  <thead>\n",
       "    <tr style=\"text-align: right;\">\n",
       "      <th></th>\n",
       "      <th>Name</th>\n",
       "      <th>UHID</th>\n",
       "      <th>D.O.A</th>\n",
       "      <th>Age</th>\n",
       "      <th>Gender (0_F 1_M)</th>\n",
       "      <th>Education</th>\n",
       "    </tr>\n",
       "    <tr>\n",
       "      <th>SL.NO</th>\n",
       "      <th></th>\n",
       "      <th></th>\n",
       "      <th></th>\n",
       "      <th></th>\n",
       "      <th></th>\n",
       "      <th></th>\n",
       "    </tr>\n",
       "  </thead>\n",
       "  <tbody>\n",
       "    <tr>\n",
       "      <th>1</th>\n",
       "      <td>Omana P</td>\n",
       "      <td>20190051791</td>\n",
       "      <td>04.05.2019</td>\n",
       "      <td>44.0</td>\n",
       "      <td>0.0</td>\n",
       "      <td>12.0</td>\n",
       "    </tr>\n",
       "    <tr>\n",
       "      <th>2</th>\n",
       "      <td>Tapan Kumar</td>\n",
       "      <td>20130087469</td>\n",
       "      <td>06.06.2019</td>\n",
       "      <td>45.0</td>\n",
       "      <td>1.0</td>\n",
       "      <td>12.0</td>\n",
       "    </tr>\n",
       "    <tr>\n",
       "      <th>3</th>\n",
       "      <td>Braj Bhushan Prasad</td>\n",
       "      <td>20170107419</td>\n",
       "      <td>14.05.2019</td>\n",
       "      <td>66.0</td>\n",
       "      <td>1.0</td>\n",
       "      <td>15.0</td>\n",
       "    </tr>\n",
       "    <tr>\n",
       "      <th>4</th>\n",
       "      <td>Ramesh R</td>\n",
       "      <td>20190032049</td>\n",
       "      <td>19.07.2019</td>\n",
       "      <td>42.0</td>\n",
       "      <td>1.0</td>\n",
       "      <td>10.0</td>\n",
       "    </tr>\n",
       "    <tr>\n",
       "      <th>5</th>\n",
       "      <td>Samsani Naga Brahmananda Rao</td>\n",
       "      <td>20180094521</td>\n",
       "      <td>24.07.2019</td>\n",
       "      <td>62.0</td>\n",
       "      <td>1.0</td>\n",
       "      <td>11.0</td>\n",
       "    </tr>\n",
       "  </tbody>\n",
       "</table>\n",
       "</div>"
      ],
      "text/plain": [
       "                               Name         UHID       D.O.A   Age  \\\n",
       "SL.NO                                                                \n",
       "1                           Omana P  20190051791  04.05.2019  44.0   \n",
       "2                       Tapan Kumar  20130087469  06.06.2019  45.0   \n",
       "3               Braj Bhushan Prasad  20170107419  14.05.2019  66.0   \n",
       "4                          Ramesh R  20190032049  19.07.2019  42.0   \n",
       "5      Samsani Naga Brahmananda Rao  20180094521  24.07.2019  62.0   \n",
       "\n",
       "       Gender (0_F 1_M)  Education  \n",
       "SL.NO                               \n",
       "1                   0.0       12.0  \n",
       "2                   1.0       12.0  \n",
       "3                   1.0       15.0  \n",
       "4                   1.0       10.0  \n",
       "5                   1.0       11.0  "
      ]
     },
     "execution_count": 4,
     "metadata": {},
     "output_type": "execute_result"
    }
   ],
   "source": [
    "demo_df = pd.read_csv(demographics_file,index_col=[0])\n",
    "n_participants = len(demo_df)\n",
    "print(f\"Number of participants in demographics file: {n_participants}\")\n",
    "demo_df.head()"
   ]
  },
  {
   "cell_type": "markdown",
   "metadata": {},
   "source": [
    "### Check duplicates"
   ]
  },
  {
   "cell_type": "code",
   "execution_count": 5,
   "metadata": {},
   "outputs": [
    {
     "name": "stdout",
     "output_type": "stream",
     "text": [
      "Duplicate Names: ['Raj Kumar Das' 'Rajkumar Das' 'Biman Roy ' 'Asit Mirdha ']\n",
      "Duplicate UHIDs: ['20190133585', '20140044001']\n"
     ]
    },
    {
     "data": {
      "text/html": [
       "<div>\n",
       "<style scoped>\n",
       "    .dataframe tbody tr th:only-of-type {\n",
       "        vertical-align: middle;\n",
       "    }\n",
       "\n",
       "    .dataframe tbody tr th {\n",
       "        vertical-align: top;\n",
       "    }\n",
       "\n",
       "    .dataframe thead th {\n",
       "        text-align: right;\n",
       "    }\n",
       "</style>\n",
       "<table border=\"1\" class=\"dataframe\">\n",
       "  <thead>\n",
       "    <tr style=\"text-align: right;\">\n",
       "      <th></th>\n",
       "      <th>Name</th>\n",
       "      <th>UHID</th>\n",
       "      <th>D.O.A</th>\n",
       "      <th>Age</th>\n",
       "      <th>Gender (0_F 1_M)</th>\n",
       "      <th>Education</th>\n",
       "    </tr>\n",
       "    <tr>\n",
       "      <th>SL.NO</th>\n",
       "      <th></th>\n",
       "      <th></th>\n",
       "      <th></th>\n",
       "      <th></th>\n",
       "      <th></th>\n",
       "      <th></th>\n",
       "    </tr>\n",
       "  </thead>\n",
       "  <tbody>\n",
       "    <tr>\n",
       "      <th>18</th>\n",
       "      <td>Raj Kumar Das</td>\n",
       "      <td>20190133585</td>\n",
       "      <td>17.10.2019</td>\n",
       "      <td>47.0</td>\n",
       "      <td>1.0</td>\n",
       "      <td>10.0</td>\n",
       "    </tr>\n",
       "    <tr>\n",
       "      <th>35</th>\n",
       "      <td>Rajkumar Das</td>\n",
       "      <td>20190133585</td>\n",
       "      <td>17.10.2019</td>\n",
       "      <td>47.0</td>\n",
       "      <td>1.0</td>\n",
       "      <td>10.0</td>\n",
       "    </tr>\n",
       "    <tr>\n",
       "      <th>45</th>\n",
       "      <td>Biman Roy</td>\n",
       "      <td>20140044001</td>\n",
       "      <td>31.07.2019</td>\n",
       "      <td>61.0</td>\n",
       "      <td>1.0</td>\n",
       "      <td>15.0</td>\n",
       "    </tr>\n",
       "    <tr>\n",
       "      <th>47</th>\n",
       "      <td>Asit Mirdha</td>\n",
       "      <td>20140044001</td>\n",
       "      <td>05.08.2019</td>\n",
       "      <td>50.0</td>\n",
       "      <td>1.0</td>\n",
       "      <td>15.0</td>\n",
       "    </tr>\n",
       "  </tbody>\n",
       "</table>\n",
       "</div>"
      ],
      "text/plain": [
       "                Name         UHID       D.O.A   Age  Gender (0_F 1_M)  \\\n",
       "SL.NO                                                                   \n",
       "18     Raj Kumar Das  20190133585  17.10.2019  47.0               1.0   \n",
       "35      Rajkumar Das  20190133585  17.10.2019  47.0               1.0   \n",
       "45        Biman Roy   20140044001  31.07.2019  61.0               1.0   \n",
       "47      Asit Mirdha   20140044001  05.08.2019  50.0               1.0   \n",
       "\n",
       "       Education  \n",
       "SL.NO             \n",
       "18          10.0  \n",
       "35          10.0  \n",
       "45          15.0  \n",
       "47          15.0  "
      ]
     },
     "execution_count": 5,
     "metadata": {},
     "output_type": "execute_result"
    }
   ],
   "source": [
    "duplicate_uhid = demo_df[demo_df[\"UHID\"].duplicated()][\"UHID\"]\n",
    "duplicate_names = demo_df[demo_df[\"UHID\"].isin(duplicate_uhid)][\"Name\"].values\n",
    "print(f\"Duplicate Names: {duplicate_names}\\nDuplicate UHIDs: {list(duplicate_uhid)}\")\n",
    "demo_df[demo_df[\"UHID\"].isin(duplicate_uhid)]"
   ]
  },
  {
   "cell_type": "markdown",
   "metadata": {},
   "source": [
    "### Remove duplicates"
   ]
  },
  {
   "cell_type": "code",
   "execution_count": 6,
   "metadata": {},
   "outputs": [
    {
     "name": "stdout",
     "output_type": "stream",
     "text": [
      "Number of participants in demographics file after duplicate removal: 99\n"
     ]
    },
    {
     "data": {
      "text/html": [
       "<div>\n",
       "<style scoped>\n",
       "    .dataframe tbody tr th:only-of-type {\n",
       "        vertical-align: middle;\n",
       "    }\n",
       "\n",
       "    .dataframe tbody tr th {\n",
       "        vertical-align: top;\n",
       "    }\n",
       "\n",
       "    .dataframe thead th {\n",
       "        text-align: right;\n",
       "    }\n",
       "</style>\n",
       "<table border=\"1\" class=\"dataframe\">\n",
       "  <thead>\n",
       "    <tr style=\"text-align: right;\">\n",
       "      <th></th>\n",
       "      <th>Name</th>\n",
       "      <th>UHID</th>\n",
       "      <th>D.O.A</th>\n",
       "      <th>Age</th>\n",
       "      <th>Gender (0_F 1_M)</th>\n",
       "      <th>Education</th>\n",
       "    </tr>\n",
       "    <tr>\n",
       "      <th>SL.NO</th>\n",
       "      <th></th>\n",
       "      <th></th>\n",
       "      <th></th>\n",
       "      <th></th>\n",
       "      <th></th>\n",
       "      <th></th>\n",
       "    </tr>\n",
       "  </thead>\n",
       "  <tbody>\n",
       "    <tr>\n",
       "      <th>1</th>\n",
       "      <td>Omana P</td>\n",
       "      <td>20190051791</td>\n",
       "      <td>04.05.2019</td>\n",
       "      <td>44.0</td>\n",
       "      <td>0.0</td>\n",
       "      <td>12.0</td>\n",
       "    </tr>\n",
       "    <tr>\n",
       "      <th>2</th>\n",
       "      <td>Tapan Kumar</td>\n",
       "      <td>20130087469</td>\n",
       "      <td>06.06.2019</td>\n",
       "      <td>45.0</td>\n",
       "      <td>1.0</td>\n",
       "      <td>12.0</td>\n",
       "    </tr>\n",
       "    <tr>\n",
       "      <th>3</th>\n",
       "      <td>Braj Bhushan Prasad</td>\n",
       "      <td>20170107419</td>\n",
       "      <td>14.05.2019</td>\n",
       "      <td>66.0</td>\n",
       "      <td>1.0</td>\n",
       "      <td>15.0</td>\n",
       "    </tr>\n",
       "    <tr>\n",
       "      <th>4</th>\n",
       "      <td>Ramesh R</td>\n",
       "      <td>20190032049</td>\n",
       "      <td>19.07.2019</td>\n",
       "      <td>42.0</td>\n",
       "      <td>1.0</td>\n",
       "      <td>10.0</td>\n",
       "    </tr>\n",
       "    <tr>\n",
       "      <th>5</th>\n",
       "      <td>Samsani Naga Brahmananda Rao</td>\n",
       "      <td>20180094521</td>\n",
       "      <td>24.07.2019</td>\n",
       "      <td>62.0</td>\n",
       "      <td>1.0</td>\n",
       "      <td>11.0</td>\n",
       "    </tr>\n",
       "  </tbody>\n",
       "</table>\n",
       "</div>"
      ],
      "text/plain": [
       "                               Name         UHID       D.O.A   Age  \\\n",
       "SL.NO                                                                \n",
       "1                           Omana P  20190051791  04.05.2019  44.0   \n",
       "2                       Tapan Kumar  20130087469  06.06.2019  45.0   \n",
       "3               Braj Bhushan Prasad  20170107419  14.05.2019  66.0   \n",
       "4                          Ramesh R  20190032049  19.07.2019  42.0   \n",
       "5      Samsani Naga Brahmananda Rao  20180094521  24.07.2019  62.0   \n",
       "\n",
       "       Gender (0_F 1_M)  Education  \n",
       "SL.NO                               \n",
       "1                   0.0       12.0  \n",
       "2                   1.0       12.0  \n",
       "3                   1.0       15.0  \n",
       "4                   1.0       10.0  \n",
       "5                   1.0       11.0  "
      ]
     },
     "execution_count": 6,
     "metadata": {},
     "output_type": "execute_result"
    }
   ],
   "source": [
    "exclusion_list = [\"Rajkumar Das\",\"Biman Roy \",\"Asit Mirdha \"]\n",
    "demo_df = demo_df[~demo_df[\"Name\"].isin(exclusion_list)].copy()\n",
    "\n",
    "n_participants = len(demo_df)\n",
    "print(f\"Number of participants in demographics file after duplicate removal: {n_participants}\")\n",
    "demo_df.head()"
   ]
  },
  {
   "cell_type": "markdown",
   "metadata": {},
   "source": [
    "## Generate new participant_ids\n",
    "### Need to do this only once. \n",
    "### Subsequently just add rows directly to the CSVs: `uhid_dicom_map_file` and `participants_csv`."
   ]
  },
  {
   "cell_type": "code",
   "execution_count": 7,
   "metadata": {},
   "outputs": [
    {
     "name": "stdout",
     "output_type": "stream",
     "text": [
      "Creating 99 new participant ids\n"
     ]
    },
    {
     "data": {
      "text/html": [
       "<div>\n",
       "<style scoped>\n",
       "    .dataframe tbody tr th:only-of-type {\n",
       "        vertical-align: middle;\n",
       "    }\n",
       "\n",
       "    .dataframe tbody tr th {\n",
       "        vertical-align: top;\n",
       "    }\n",
       "\n",
       "    .dataframe thead th {\n",
       "        text-align: right;\n",
       "    }\n",
       "</style>\n",
       "<table border=\"1\" class=\"dataframe\">\n",
       "  <thead>\n",
       "    <tr style=\"text-align: right;\">\n",
       "      <th></th>\n",
       "      <th>Name</th>\n",
       "      <th>UHID</th>\n",
       "      <th>D.O.A</th>\n",
       "      <th>Age</th>\n",
       "      <th>Gender (0_F 1_M)</th>\n",
       "      <th>Education</th>\n",
       "      <th>participant_id</th>\n",
       "    </tr>\n",
       "    <tr>\n",
       "      <th>SL.NO</th>\n",
       "      <th></th>\n",
       "      <th></th>\n",
       "      <th></th>\n",
       "      <th></th>\n",
       "      <th></th>\n",
       "      <th></th>\n",
       "      <th></th>\n",
       "    </tr>\n",
       "  </thead>\n",
       "  <tbody>\n",
       "    <tr>\n",
       "      <th>1</th>\n",
       "      <td>Omana P</td>\n",
       "      <td>20190051791</td>\n",
       "      <td>04.05.2019</td>\n",
       "      <td>44.0</td>\n",
       "      <td>0.0</td>\n",
       "      <td>12.0</td>\n",
       "      <td>SERB01</td>\n",
       "    </tr>\n",
       "    <tr>\n",
       "      <th>2</th>\n",
       "      <td>Tapan Kumar</td>\n",
       "      <td>20130087469</td>\n",
       "      <td>06.06.2019</td>\n",
       "      <td>45.0</td>\n",
       "      <td>1.0</td>\n",
       "      <td>12.0</td>\n",
       "      <td>SERB02</td>\n",
       "    </tr>\n",
       "    <tr>\n",
       "      <th>3</th>\n",
       "      <td>Braj Bhushan Prasad</td>\n",
       "      <td>20170107419</td>\n",
       "      <td>14.05.2019</td>\n",
       "      <td>66.0</td>\n",
       "      <td>1.0</td>\n",
       "      <td>15.0</td>\n",
       "      <td>SERB03</td>\n",
       "    </tr>\n",
       "    <tr>\n",
       "      <th>4</th>\n",
       "      <td>Ramesh R</td>\n",
       "      <td>20190032049</td>\n",
       "      <td>19.07.2019</td>\n",
       "      <td>42.0</td>\n",
       "      <td>1.0</td>\n",
       "      <td>10.0</td>\n",
       "      <td>SERB04</td>\n",
       "    </tr>\n",
       "    <tr>\n",
       "      <th>5</th>\n",
       "      <td>Samsani Naga Brahmananda Rao</td>\n",
       "      <td>20180094521</td>\n",
       "      <td>24.07.2019</td>\n",
       "      <td>62.0</td>\n",
       "      <td>1.0</td>\n",
       "      <td>11.0</td>\n",
       "      <td>SERB05</td>\n",
       "    </tr>\n",
       "  </tbody>\n",
       "</table>\n",
       "</div>"
      ],
      "text/plain": [
       "                               Name         UHID       D.O.A   Age  \\\n",
       "SL.NO                                                                \n",
       "1                           Omana P  20190051791  04.05.2019  44.0   \n",
       "2                       Tapan Kumar  20130087469  06.06.2019  45.0   \n",
       "3               Braj Bhushan Prasad  20170107419  14.05.2019  66.0   \n",
       "4                          Ramesh R  20190032049  19.07.2019  42.0   \n",
       "5      Samsani Naga Brahmananda Rao  20180094521  24.07.2019  62.0   \n",
       "\n",
       "       Gender (0_F 1_M)  Education participant_id  \n",
       "SL.NO                                              \n",
       "1                   0.0       12.0         SERB01  \n",
       "2                   1.0       12.0         SERB02  \n",
       "3                   1.0       15.0         SERB03  \n",
       "4                   1.0       10.0         SERB04  \n",
       "5                   1.0       11.0         SERB05  "
      ]
     },
     "execution_count": 7,
     "metadata": {},
     "output_type": "execute_result"
    }
   ],
   "source": [
    "ds_prefix = \"SERB\"\n",
    "n_participants_len = len(str(n_participants))\n",
    "participant_ids = np.arange(1, n_participants+1)\n",
    "participant_ids_str = [ds_prefix + str(idx).zfill(n_participants_len) for idx in participant_ids]    \n",
    "\n",
    "print(f\"Creating {len(participant_ids)} new participant ids\")\n",
    "\n",
    "demo_df[\"participant_id\"] = participant_ids_str\n",
    "\n",
    "demo_df.head()"
   ]
  },
  {
   "cell_type": "markdown",
   "metadata": {},
   "source": [
    "### Identify DICOM filenames and Diagnosis based on data on disk"
   ]
  },
  {
   "cell_type": "code",
   "execution_count": 8,
   "metadata": {},
   "outputs": [],
   "source": [
    "def parse_raw_dicom_filenames(raw_dicom_dir):\n",
    "    raw_dicom_dir_names = os.listdir(raw_dicom_dir)\n",
    "\n",
    "    raw_dir_name_list = []\n",
    "    UHID_list = []\n",
    "    for dir_name in raw_dicom_dir_names:\n",
    "        try:\n",
    "            UHID = re.split('-|_| ', dir_name)[0]\n",
    "        except Exception as ex:\n",
    "            print(ex)\n",
    "            \n",
    "        raw_dir_name_list.append(f\"{raw_dicom_dir}/{dir_name}\")\n",
    "        UHID_list.append(UHID)\n",
    "\n",
    "    raw_dicom_df = pd.DataFrame()\n",
    "    raw_dicom_df[\"UHID\"] = UHID_list\n",
    "    raw_dicom_df[\"raw_dir_name\"] = raw_dir_name_list\n",
    "\n",
    "    return raw_dicom_df"
   ]
  },
  {
   "cell_type": "code",
   "execution_count": 9,
   "metadata": {},
   "outputs": [
    {
     "name": "stdout",
     "output_type": "stream",
     "text": [
      "Number of control raw_dicom_dirs: 22\n",
      "Number of pd raw_dicom_dirs: 69\n"
     ]
    },
    {
     "data": {
      "text/html": [
       "<div>\n",
       "<style scoped>\n",
       "    .dataframe tbody tr th:only-of-type {\n",
       "        vertical-align: middle;\n",
       "    }\n",
       "\n",
       "    .dataframe tbody tr th {\n",
       "        vertical-align: top;\n",
       "    }\n",
       "\n",
       "    .dataframe thead th {\n",
       "        text-align: right;\n",
       "    }\n",
       "</style>\n",
       "<table border=\"1\" class=\"dataframe\">\n",
       "  <thead>\n",
       "    <tr style=\"text-align: right;\">\n",
       "      <th></th>\n",
       "      <th>UHID</th>\n",
       "      <th>raw_dir_name</th>\n",
       "      <th>group</th>\n",
       "    </tr>\n",
       "  </thead>\n",
       "  <tbody>\n",
       "    <tr>\n",
       "      <th>0</th>\n",
       "      <td>PJ19001297</td>\n",
       "      <td>/home/nimhans/projects/data/PD_SERB/scratch/ra...</td>\n",
       "      <td>control</td>\n",
       "    </tr>\n",
       "    <tr>\n",
       "      <th>1</th>\n",
       "      <td>MANOHAR</td>\n",
       "      <td>/home/nimhans/projects/data/PD_SERB/scratch/ra...</td>\n",
       "      <td>control</td>\n",
       "    </tr>\n",
       "    <tr>\n",
       "      <th>2</th>\n",
       "      <td>PJ21000356</td>\n",
       "      <td>/home/nimhans/projects/data/PD_SERB/scratch/ra...</td>\n",
       "      <td>control</td>\n",
       "    </tr>\n",
       "    <tr>\n",
       "      <th>3</th>\n",
       "      <td>PJ19001294</td>\n",
       "      <td>/home/nimhans/projects/data/PD_SERB/scratch/ra...</td>\n",
       "      <td>control</td>\n",
       "    </tr>\n",
       "    <tr>\n",
       "      <th>4</th>\n",
       "      <td>PJ22000050</td>\n",
       "      <td>/home/nimhans/projects/data/PD_SERB/scratch/ra...</td>\n",
       "      <td>control</td>\n",
       "    </tr>\n",
       "  </tbody>\n",
       "</table>\n",
       "</div>"
      ],
      "text/plain": [
       "         UHID                                       raw_dir_name    group\n",
       "0  PJ19001297  /home/nimhans/projects/data/PD_SERB/scratch/ra...  control\n",
       "1     MANOHAR  /home/nimhans/projects/data/PD_SERB/scratch/ra...  control\n",
       "2  PJ21000356  /home/nimhans/projects/data/PD_SERB/scratch/ra...  control\n",
       "3  PJ19001294  /home/nimhans/projects/data/PD_SERB/scratch/ra...  control\n",
       "4  PJ22000050  /home/nimhans/projects/data/PD_SERB/scratch/ra...  control"
      ]
     },
     "execution_count": 9,
     "metadata": {},
     "output_type": "execute_result"
    }
   ],
   "source": [
    "control_participants_dir = f\"{raw_dicom_dir}/controls/\"\n",
    "\n",
    "control_raw_dicom_df = parse_raw_dicom_filenames(control_participants_dir)\n",
    "control_raw_dicom_df[\"group\"] = \"control\"\n",
    "n_raw_dicom_dirs = len(control_raw_dicom_df)\n",
    "print(f\"Number of control raw_dicom_dirs: {n_raw_dicom_dirs}\")\n",
    "\n",
    "pd_participants_dir = f\"{raw_dicom_dir}/PD/\"\n",
    "\n",
    "pd_raw_dicom_df = parse_raw_dicom_filenames(pd_participants_dir)\n",
    "n_raw_dicom_dirs = len(pd_raw_dicom_df)\n",
    "print(f\"Number of pd raw_dicom_dirs: {n_raw_dicom_dirs}\")\n",
    "pd_raw_dicom_df[\"group\"] = \"PD\"\n",
    "\n",
    "raw_dicom_df = pd.concat([control_raw_dicom_df,pd_raw_dicom_df],axis=0)\n",
    "\n",
    "raw_dicom_df.head()"
   ]
  },
  {
   "cell_type": "markdown",
   "metadata": {},
   "source": [
    "### Check duplicates"
   ]
  },
  {
   "cell_type": "code",
   "execution_count": 10,
   "metadata": {},
   "outputs": [
    {
     "name": "stdout",
     "output_type": "stream",
     "text": [
      "Duplicate Names: []\n",
      "Duplicate UHIDs: []\n"
     ]
    },
    {
     "data": {
      "text/html": [
       "<div>\n",
       "<style scoped>\n",
       "    .dataframe tbody tr th:only-of-type {\n",
       "        vertical-align: middle;\n",
       "    }\n",
       "\n",
       "    .dataframe tbody tr th {\n",
       "        vertical-align: top;\n",
       "    }\n",
       "\n",
       "    .dataframe thead th {\n",
       "        text-align: right;\n",
       "    }\n",
       "</style>\n",
       "<table border=\"1\" class=\"dataframe\">\n",
       "  <thead>\n",
       "    <tr style=\"text-align: right;\">\n",
       "      <th></th>\n",
       "      <th>UHID</th>\n",
       "      <th>raw_dir_name</th>\n",
       "      <th>group</th>\n",
       "    </tr>\n",
       "  </thead>\n",
       "  <tbody>\n",
       "  </tbody>\n",
       "</table>\n",
       "</div>"
      ],
      "text/plain": [
       "Empty DataFrame\n",
       "Columns: [UHID, raw_dir_name, group]\n",
       "Index: []"
      ]
     },
     "execution_count": 10,
     "metadata": {},
     "output_type": "execute_result"
    }
   ],
   "source": [
    "duplicate_uhid = raw_dicom_df[raw_dicom_df[\"UHID\"].duplicated()][\"UHID\"]\n",
    "duplicate_names = raw_dicom_df[raw_dicom_df[\"UHID\"].isin(duplicate_uhid)][\"raw_dir_name\"].values\n",
    "print(f\"Duplicate Names: {duplicate_names}\\nDuplicate UHIDs: {list(duplicate_uhid)}\")\n",
    "raw_dicom_df[raw_dicom_df[\"UHID\"].isin(duplicate_uhid)]"
   ]
  },
  {
   "cell_type": "code",
   "execution_count": 11,
   "metadata": {},
   "outputs": [
    {
     "name": "stdout",
     "output_type": "stream",
     "text": [
      "25 subjects in demo are missing dicom:\n",
      "{'2021', '20210006263', '20190142414', '20210030843', 'PJ21000335', '20210017670', 'PJ21000332', 'PJ19001653', '2017007959', '20190032049', '20170107419', '20180094521', '20170133455', '20210043218', 'PJ2100199', '20190114475', 'PJ21000348', '2020785098', '20150094898', '20190107946', '2021097509', '20210056722', 'PJ19001582', '2019417864', '20150074405'}\n",
      "\n",
      "17 subjects with dicom are missing demo_uhid:\n",
      "{'20140044001', '20210005183', '20210055462', '20190109746', '20180033695', '20210006323', '20190041062', 'PJ22000051', '20150060949', 'PJ21000199', '20210069906', '20170079594', 'PJ22000050', 'PJ21000464', 'MANOHAR', '20210084672', 'PJ19001554'}\n"
     ]
    }
   ],
   "source": [
    "raw_dicom_uhid = set(raw_dicom_df[\"UHID\"])\n",
    "demo_uhid = set(demo_df[\"UHID\"])\n",
    "\n",
    "demo_minus_dicom_uhid = demo_uhid - raw_dicom_uhid\n",
    "dicom_minus_demo_uhid = raw_dicom_uhid - demo_uhid\n",
    "\n",
    "print(f\"{len(demo_minus_dicom_uhid)} subjects in demo are missing dicom:\\n{demo_minus_dicom_uhid}\")\n",
    "\n",
    "print(f\"\\n{len(dicom_minus_demo_uhid)} subjects with dicom are missing demo_uhid:\\n{dicom_minus_demo_uhid}\")\n"
   ]
  },
  {
   "cell_type": "markdown",
   "metadata": {},
   "source": [
    "### Generate (participant_id, uhid, raw_dicom_dir) mapping for available raw_dicom_dirs"
   ]
  },
  {
   "cell_type": "code",
   "execution_count": 12,
   "metadata": {},
   "outputs": [
    {
     "name": "stdout",
     "output_type": "stream",
     "text": [
      "Number participants with available MR data: 74\n"
     ]
    },
    {
     "data": {
      "text/html": [
       "<div>\n",
       "<style scoped>\n",
       "    .dataframe tbody tr th:only-of-type {\n",
       "        vertical-align: middle;\n",
       "    }\n",
       "\n",
       "    .dataframe tbody tr th {\n",
       "        vertical-align: top;\n",
       "    }\n",
       "\n",
       "    .dataframe thead th {\n",
       "        text-align: right;\n",
       "    }\n",
       "</style>\n",
       "<table border=\"1\" class=\"dataframe\">\n",
       "  <thead>\n",
       "    <tr style=\"text-align: right;\">\n",
       "      <th></th>\n",
       "      <th>Name</th>\n",
       "      <th>UHID</th>\n",
       "      <th>D.O.A</th>\n",
       "      <th>Age</th>\n",
       "      <th>Gender (0_F 1_M)</th>\n",
       "      <th>Education</th>\n",
       "      <th>participant_id</th>\n",
       "      <th>raw_dir_name</th>\n",
       "      <th>group</th>\n",
       "    </tr>\n",
       "  </thead>\n",
       "  <tbody>\n",
       "    <tr>\n",
       "      <th>0</th>\n",
       "      <td>Omana P</td>\n",
       "      <td>20190051791</td>\n",
       "      <td>04.05.2019</td>\n",
       "      <td>44.0</td>\n",
       "      <td>0.0</td>\n",
       "      <td>12.0</td>\n",
       "      <td>SERB01</td>\n",
       "      <td>/home/nimhans/projects/data/PD_SERB/scratch/ra...</td>\n",
       "      <td>PD</td>\n",
       "    </tr>\n",
       "    <tr>\n",
       "      <th>1</th>\n",
       "      <td>Tapan Kumar</td>\n",
       "      <td>20130087469</td>\n",
       "      <td>06.06.2019</td>\n",
       "      <td>45.0</td>\n",
       "      <td>1.0</td>\n",
       "      <td>12.0</td>\n",
       "      <td>SERB02</td>\n",
       "      <td>/home/nimhans/projects/data/PD_SERB/scratch/ra...</td>\n",
       "      <td>PD</td>\n",
       "    </tr>\n",
       "    <tr>\n",
       "      <th>2</th>\n",
       "      <td>Jaganath Sahoo</td>\n",
       "      <td>20160057261</td>\n",
       "      <td>17.07.2019</td>\n",
       "      <td>52.0</td>\n",
       "      <td>1.0</td>\n",
       "      <td>12.0</td>\n",
       "      <td>SERB06</td>\n",
       "      <td>/home/nimhans/projects/data/PD_SERB/scratch/ra...</td>\n",
       "      <td>PD</td>\n",
       "    </tr>\n",
       "    <tr>\n",
       "      <th>3</th>\n",
       "      <td>Prashant Kumar Nath</td>\n",
       "      <td>20110002870</td>\n",
       "      <td>13.07.2019</td>\n",
       "      <td>61.0</td>\n",
       "      <td>1.0</td>\n",
       "      <td>15.0</td>\n",
       "      <td>SERB07</td>\n",
       "      <td>/home/nimhans/projects/data/PD_SERB/scratch/ra...</td>\n",
       "      <td>PD</td>\n",
       "    </tr>\n",
       "    <tr>\n",
       "      <th>4</th>\n",
       "      <td>Radheshyam Choudhary</td>\n",
       "      <td>20170091137</td>\n",
       "      <td>24.08.2019</td>\n",
       "      <td>62.0</td>\n",
       "      <td>1.0</td>\n",
       "      <td>15.0</td>\n",
       "      <td>SERB09</td>\n",
       "      <td>/home/nimhans/projects/data/PD_SERB/scratch/ra...</td>\n",
       "      <td>PD</td>\n",
       "    </tr>\n",
       "  </tbody>\n",
       "</table>\n",
       "</div>"
      ],
      "text/plain": [
       "                   Name         UHID       D.O.A   Age  Gender (0_F 1_M)  \\\n",
       "0               Omana P  20190051791  04.05.2019  44.0               0.0   \n",
       "1           Tapan Kumar  20130087469  06.06.2019  45.0               1.0   \n",
       "2        Jaganath Sahoo  20160057261  17.07.2019  52.0               1.0   \n",
       "3   Prashant Kumar Nath  20110002870  13.07.2019  61.0               1.0   \n",
       "4  Radheshyam Choudhary  20170091137  24.08.2019  62.0               1.0   \n",
       "\n",
       "   Education participant_id  \\\n",
       "0       12.0         SERB01   \n",
       "1       12.0         SERB02   \n",
       "2       12.0         SERB06   \n",
       "3       15.0         SERB07   \n",
       "4       15.0         SERB09   \n",
       "\n",
       "                                        raw_dir_name group  \n",
       "0  /home/nimhans/projects/data/PD_SERB/scratch/ra...    PD  \n",
       "1  /home/nimhans/projects/data/PD_SERB/scratch/ra...    PD  \n",
       "2  /home/nimhans/projects/data/PD_SERB/scratch/ra...    PD  \n",
       "3  /home/nimhans/projects/data/PD_SERB/scratch/ra...    PD  \n",
       "4  /home/nimhans/projects/data/PD_SERB/scratch/ra...    PD  "
      ]
     },
     "execution_count": 12,
     "metadata": {},
     "output_type": "execute_result"
    }
   ],
   "source": [
    "demo_dicom_avail_df = pd.merge(demo_df, raw_dicom_df, on=\"UHID\", how=\"inner\")\n",
    "uhid_dicom_map_df = demo_dicom_avail_df[[\"participant_id\",\"UHID\",\"raw_dir_name\",\"group\"]].copy()\n",
    "\n",
    "print(f\"Number participants with available MR data: {len(uhid_dicom_map_df)}\")\n",
    "demo_dicom_avail_df.head()"
   ]
  },
  {
   "cell_type": "markdown",
   "metadata": {},
   "source": [
    "### Save uhid_dicom_map file \n",
    "- participants_id --> UHID mapping --> raw_dicom_dir names to be renamed with [organize_dicoms.py](./organize_dicoms.py)\n",
    "- Note that UHID is still part of the dicom header, but that can be stripped when converting to Niftis\n",
    "\n",
    "#### Check if uhid_dicom_map_file already exists (See notes on the top to avoid breaking map beteen demographics and renamed dicom_dirs)\n"
   ]
  },
  {
   "cell_type": "code",
   "execution_count": 14,
   "metadata": {},
   "outputs": [
    {
     "name": "stdout",
     "output_type": "stream",
     "text": [
      "uhid_dicom_map_file already exists\n",
      "Overwritting uhid_dicom_map_file\n",
      "Saving uhid_dicom_map here: /home/nimhans/projects/data/PD_SERB/scratch/uhid_dicom_map.csv\n"
     ]
    },
    {
     "data": {
      "text/html": [
       "<div>\n",
       "<style scoped>\n",
       "    .dataframe tbody tr th:only-of-type {\n",
       "        vertical-align: middle;\n",
       "    }\n",
       "\n",
       "    .dataframe tbody tr th {\n",
       "        vertical-align: top;\n",
       "    }\n",
       "\n",
       "    .dataframe thead th {\n",
       "        text-align: right;\n",
       "    }\n",
       "</style>\n",
       "<table border=\"1\" class=\"dataframe\">\n",
       "  <thead>\n",
       "    <tr style=\"text-align: right;\">\n",
       "      <th></th>\n",
       "      <th>participant_id</th>\n",
       "      <th>UHID</th>\n",
       "      <th>raw_dir_name</th>\n",
       "      <th>group</th>\n",
       "    </tr>\n",
       "  </thead>\n",
       "  <tbody>\n",
       "    <tr>\n",
       "      <th>0</th>\n",
       "      <td>SERB01</td>\n",
       "      <td>20190051791</td>\n",
       "      <td>/home/nimhans/projects/data/PD_SERB/scratch/ra...</td>\n",
       "      <td>PD</td>\n",
       "    </tr>\n",
       "    <tr>\n",
       "      <th>1</th>\n",
       "      <td>SERB02</td>\n",
       "      <td>20130087469</td>\n",
       "      <td>/home/nimhans/projects/data/PD_SERB/scratch/ra...</td>\n",
       "      <td>PD</td>\n",
       "    </tr>\n",
       "    <tr>\n",
       "      <th>2</th>\n",
       "      <td>SERB06</td>\n",
       "      <td>20160057261</td>\n",
       "      <td>/home/nimhans/projects/data/PD_SERB/scratch/ra...</td>\n",
       "      <td>PD</td>\n",
       "    </tr>\n",
       "    <tr>\n",
       "      <th>3</th>\n",
       "      <td>SERB07</td>\n",
       "      <td>20110002870</td>\n",
       "      <td>/home/nimhans/projects/data/PD_SERB/scratch/ra...</td>\n",
       "      <td>PD</td>\n",
       "    </tr>\n",
       "    <tr>\n",
       "      <th>4</th>\n",
       "      <td>SERB09</td>\n",
       "      <td>20170091137</td>\n",
       "      <td>/home/nimhans/projects/data/PD_SERB/scratch/ra...</td>\n",
       "      <td>PD</td>\n",
       "    </tr>\n",
       "  </tbody>\n",
       "</table>\n",
       "</div>"
      ],
      "text/plain": [
       "  participant_id         UHID  \\\n",
       "0         SERB01  20190051791   \n",
       "1         SERB02  20130087469   \n",
       "2         SERB06  20160057261   \n",
       "3         SERB07  20110002870   \n",
       "4         SERB09  20170091137   \n",
       "\n",
       "                                        raw_dir_name group  \n",
       "0  /home/nimhans/projects/data/PD_SERB/scratch/ra...    PD  \n",
       "1  /home/nimhans/projects/data/PD_SERB/scratch/ra...    PD  \n",
       "2  /home/nimhans/projects/data/PD_SERB/scratch/ra...    PD  \n",
       "3  /home/nimhans/projects/data/PD_SERB/scratch/ra...    PD  \n",
       "4  /home/nimhans/projects/data/PD_SERB/scratch/ra...    PD  "
      ]
     },
     "execution_count": 14,
     "metadata": {},
     "output_type": "execute_result"
    }
   ],
   "source": [
    "overwrite_uhid_dicom_map_file = False\n",
    "\n",
    "if Path(uhid_dicom_map_file).is_file():\n",
    "    print(\"uhid_dicom_map_file already exists\")\n",
    "\n",
    "if overwrite_uhid_dicom_map_file: \n",
    "    print(\"Overwritting uhid_dicom_map_file\")\n",
    "\n",
    "    uhid_dicom_map_df.to_csv(uhid_dicom_map_file, index=None)\n",
    "    print(f\"Saving uhid_dicom_map here: {uhid_dicom_map_file}\")\n",
    "\n",
    "uhid_dicom_map_df.head()"
   ]
  },
  {
   "cell_type": "markdown",
   "metadata": {},
   "source": [
    "### Populate participants.csv for `mr_proc` based organization and processing"
   ]
  },
  {
   "cell_type": "code",
   "execution_count": 15,
   "metadata": {},
   "outputs": [
    {
     "name": "stdout",
     "output_type": "stream",
     "text": [
      "Number of participants: 74\n"
     ]
    },
    {
     "data": {
      "text/html": [
       "<div>\n",
       "<style scoped>\n",
       "    .dataframe tbody tr th:only-of-type {\n",
       "        vertical-align: middle;\n",
       "    }\n",
       "\n",
       "    .dataframe tbody tr th {\n",
       "        vertical-align: top;\n",
       "    }\n",
       "\n",
       "    .dataframe thead th {\n",
       "        text-align: right;\n",
       "    }\n",
       "</style>\n",
       "<table border=\"1\" class=\"dataframe\">\n",
       "  <thead>\n",
       "    <tr style=\"text-align: right;\">\n",
       "      <th></th>\n",
       "      <th>participant_id</th>\n",
       "      <th>age</th>\n",
       "      <th>sex</th>\n",
       "      <th>group</th>\n",
       "    </tr>\n",
       "  </thead>\n",
       "  <tbody>\n",
       "    <tr>\n",
       "      <th>0</th>\n",
       "      <td>SERB01</td>\n",
       "      <td>44.0</td>\n",
       "      <td>F</td>\n",
       "      <td>PD</td>\n",
       "    </tr>\n",
       "    <tr>\n",
       "      <th>1</th>\n",
       "      <td>SERB02</td>\n",
       "      <td>45.0</td>\n",
       "      <td>M</td>\n",
       "      <td>PD</td>\n",
       "    </tr>\n",
       "    <tr>\n",
       "      <th>2</th>\n",
       "      <td>SERB06</td>\n",
       "      <td>52.0</td>\n",
       "      <td>M</td>\n",
       "      <td>PD</td>\n",
       "    </tr>\n",
       "    <tr>\n",
       "      <th>3</th>\n",
       "      <td>SERB07</td>\n",
       "      <td>61.0</td>\n",
       "      <td>M</td>\n",
       "      <td>PD</td>\n",
       "    </tr>\n",
       "    <tr>\n",
       "      <th>4</th>\n",
       "      <td>SERB09</td>\n",
       "      <td>62.0</td>\n",
       "      <td>M</td>\n",
       "      <td>PD</td>\n",
       "    </tr>\n",
       "  </tbody>\n",
       "</table>\n",
       "</div>"
      ],
      "text/plain": [
       "  participant_id   age sex group\n",
       "0         SERB01  44.0   F    PD\n",
       "1         SERB02  45.0   M    PD\n",
       "2         SERB06  52.0   M    PD\n",
       "3         SERB07  61.0   M    PD\n",
       "4         SERB09  62.0   M    PD"
      ]
     },
     "execution_count": 15,
     "metadata": {},
     "output_type": "execute_result"
    }
   ],
   "source": [
    "participant_df = pd.DataFrame(columns=[\"participant_id\",\"age\",\"sex\",\"group\"])\n",
    "\n",
    "participant_df[\"participant_id\"] = demo_dicom_avail_df[\"participant_id\"]\n",
    "participant_df[\"age\"] = demo_dicom_avail_df[\"Age\"]\n",
    "participant_df[\"sex\"] = demo_dicom_avail_df[\"Gender (0_F 1_M)\"]\n",
    "participant_df[\"sex\"] = participant_df[\"sex\"].replace({0:\"F\", 1:\"M\"})\n",
    "participant_df[\"group\"] = demo_dicom_avail_df[\"group\"]\n",
    "\n",
    "print(f\"Number of participants: {len(participant_df)}\")\n",
    "participant_df.head()"
   ]
  },
  {
   "cell_type": "markdown",
   "metadata": {},
   "source": [
    "### Save participants.csv\n",
    "#### Check if participants_csv already exists (See notes on the top to avoid breaking map beteen demographics and renamed dicom_dirs)\n"
   ]
  },
  {
   "cell_type": "code",
   "execution_count": 17,
   "metadata": {},
   "outputs": [
    {
     "name": "stdout",
     "output_type": "stream",
     "text": [
      "Overwritting uhid_dicom_map_file\n",
      "Saving file here: /home/nimhans/projects/data/PD_SERB/tabular/demographics/participants.csv\n"
     ]
    }
   ],
   "source": [
    "overwrite_participants_csv = False\n",
    "\n",
    "if Path(participants_csv).is_file():\n",
    "    print(\"participants_csv already exists\")\n",
    "\n",
    "if overwrite_participants_csv: \n",
    "    print(\"Overwritting uhid_dicom_map_file\")\n",
    "    participant_df.to_csv(participants_csv, index=None)\n",
    "    print(f\"Saving file here: {participants_csv}\")"
   ]
  },
  {
   "cell_type": "code",
   "execution_count": null,
   "metadata": {},
   "outputs": [],
   "source": []
  }
 ],
 "metadata": {
  "kernelspec": {
   "display_name": "Python 3.10.6 64-bit",
   "language": "python",
   "name": "python3"
  },
  "language_info": {
   "codemirror_mode": {
    "name": "ipython",
    "version": 3
   },
   "file_extension": ".py",
   "mimetype": "text/x-python",
   "name": "python",
   "nbconvert_exporter": "python",
   "pygments_lexer": "ipython3",
   "version": "3.10.6"
  },
  "orig_nbformat": 4,
  "vscode": {
   "interpreter": {
    "hash": "916dbcbb3f70747c44a77c7bcd40155683ae19c65e1c03b4aa3499c5328201f1"
   }
  }
 },
 "nbformat": 4,
 "nbformat_minor": 2
}
