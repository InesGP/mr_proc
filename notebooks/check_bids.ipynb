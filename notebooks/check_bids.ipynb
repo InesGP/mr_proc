{
 "cells": [
  {
   "cell_type": "code",
   "execution_count": 1,
   "metadata": {},
   "outputs": [],
   "source": [
    "import json\n",
    "import glob\n",
    "import os\n",
    "from pathlib import Path\n",
    "import pandas as pd"
   ]
  },
  {
   "cell_type": "code",
   "execution_count": 2,
   "metadata": {},
   "outputs": [],
   "source": [
    "DATASET_ROOT = \"/home/nimhans/projects/data/PD_SERB/\"\n",
    "BIDS_DIR = f\"{DATASET_ROOT}bids/\"\n",
    "participant_csv = f\"{DATASET_ROOT}/tabular/demographics/participants.csv\""
   ]
  },
  {
   "cell_type": "markdown",
   "metadata": {},
   "source": [
    "## Basic directory checks"
   ]
  },
  {
   "cell_type": "code",
   "execution_count": 3,
   "metadata": {},
   "outputs": [],
   "source": [
    "#  bids/sub-SERB012/ses-01\n",
    "\n",
    "bids_subdir_list = [\"anat\",\"func\",\"fmap\",\"dwi\",\"perf\"]\n",
    "\n",
    "session_id = \"01\"\n"
   ]
  },
  {
   "cell_type": "code",
   "execution_count": 4,
   "metadata": {},
   "outputs": [
    {
     "name": "stdout",
     "output_type": "stream",
     "text": [
      "Number of subjects in the participant_csv: 76\n",
      "Number of subject dirs on disk: 71\n",
      "participants missing bids dir:\n",
      "{'sub-SERB050', 'sub-SERB026', 'sub-SERB011', 'sub-SERB020', 'sub-SERB046'}\n"
     ]
    }
   ],
   "source": [
    "participant_df = pd.read_csv(participant_csv)\n",
    "\n",
    "participant_ids = participant_df[\"participant_id\"].values\n",
    "participant_ids = \"sub-\" + participant_ids\n",
    "\n",
    "subject_dir_list = glob.glob(f\"{BIDS_DIR}sub*\")\n",
    "subject_dir_basename_list = [os.path.basename(f) for f in subject_dir_list]\n",
    "\n",
    "subjects_with_missing_bids_dir = set(participant_ids) - set(subject_dir_basename_list)\n",
    "\n",
    "print(f\"Number of subjects in the participant_csv: {len(participant_ids)}\\nNumber of subject dirs on disk: {len(subject_dir_list)}\")\n",
    "print(f\"participants missing bids dir:\\n{subjects_with_missing_bids_dir}\")"
   ]
  },
  {
   "cell_type": "code",
   "execution_count": 12,
   "metadata": {},
   "outputs": [
    {
     "name": "stdout",
     "output_type": "stream",
     "text": [
      "sub-SERB024 0\n",
      "sub-SERB018 0\n"
     ]
    },
    {
     "data": {
      "text/html": [
       "<div>\n",
       "<style scoped>\n",
       "    .dataframe tbody tr th:only-of-type {\n",
       "        vertical-align: middle;\n",
       "    }\n",
       "\n",
       "    .dataframe tbody tr th {\n",
       "        vertical-align: top;\n",
       "    }\n",
       "\n",
       "    .dataframe thead th {\n",
       "        text-align: right;\n",
       "    }\n",
       "</style>\n",
       "<table border=\"1\" class=\"dataframe\">\n",
       "  <thead>\n",
       "    <tr style=\"text-align: right;\">\n",
       "      <th></th>\n",
       "      <th>anat</th>\n",
       "      <th>func</th>\n",
       "      <th>fmap</th>\n",
       "      <th>dwi</th>\n",
       "      <th>perf</th>\n",
       "      <th>status</th>\n",
       "      <th>notes</th>\n",
       "    </tr>\n",
       "  </thead>\n",
       "  <tbody>\n",
       "    <tr>\n",
       "      <th>sub-SERB001</th>\n",
       "      <td>6</td>\n",
       "      <td>2</td>\n",
       "      <td>4</td>\n",
       "      <td>3</td>\n",
       "      <td>1</td>\n",
       "      <td>pass</td>\n",
       "      <td>&lt;add reasons&gt;</td>\n",
       "    </tr>\n",
       "    <tr>\n",
       "      <th>sub-SERB002</th>\n",
       "      <td>4</td>\n",
       "      <td>2</td>\n",
       "      <td>False</td>\n",
       "      <td>3</td>\n",
       "      <td>2</td>\n",
       "      <td>fail</td>\n",
       "      <td>&lt;add reasons&gt;</td>\n",
       "    </tr>\n",
       "    <tr>\n",
       "      <th>sub-SERB006</th>\n",
       "      <td>6</td>\n",
       "      <td>2</td>\n",
       "      <td>4</td>\n",
       "      <td>3</td>\n",
       "      <td>2</td>\n",
       "      <td>pass</td>\n",
       "      <td>&lt;add reasons&gt;</td>\n",
       "    </tr>\n",
       "    <tr>\n",
       "      <th>sub-SERB007</th>\n",
       "      <td>9</td>\n",
       "      <td>2</td>\n",
       "      <td>4</td>\n",
       "      <td>3</td>\n",
       "      <td>2</td>\n",
       "      <td>pass</td>\n",
       "      <td>&lt;add reasons&gt;</td>\n",
       "    </tr>\n",
       "    <tr>\n",
       "      <th>sub-SERB009</th>\n",
       "      <td>6</td>\n",
       "      <td>2</td>\n",
       "      <td>4</td>\n",
       "      <td>3</td>\n",
       "      <td>2</td>\n",
       "      <td>pass</td>\n",
       "      <td>&lt;add reasons&gt;</td>\n",
       "    </tr>\n",
       "    <tr>\n",
       "      <th>sub-SERB010</th>\n",
       "      <td>11</td>\n",
       "      <td>2</td>\n",
       "      <td>4</td>\n",
       "      <td>3</td>\n",
       "      <td>2</td>\n",
       "      <td>pass</td>\n",
       "      <td>&lt;add reasons&gt;</td>\n",
       "    </tr>\n",
       "    <tr>\n",
       "      <th>sub-SERB011</th>\n",
       "      <td>False</td>\n",
       "      <td>False</td>\n",
       "      <td>False</td>\n",
       "      <td>False</td>\n",
       "      <td>False</td>\n",
       "      <td>fail</td>\n",
       "      <td>bids dir not found</td>\n",
       "    </tr>\n",
       "    <tr>\n",
       "      <th>sub-SERB012</th>\n",
       "      <td>9</td>\n",
       "      <td>False</td>\n",
       "      <td>2</td>\n",
       "      <td>3</td>\n",
       "      <td>False</td>\n",
       "      <td>fail</td>\n",
       "      <td>&lt;add reasons&gt;</td>\n",
       "    </tr>\n",
       "    <tr>\n",
       "      <th>sub-SERB013</th>\n",
       "      <td>6</td>\n",
       "      <td>2</td>\n",
       "      <td>4</td>\n",
       "      <td>3</td>\n",
       "      <td>2</td>\n",
       "      <td>pass</td>\n",
       "      <td>&lt;add reasons&gt;</td>\n",
       "    </tr>\n",
       "    <tr>\n",
       "      <th>sub-SERB014</th>\n",
       "      <td>6</td>\n",
       "      <td>1</td>\n",
       "      <td>4</td>\n",
       "      <td>3</td>\n",
       "      <td>2</td>\n",
       "      <td>pass</td>\n",
       "      <td>&lt;add reasons&gt;</td>\n",
       "    </tr>\n",
       "  </tbody>\n",
       "</table>\n",
       "</div>"
      ],
      "text/plain": [
       "              anat   func   fmap    dwi   perf status               notes\n",
       "sub-SERB001      6      2      4      3      1   pass       <add reasons>\n",
       "sub-SERB002      4      2  False      3      2   fail       <add reasons>\n",
       "sub-SERB006      6      2      4      3      2   pass       <add reasons>\n",
       "sub-SERB007      9      2      4      3      2   pass       <add reasons>\n",
       "sub-SERB009      6      2      4      3      2   pass       <add reasons>\n",
       "sub-SERB010     11      2      4      3      2   pass       <add reasons>\n",
       "sub-SERB011  False  False  False  False  False   fail  bids dir not found\n",
       "sub-SERB012      9  False      2      3  False   fail       <add reasons>\n",
       "sub-SERB013      6      2      4      3      2   pass       <add reasons>\n",
       "sub-SERB014      6      1      4      3      2   pass       <add reasons>"
      ]
     },
     "execution_count": 12,
     "metadata": {},
     "output_type": "execute_result"
    }
   ],
   "source": [
    "bids_status_csv = f\"{DATASET_ROOT}/proc/logs/bids_status.csv\"\n",
    "bids_status_df = pd.DataFrame(index=participant_ids, columns=bids_subdir_list + [\"status\"])\n",
    "bids_status_df[\"status\"] = \"pass\"\n",
    "bids_status_df[\"notes\"] = \"<add reasons>\"\n",
    "\n",
    "# Set participants missing bids dir as failed\n",
    "bids_status_df.loc[list(subjects_with_missing_bids_dir),bids_subdir_list] = False\n",
    "bids_status_df.loc[list(subjects_with_missing_bids_dir),\"status\"] = \"fail\"\n",
    "bids_status_df.loc[list(subjects_with_missing_bids_dir),\"notes\"] = \"bids dir not found\"\n",
    "\n",
    "# Check number of files for the rest of the subjects\n",
    "for subject_dir in subject_dir_list:\n",
    "    id = os.path.basename(subject_dir)\n",
    "    for bids_subdir in bids_subdir_list:\n",
    "        bids_subdir_path = f\"{subject_dir}/ses-{session_id}/{bids_subdir}\"\n",
    "        dir_status = Path(bids_subdir_path).is_dir()\n",
    "        # print(dir_status)\n",
    "        if dir_status:\n",
    "            n_files = len(glob.glob(f\"{bids_subdir_path}/*.nii.gz\"))\n",
    "            if n_files == 0:\n",
    "                dir_status = False\n",
    "                print(id,n_files)\n",
    "                bids_status_df.loc[id,\"status\"] = \"fail\"\n",
    "            else:                \n",
    "                dir_status = n_files\n",
    "        else:\n",
    "            bids_status_df.loc[id,\"status\"] = \"fail\"\n",
    "        \n",
    "        bids_status_df.loc[id,bids_subdir] = dir_status\n",
    "\n",
    "bids_status_df.to_csv(bids_status_csv)\n",
    "bids_status_df.head(10)"
   ]
  },
  {
   "cell_type": "markdown",
   "metadata": {},
   "source": [
    "### List number of subjects missing nii files"
   ]
  },
  {
   "cell_type": "code",
   "execution_count": 13,
   "metadata": {},
   "outputs": [
    {
     "name": "stdout",
     "output_type": "stream",
     "text": [
      "\n",
      "modality: anat\n",
      "failed subjects: ['sub-SERB011', 'sub-SERB020', 'sub-SERB026', 'sub-SERB046', 'sub-SERB050']\n",
      "\n",
      "modality: func\n",
      "failed subjects: ['sub-SERB011', 'sub-SERB012', 'sub-SERB018', 'sub-SERB020', 'sub-SERB024', 'sub-SERB026', 'sub-SERB044', 'sub-SERB046', 'sub-SERB050', 'sub-SERB058', 'sub-SERB064', 'sub-SERB072', 'sub-SERB080', 'sub-SERB081', 'sub-SERB089', 'sub-SERB092', 'sub-SERB093', 'sub-SERB095', 'sub-SERB100', 'sub-SERB101', 'sub-SERB102']\n",
      "\n",
      "modality: fmap\n",
      "failed subjects: ['sub-SERB002', 'sub-SERB011', 'sub-SERB018', 'sub-SERB020', 'sub-SERB024', 'sub-SERB026', 'sub-SERB046', 'sub-SERB050', 'sub-SERB072']\n",
      "\n",
      "modality: dwi\n",
      "failed subjects: ['sub-SERB011', 'sub-SERB018', 'sub-SERB020', 'sub-SERB024', 'sub-SERB026', 'sub-SERB046', 'sub-SERB050', 'sub-SERB072']\n",
      "\n",
      "modality: perf\n",
      "failed subjects: ['sub-SERB011', 'sub-SERB012', 'sub-SERB018', 'sub-SERB020', 'sub-SERB024', 'sub-SERB026', 'sub-SERB046', 'sub-SERB050', 'sub-SERB053', 'sub-SERB074', 'sub-SERB077', 'sub-SERB080', 'sub-SERB081', 'sub-SERB089', 'sub-SERB092', 'sub-SERB093', 'sub-SERB095', 'sub-SERB100', 'sub-SERB102']\n"
     ]
    }
   ],
   "source": [
    "for bids_subdir in bids_subdir_list:    \n",
    "    failed_subjects = bids_status_df[bids_status_df[bids_subdir]==False].index\n",
    "    print(f\"\\nmodality: {bids_subdir}\\nfailed subjects: {list(failed_subjects)}\")"
   ]
  },
  {
   "cell_type": "code",
   "execution_count": null,
   "metadata": {},
   "outputs": [],
   "source": []
  }
 ],
 "metadata": {
  "kernelspec": {
   "display_name": "Python 3.10.6 64-bit",
   "language": "python",
   "name": "python3"
  },
  "language_info": {
   "codemirror_mode": {
    "name": "ipython",
    "version": 3
   },
   "file_extension": ".py",
   "mimetype": "text/x-python",
   "name": "python",
   "nbconvert_exporter": "python",
   "pygments_lexer": "ipython3",
   "version": "3.10.6"
  },
  "orig_nbformat": 4,
  "vscode": {
   "interpreter": {
    "hash": "916dbcbb3f70747c44a77c7bcd40155683ae19c65e1c03b4aa3499c5328201f1"
   }
  }
 },
 "nbformat": 4,
 "nbformat_minor": 2
}
