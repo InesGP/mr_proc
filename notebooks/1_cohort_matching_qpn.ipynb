{
 "cells": [
  {
   "cell_type": "markdown",
   "metadata": {},
   "source": [
    "# Create a QPN matched sub sample from PPMI\n",
    "    1. Using propensity score matching, including age, sex as covarites to match;\n",
    "    2. tbd\n",
    "    \n",
    "    Visit encoding:\n",
    "\n",
    "      1. Normal visits:\n",
    "         'Screening->0',\n",
    "         'Baseline->1',\n",
    "         'Month 12->5',\n",
    "         'Month 24->7',\n",
    "         'Month 36->9',\n",
    "         'Month 48->11',\n",
    "\n",
    "      2. Abnornal visits:\n",
    "         'Premature Withdrawal->30',\n",
    "         'Symptomatic Therapy->21',\n",
    "         'Unscheduled Visit 01->90',\n",
    "         'Unscheduled Visit 02->91'"
   ]
  },
  {
   "cell_type": "code",
   "execution_count": 1,
   "metadata": {},
   "outputs": [],
   "source": [
    "from pathlib import Path\n",
    "import pandas as pd\n",
    "\n",
    "#PATH\n",
    "tmp_dir  = Path(\"/scratch/0tmp\") # For privacy, all the PPMI data are stored here locally.\n",
    "main_dir = Path(\"/scratch/mr_proc/metadata\") # The main GitRepo meta data dir\n",
    "\n",
    "qpn_file  = main_dir / \"qpn\"  / \"participants.csv\" # qpn participants table.\n",
    "ppmi_file = main_dir / \"ppmi\" / \"participants.csv\" # PPMI participants table.\n",
    "ppmi_all_file = main_dir / \"ppmi\" / \"PPMI_3T_sdMRI_3_07_2022.csv\" # The imaging downloading table from livingPark. "
   ]
  },
  {
   "cell_type": "code",
   "execution_count": 2,
   "metadata": {},
   "outputs": [],
   "source": [
    "# Known T1 sequence descriptions,copied from heuristics.\n",
    "T1W_SERIES = [\n",
    "    'MPRAGE 2 ADNI',\n",
    "    'MPRAGE ADNI',\n",
    "    'MPRAGE GRAPPA 2',\n",
    "    'MPRAGE GRAPPA2',\n",
    "    'MPRAGE GRAPPA2(adni)',\n",
    "    'MPRAGE w/ GRAPPA',\n",
    "    'MPRAGE_GRAPPA',\n",
    "    'MPRAGE_GRAPPA_ADNI',\n",
    "    'MPRAGE GRAPPA',\n",
    "    'SAG T1 3D MPRAGE',\n",
    "    'sag mprage',\n",
    "    'MPRAGEadni',\n",
    "    'MPRAGE GRAPPA_ND',\n",
    "    '3D SAG',\n",
    "    'MPRAGE T1 SAG',\n",
    "    'MPRAGE SAG',\n",
    "    'SAG T1 3DMPRAGE',\n",
    "    'SAG T1 MPRAGE',\n",
    "    'SAG 3D T1',\n",
    "    'SAG MPRAGE GRAPPA2-NEW2016',\n",
    "    'SAG MPRAGE GRAPPA_ND',\n",
    "    'Sag MPRAGE GRAPPA',\n",
    "    'AXIAL T1 3D MPRAGE',\n",
    "    'SAG MPRAGE GRAPPA',\n",
    "    'sT1W_3D_FFE',\n",
    "    'sT1W_3D_ISO',\n",
    "    'sT1W_3D_TFE',\n",
    "    'sag 3D FSPGR BRAVO straight',\n",
    "    'SAG T1 3D FSPGR',\n",
    "    'SAG FSPGR 3D '\n",
    "    'SAG 3D FSPGR BRAVO STRAIGHT',\n",
    "    'SAG T1 3D FSPGR 3RD REPEAT',\n",
    "    'SAG FSPGR BRAVO',\n",
    "    'SAG SPGR 3D',\n",
    "    'SAG 3D SPGR',\n",
    "    'FSPGR 3D SAG',\n",
    "    'SAG FSPGR 3D',\n",
    "    'SAG 3D FSPGR BRAVO STRAIGHT',\n",
    "    'SAG FSPGR 3D ',\n",
    "    't1_mpr_ns_sag_p2_iso',\n",
    "    'T1',\n",
    "    'T1 Repeat',\n",
    "    'AX T1',\n",
    "    'axial spgr',\n",
    "    'T1W_3D_FFE AX',\n",
    "    # added by Vincent\n",
    "    'AX T1 SE C+',\n",
    "    '3D SAG T1 MPRAGE',\n",
    "    '3D SAG T1 MPRAGE_ND',\n",
    "    '3D T1',\n",
    "    '3D T1 MPRAGE',\n",
    "    '3D T1-weighted',\n",
    "    'Accelerated Sag IR-FSPGR',\n",
    "    'MPRAGE',\n",
    "    'MPRAGE - Sag',\n",
    "    'MPRAGE Phantom GRAPPA2',\n",
    "    'MPRAGE w/ GRAPPA 2',\n",
    "    'PPMI_MPRAGE_GRAPPA2',\n",
    "    'SAG 3D T1 FSPGR',\n",
    "    'SAG FSPGR 3D VOLUMETRIC T1',\n",
    "    'Sag MPRAGE GRAPPA_ND',\n",
    "    'T1-weighted, 3D VOLUMETRIC',\n",
    "    'tra_T1_MPRAGE',\n",
    "    '3D T1-weighted_ND', ## added from livingpark\n",
    "    '3D T1 _weighted',\n",
    "    'Sagittal 3D Accelerated MPRAGE',\n",
    "    'T1 REPEAT',\n",
    "    'MPRAGE Repeat',\n",
    "    'SAG_3D_MPRAGE'\n",
    "]\n",
    "def check_T1(s_):\n",
    "    res=s_.copy()\n",
    "    for i in range(len(s_)):\n",
    "        if s_[i] in T1W_SERIES:\n",
    "            res[i]=True\n",
    "        else:\n",
    "            res[i]=False\n",
    "    return res"
   ]
  },
  {
   "cell_type": "code",
   "execution_count": 25,
   "metadata": {},
   "outputs": [
    {
     "name": "stdout",
     "output_type": "stream",
     "text": [
      "PPMI subject tab info:  (395, 4)\n",
      "QPN subject tab info:  (296, 4)\n",
      "PPMI image tab info:  (1027, 6)\n"
     ]
    }
   ],
   "source": [
    "participant_col_sel = ['participant_id', 'age', 'sex', 'group']\n",
    "metadata_col_sel    = ['Image Data ID', 'Subject', 'Group', 'Sex', 'Age', 'Visit', 'Modality', 'Description']\n",
    "# harmonizing group label\n",
    "qpn_group2ppmi_group={'Parkinson':'PD', 'Parkison':'PD', 'Parkinson ':'PD', 'Control ':'Control', 'Control':'Control', 'PD':'PD'};\n",
    "\n",
    "# data transformation\n",
    "def group2num(x):\n",
    "    if x=='PD':\n",
    "        return 1\n",
    "    elif x=='Control':\n",
    "        return 0\n",
    "    else: # may need some update\n",
    "        return 0\n",
    "\n",
    "def sex2num(x):\n",
    "    if x=='M':\n",
    "        return 1\n",
    "    elif x=='F':\n",
    "        return 0\n",
    "    else: # may need some update\n",
    "        return 0\n",
    "\n",
    "# Read ppmi subjects\n",
    "ppmi_df  = pd.read_csv(ppmi_file, sep=',', )\n",
    "ppmi_df=ppmi_df.sort_values(by=\"participant_id\").reset_index(drop=True)\n",
    "ppmi_df = ppmi_df[(ppmi_df['group']=='PD') | (ppmi_df['group']=='Control')].copy()\n",
    "ppmi_df.loc[:,'group']=ppmi_df.loc[:,'group'].apply(lambda x: group2num(x))\n",
    "ppmi_df.loc[:,'sex']  =ppmi_df.loc[:,'sex'].apply(lambda x: sex2num(x))\n",
    "\n",
    "print('PPMI subject tab info: ', ppmi_df.shape)\n",
    "\n",
    "# Read qpn subjects\n",
    "qpn_df  = pd.read_csv(qpn_file, sep=',')\n",
    "qpn_df=qpn_df.sort_values(by=\"participant_id\").reset_index(drop=True)\n",
    "qpn_df.loc[:,'group']=qpn_df.loc[:,'group'].apply(lambda x:qpn_group2ppmi_group[x])\n",
    "qpn_df.loc[:,'group']=qpn_df.loc[:,'group'].apply(lambda x: group2num(x))\n",
    "qpn_df.loc[:,'sex']  =qpn_df.loc[:,'sex'].apply(lambda x: sex2num(x))\n",
    "\n",
    "print('QPN subject tab info: ', qpn_df.shape)\n",
    "\n",
    "# Read ppmi all info\n",
    "ppmi_all_df = pd.read_csv(ppmi_all_file, sep=',')\n",
    "ppmi_all_df = ppmi_all_df.loc[:, metadata_col_sel]\n",
    "# filtering group (PD and Control) and modality (T1)\n",
    "ppmi_all_df = ppmi_all_df[(ppmi_all_df['Modality']=='MRI') & (check_T1(ppmi_all_df['Description']))].copy()\n",
    "ppmi_all_df = ppmi_all_df.drop(columns=['Modality', 'Description']).copy()\n",
    "ppmi_all_df = ppmi_all_df.sort_values(by=\"Subject\").reset_index(drop=True)\n",
    "ppmi_all_df.columns=['Image ID', 'participant_id', 'group', 'sex', 'age', 'visit'];\n",
    "ppmi_all_df = ppmi_all_df[(ppmi_all_df['group']=='PD') | (ppmi_all_df['group']=='Control')].copy()\n",
    "ppmi_all_df.loc[:,'group'] = ppmi_all_df.loc[:,'group'].apply(lambda x: group2num(x))\n",
    "ppmi_all_df.loc[:,'sex']   = ppmi_all_df.loc[:,'sex'].apply(lambda x: sex2num(x))\n",
    "\n",
    "# reorder columns\n",
    "ppmi_all_df=ppmi_all_df.loc[:, ['Image ID', 'participant_id', 'age', 'sex', 'group', 'visit']]\n",
    "print('PPMI image tab info: ', ppmi_all_df.shape)"
   ]
  },
  {
   "cell_type": "code",
   "execution_count": 26,
   "metadata": {},
   "outputs": [],
   "source": [
    "import seaborn as sns\n",
    "from psmpy import PsmPy\n",
    "from psmpy.functions import cohenD\n",
    "from psmpy.plotting import *\n",
    "\n",
    "# import relevant libraries\n",
    "sns.set(rc={'figure.figsize':(10,8)}, font_scale = 1.3)"
   ]
  },
  {
   "cell_type": "code",
   "execution_count": 27,
   "metadata": {},
   "outputs": [
    {
     "data": {
      "text/plain": [
       "participant_id    object\n",
       "age                int64\n",
       "sex               object\n",
       "group              int64\n",
       "dtype: object"
      ]
     },
     "execution_count": 27,
     "metadata": {},
     "output_type": "execute_result"
    }
   ],
   "source": [
    "ppmi_df.dtypes\n"
   ]
  },
  {
   "cell_type": "code",
   "execution_count": 24,
   "metadata": {},
   "outputs": [
    {
     "data": {
      "text/plain": [
       "participant_id    object\n",
       "age                int64\n",
       "sex               object\n",
       "group              int64\n",
       "dtype: object"
      ]
     },
     "execution_count": 24,
     "metadata": {},
     "output_type": "execute_result"
    }
   ],
   "source": [
    "ppmi_df.dtypes"
   ]
  },
  {
   "cell_type": "code",
   "execution_count": 28,
   "metadata": {},
   "outputs": [
    {
     "ename": "AssertionError",
     "evalue": "Only numeric dtypes allowed",
     "output_type": "error",
     "traceback": [
      "\u001b[0;31m---------------------------------------------------------------------------\u001b[0m",
      "\u001b[0;31mAssertionError\u001b[0m                            Traceback (most recent call last)",
      "\u001b[1;32m/scratch/mr_proc/notebooks/1_cohort_matching_qpn.ipynb Cell 8\u001b[0m in \u001b[0;36m<cell line: 1>\u001b[0;34m()\u001b[0m\n\u001b[0;32m----> <a href='vscode-notebook-cell://attached-container%2B7b22636f6e7461696e65724e616d65223a222f66756e6e795f7061796e65222c22637764223a225c5c5c5c77736c245c5c5562756e74752d31382e30345c5c686f6d655c5c76696e63656e74227d/scratch/mr_proc/notebooks/1_cohort_matching_qpn.ipynb#ch0000005vscode-remote?line=0'>1</a>\u001b[0m psm \u001b[39m=\u001b[39m PsmPy(ppmi_df, treatment\u001b[39m=\u001b[39;49m\u001b[39m'\u001b[39;49m\u001b[39mgroup\u001b[39;49m\u001b[39m'\u001b[39;49m, indx\u001b[39m=\u001b[39;49m\u001b[39m'\u001b[39;49m\u001b[39mparticipant_id\u001b[39;49m\u001b[39m'\u001b[39;49m, exclude \u001b[39m=\u001b[39;49m [])\n",
      "File \u001b[0;32m/opt/conda/lib/python3.9/site-packages/psmpy/psmpy.py:53\u001b[0m, in \u001b[0;36mPsmPy.__init__\u001b[0;34m(self, data, treatment, indx, exclude, target)\u001b[0m\n\u001b[1;32m     51\u001b[0m \u001b[39mself\u001b[39m\u001b[39m.\u001b[39mmodel_accuracy \u001b[39m=\u001b[39m []\n\u001b[1;32m     52\u001b[0m \u001b[39mself\u001b[39m\u001b[39m.\u001b[39mdataIDindx \u001b[39m=\u001b[39m \u001b[39mself\u001b[39m\u001b[39m.\u001b[39mdata\u001b[39m.\u001b[39mset_index(indx)\n\u001b[0;32m---> 53\u001b[0m \u001b[39massert\u001b[39;00m \u001b[39mall\u001b[39m(ptypes\u001b[39m.\u001b[39mis_numeric_dtype(\n\u001b[1;32m     54\u001b[0m     \u001b[39mself\u001b[39m\u001b[39m.\u001b[39mdataIDindx[xvar]) \u001b[39mfor\u001b[39;00m xvar \u001b[39min\u001b[39;00m \u001b[39mself\u001b[39m\u001b[39m.\u001b[39mxvars), \u001b[39m\"\u001b[39m\u001b[39mOnly numeric dtypes allowed\u001b[39m\u001b[39m\"\u001b[39m\n\u001b[1;32m     55\u001b[0m \u001b[39mself\u001b[39m\u001b[39m.\u001b[39mtreatmentdf \u001b[39m=\u001b[39m \u001b[39mself\u001b[39m\u001b[39m.\u001b[39mdataIDindx[\u001b[39mself\u001b[39m\u001b[39m.\u001b[39mdataIDindx[treatment] \u001b[39m==\u001b[39m \u001b[39m1\u001b[39m]\n\u001b[1;32m     56\u001b[0m \u001b[39mself\u001b[39m\u001b[39m.\u001b[39mcontroldf \u001b[39m=\u001b[39m \u001b[39mself\u001b[39m\u001b[39m.\u001b[39mdataIDindx[\u001b[39mself\u001b[39m\u001b[39m.\u001b[39mdataIDindx[treatment] \u001b[39m==\u001b[39m \u001b[39m0\u001b[39m]\n",
      "\u001b[0;31mAssertionError\u001b[0m: Only numeric dtypes allowed"
     ]
    }
   ],
   "source": [
    "psm = PsmPy(ppmi_df, treatment='group', indx='participant_id', exclude = [])\n"
   ]
  },
  {
   "cell_type": "code",
   "execution_count": null,
   "metadata": {},
   "outputs": [],
   "source": []
  }
 ],
 "metadata": {
  "kernelspec": {
   "display_name": "Python 3.9.12 ('base')",
   "language": "python",
   "name": "python3"
  },
  "language_info": {
   "codemirror_mode": {
    "name": "ipython",
    "version": 3
   },
   "file_extension": ".py",
   "mimetype": "text/x-python",
   "name": "python",
   "nbconvert_exporter": "python",
   "pygments_lexer": "ipython3",
   "version": "3.9.12"
  },
  "orig_nbformat": 4,
  "vscode": {
   "interpreter": {
    "hash": "d4d1e4263499bec80672ea0156c357c1ee493ec2b1c70f0acce89fc37c4a6abe"
   }
  }
 },
 "nbformat": 4,
 "nbformat_minor": 2
}
