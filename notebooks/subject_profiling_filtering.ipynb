{
 "cells": [
  {
   "cell_type": "markdown",
   "id": "e004f8e9-b94d-4990-9272-e5ad23b44cda",
   "metadata": {},
   "source": [
    "# Notebooks to merge subject information from imaging, clinical assessments and other sources of data\n",
    "## Groups: 'PD', 'Prodromal', 'SWEDD', 'Control', 'Phantom', 'GenReg Unaff'"
   ]
  },
  {
   "cell_type": "code",
   "execution_count": 64,
   "id": "77a9bbbc-985a-4474-be57-7488d44aae9d",
   "metadata": {},
   "outputs": [
    {
     "name": "stderr",
     "output_type": "stream",
     "text": [
      "/usr/local/miniconda/lib/python3.8/site-packages/IPython/core/interactiveshell.py:3185: DtypeWarning: Columns (10,17,18,19,20,21,32) have mixed types.Specify dtype option on import or set low_memory=False.\n",
      "  has_raised = await self.run_ast_nodes(code_ast.body, cell_name,\n"
     ]
    }
   ],
   "source": [
    "# from pathlib import Path\n",
    "import sys\n",
    "proj_path_str='/scratch/mr_proc'\n",
    "sys.path.append(proj_path_str)\n",
    "from pathlib import Path\n",
    "import nipype.interfaces.io as nio\n",
    "import pandas as pd\n",
    "import numpy as np\n",
    "from private_libs.private_utils import report_visit\n",
    "\n",
    "#PATH\n",
    "main_dir = Path(proj_path_str)\n",
    "data_dir = main_dir / 'tab_data' \n",
    "#out_dir = Path(\"/output\")\n",
    "\n",
    "#ppmi_dcm_file = data_dir / 'ppmi_dicomInfo.tsv'           # Inormation from dicom headers.\n",
    "ppmi_img_dl_file = data_dir / 'PPMI_3T_sdMRI_3_07_2022.csv'  # Inormation from download database.\n",
    "ppmi_moca_file  = data_dir / 'Montreal_Cognitive_Assessment__MoCA_.csv'  # Inormation from download database.\n",
    "ppmi_updrs3_file  = data_dir / 'MDS_UPDRS_Part_III.csv'  # Inormation from download database.\n",
    "ppmi_dicom_file = data_dir / 'PPMI_dicomInfo.tsv'  # Inormation from download database.\n",
    "\n",
    "\n",
    "# Read tabular information\n",
    "ppmi_img_dl_data  = pd.read_csv(ppmi_img_dl_file, sep=',')\n",
    "ppmi_img_col_sel = ['Image Data ID', 'Subject', 'Group', 'Sex', 'Age', 'Visit', 'Modality', 'Description']\n",
    "# select imaging columns\n",
    "ppmi_img_dl_data = ppmi_img_dl_data.loc[:, ppmi_img_col_sel].copy()\n",
    "# select study groups\n",
    "group_sel_list=['PD', 'Prodromal', 'SWEDD', 'Control']\n",
    "ppmi_img_dl_data = ppmi_img_dl_data[ppmi_img_dl_data.Group.isin(group_sel_list)].copy()\n",
    "# Get subject list and group information from imaging data\n",
    "subject_group = ppmi_img_dl_data.loc[:, ['Subject','Group']].copy();\n",
    "subject_group.groupby('Subject').agg(lambda x: set(x));\n",
    "subject_group['Subject']=[int(x) for x in subject_group['Subject']]\n",
    "# Get T1 and DTI data\n",
    "sequence_str=['T1', 'MPRAGE', 'DTI']\n",
    "ppmi_img_dl_data = ppmi_img_dl_data[(ppmi_img_dl_data['Description'].str.contains(sequence_str[0]))|(ppmi_img_dl_data['Description'].str.contains(sequence_str[1]))|(ppmi_img_dl_data['Description'].str.contains(sequence_str[2]))].copy()\n",
    "# Get additional sequence information\n",
    "protocol_seqs=ppmi_img_dl_data.Description.unique()\n",
    "\n",
    "# read and select UPDRS-3data\n",
    "ppmi_updrs3_data = pd.read_csv(ppmi_updrs3_file, sep=',')\n",
    "updrs3_list= ['PATNO', 'EVENT_ID', 'NP3SPCH', 'NP3FACXP','NP3RIGN', 'NP3RIGRU', 'NP3RIGLU', 'NP3RIGRL', 'NP3RIGLL', 'NP3FTAPR',\n",
    "             'NP3FTAPL', 'NP3HMOVR', 'NP3HMOVL', 'NP3PRSPR', 'NP3PRSPL', 'NP3TTAPR',\n",
    "             'NP3TTAPL', 'NP3LGAGR', 'NP3LGAGL', 'NP3RISNG', 'NP3GAIT', 'NP3FRZGT',\n",
    "             'NP3PSTBL', 'NP3POSTR', 'NP3BRADY', 'NP3PTRMR', 'NP3PTRML', 'NP3KTRMR',\n",
    "             'NP3KTRML', 'NP3RTARU', 'NP3RTALU', 'NP3RTARL', 'NP3RTALL', 'NP3RTALJ', 'NP3RTCON', 'NP3TOT', 'NHY'];\n",
    "other_updrs_list = ['DYSKPRES', 'DYSKIRAT'];\n",
    "ppmi_updrs3_data=ppmi_updrs3_data.loc[:,updrs3_list].copy();\n",
    "\n",
    "# read and select MOCA data\n",
    "ppmi_moca_data   = pd.read_csv(ppmi_moca_file, sep=',')\n",
    "moca_list= ['PATNO', 'EVENT_ID', 'MCAALTTM', 'MCACUBE', 'MCACLCKC', 'MCACLCKN', 'MCACLCKH', 'MCALION', 'MCARHINO',\n",
    "            'MCACAMEL', 'MCAFDS', 'MCABDS', 'MCAVIGIL', 'MCASER7', 'MCASNTNC',\n",
    "            'MCAVFNUM', 'MCAVF', 'MCAABSTR', 'MCAREC1', 'MCAREC2', 'MCAREC3',\n",
    "            'MCAREC4', 'MCAREC5', 'MCADATE', 'MCAMONTH', 'MCAYR', 'MCADAY', 'MCAPLACE', 'MCACITY', 'MCATOT'];\n",
    "ppmi_moca_data=ppmi_moca_data.loc[:,moca_list].copy();\n",
    "\n",
    "## reading dicom header collection data\n",
    "ppmi_dicom_data = pd.read_csv(ppmi_dicom_file, sep='\\t')\n",
    "dicom_list = ['patient_id', 'patient_age', 'patient_sex', 'dim1', 'dim2', 'dim3', 'dim4', 'TR', 'TE', 'series_description', 'dcm_dir_name'];\n",
    "ppmi_dicom_data=ppmi_dicom_data.loc[:,dicom_list].copy()"
   ]
  },
  {
   "cell_type": "code",
   "execution_count": 83,
   "id": "b8b4f5a2-8833-4a7c-906e-9fdd2463ff23",
   "metadata": {},
   "outputs": [
    {
     "data": {
      "text/html": [
       "<div>\n",
       "<style scoped>\n",
       "    .dataframe tbody tr th:only-of-type {\n",
       "        vertical-align: middle;\n",
       "    }\n",
       "\n",
       "    .dataframe tbody tr th {\n",
       "        vertical-align: top;\n",
       "    }\n",
       "\n",
       "    .dataframe thead th {\n",
       "        text-align: right;\n",
       "    }\n",
       "</style>\n",
       "<table border=\"1\" class=\"dataframe\">\n",
       "  <thead>\n",
       "    <tr style=\"text-align: right;\">\n",
       "      <th></th>\n",
       "      <th>patient_id</th>\n",
       "      <th>patient_age</th>\n",
       "      <th>patient_sex</th>\n",
       "      <th>dim1</th>\n",
       "      <th>dim2</th>\n",
       "      <th>dim3</th>\n",
       "      <th>dim4</th>\n",
       "      <th>TR</th>\n",
       "      <th>TE</th>\n",
       "      <th>series_description</th>\n",
       "      <th>dcm_dir_name</th>\n",
       "    </tr>\n",
       "  </thead>\n",
       "  <tbody>\n",
       "    <tr>\n",
       "      <th>2584</th>\n",
       "      <td>101344</td>\n",
       "      <td>000Y</td>\n",
       "      <td>NaN</td>\n",
       "      <td>512</td>\n",
       "      <td>512</td>\n",
       "      <td>10</td>\n",
       "      <td>1</td>\n",
       "      <td>0.45</td>\n",
       "      <td>4.4</td>\n",
       "      <td>2D GRE - MT</td>\n",
       "      <td>I1496470</td>\n",
       "    </tr>\n",
       "    <tr>\n",
       "      <th>2593</th>\n",
       "      <td>101344</td>\n",
       "      <td>000Y</td>\n",
       "      <td>NaN</td>\n",
       "      <td>512</td>\n",
       "      <td>512</td>\n",
       "      <td>10</td>\n",
       "      <td>1</td>\n",
       "      <td>0.45</td>\n",
       "      <td>4.4</td>\n",
       "      <td>2D GRE - MT</td>\n",
       "      <td>I1496469</td>\n",
       "    </tr>\n",
       "    <tr>\n",
       "      <th>2594</th>\n",
       "      <td>101344</td>\n",
       "      <td>000Y</td>\n",
       "      <td>NaN</td>\n",
       "      <td>512</td>\n",
       "      <td>512</td>\n",
       "      <td>10</td>\n",
       "      <td>1</td>\n",
       "      <td>0.45</td>\n",
       "      <td>4.4</td>\n",
       "      <td>2D GRE - MT</td>\n",
       "      <td>I1496468</td>\n",
       "    </tr>\n",
       "    <tr>\n",
       "      <th>2595</th>\n",
       "      <td>101344</td>\n",
       "      <td>000Y</td>\n",
       "      <td>NaN</td>\n",
       "      <td>512</td>\n",
       "      <td>512</td>\n",
       "      <td>10</td>\n",
       "      <td>1</td>\n",
       "      <td>0.45</td>\n",
       "      <td>4.4</td>\n",
       "      <td>2D GRE - MT</td>\n",
       "      <td>I1496472</td>\n",
       "    </tr>\n",
       "    <tr>\n",
       "      <th>2598</th>\n",
       "      <td>101344</td>\n",
       "      <td>000Y</td>\n",
       "      <td>NaN</td>\n",
       "      <td>512</td>\n",
       "      <td>512</td>\n",
       "      <td>10</td>\n",
       "      <td>1</td>\n",
       "      <td>0.45</td>\n",
       "      <td>4.4</td>\n",
       "      <td>2D GRE - MT</td>\n",
       "      <td>I1496471</td>\n",
       "    </tr>\n",
       "  </tbody>\n",
       "</table>\n",
       "</div>"
      ],
      "text/plain": [
       "     patient_id patient_age patient_sex  dim1  dim2  dim3  dim4    TR   TE  \\\n",
       "2584     101344        000Y         NaN   512   512    10     1  0.45  4.4   \n",
       "2593     101344        000Y         NaN   512   512    10     1  0.45  4.4   \n",
       "2594     101344        000Y         NaN   512   512    10     1  0.45  4.4   \n",
       "2595     101344        000Y         NaN   512   512    10     1  0.45  4.4   \n",
       "2598     101344        000Y         NaN   512   512    10     1  0.45  4.4   \n",
       "\n",
       "     series_description dcm_dir_name  \n",
       "2584        2D GRE - MT     I1496470  \n",
       "2593        2D GRE - MT     I1496469  \n",
       "2594        2D GRE - MT     I1496468  \n",
       "2595        2D GRE - MT     I1496472  \n",
       "2598        2D GRE - MT     I1496471  "
      ]
     },
     "execution_count": 83,
     "metadata": {},
     "output_type": "execute_result"
    }
   ],
   "source": [
    "ppmi_dicom_data[ppmi_dicom_data['series_description']=='2D GRE - MT']"
   ]
  },
  {
   "cell_type": "code",
   "execution_count": 202,
   "id": "b0c4ccd3-a5b1-45b2-839f-8b312ffef0af",
   "metadata": {},
   "outputs": [
    {
     "name": "stdout",
     "output_type": "stream",
     "text": [
      "[  5   6   7   8   9  10  11  12  13  14  15  16  17  18  19  20  21  22\n",
      "  23  24  25  26  27  28  29  30  31  32  33  34  35  36  37  38  39  40\n",
      "  41  42  43  44  45  46  47  48  49  50  51  52  53  54  55  56  57  58\n",
      "  59  60  61  62  63  64  65  66  67  68  69  70  71  72  73  74  75  76\n",
      "  77  78  79  80  81  82  83  84  85  86  87  88  89  90  91  92  93  94\n",
      "  95  96  97  98  99 100 101 102 103 104 105 106 107 108 109 110 111 112\n",
      " 113 114 115 116 117 118 119 120 121 122 123 124 125 126 127 128 129 130\n",
      " 131 132 133 134 135 136 137 138 139 140 141 142 143 144 145 146 147 148\n",
      " 149 150 151 152 153 154 155 156 157 158 159 160 161 162 163 164 165 166\n",
      " 167 168 169 170 171 172 173 174 175 176 177 178 179 180 181 182 183 184\n",
      " 185 186 187 188 189 190 191 192 193 194 195 196 197 198 199 200 201 202\n",
      " 203 204 205 206 207 208 209 210 211 212 213 214 215 216 217 218 219 220\n",
      " 221 222 223 224 225 226 227 228 229 230 231 232 233 234 235 236 237 238\n",
      " 239 240 241 242 243 244 245 246 247 248 249 250 251 252 253 254 255 256\n",
      " 257 258 259 260 261 262 263 264 265 266 267 268 269 270 271 272 273 274\n",
      " 275 276 277 278 279 280 281 282 283 284 285 286 287 288 289 290 291 292\n",
      " 293 294 295 296 297 298 299 300 301 302 303 304 305 306 307 308 309 310\n",
      " 311 312 313 314 315 316 317 318 319 320 321 322 323 324 325 326 327 328\n",
      " 329 330 331 332 333 334 335 336 337 338 339 340 341 342 343 344 345 346\n",
      " 347 348 349 350 351 352 353 354 355 356 357 358 359 360 361 362 363 364\n",
      " 365 366 367 368 369 370 371 372 373 374 375 376 377 378 379 380 381 382\n",
      " 383 384 385 386 387 388 389 390 391 392 393 394 395 396 397 398 399]\n",
      "[2.3479495075899828, 2.080625633892045, 1.8898930311751796, 1.7445341703456925, 1.6287871946292427, 1.5336931237722102, 1.453700202463058, 1.3851593359376755, 1.3255586088821558, 1.2730956567129081, 1.2264452628856524, 1.1845969848901485, 1.1467797770663448, 1.1123870972052008, 1.0809230127518559, 1.0519912578531865, 1.0252762191443578, 1.0005032714654245, 0.9774475061542703, 0.9559194577969806, 0.9357585233711874, 0.9168207654550613, 0.8989919212464172, 0.8821660494915812, 0.8662521874460111, 0.8511699418678058, 0.8368526117544481, 0.8232340047531289, 0.8102607204466465, 0.7978803202107289, 0.7860539332588142, 0.774737879332595, 0.7638972078516465, 0.7534985855962938, 0.7435162915269741, 0.7339198604609029, 0.7246858872294494, 0.7157930437654306, 0.7072166962582234, 0.6989442494297277, 0.6909562519805708, 0.6832349138273351, 0.6757669463952194, 0.668538792726464, 0.6615378864770005, 0.6547525603395787, 0.6481719653319923, 0.6417859993572762, 0.6355853109403979, 0.6295585822581062, 0.6237038824477921, 0.6180089008397577, 0.6124667805424916, 0.6070710293301119, 0.6018154619087654, 0.5966945174799098, 0.5917032801473843, 0.5868318850083337, 0.582080754900326, 0.5774432220493168, 0.5729148281844153, 0.5684913557661603, 0.5641688115706486, 0.5599434119735999, 0.5558115685479782, 0.551769876765007, 0.5478151038716059, 0.5439441784130714, 0.5401541802719126, 0.5364423312328654, 0.5328059860106026, 0.5292426237277864, 0.5257499440311065, 0.5223255706871465, 0.5189672415411082, 0.51567184903124, 0.512439804851284, 0.5092676613455577, 0.5061539078161031, 0.5030961202973104, 0.5000931077644192, 0.4971432515601789, 0.494244999594774, 0.4913955219433019, 0.4885997473303956, 0.4858467160593874, 0.48313999092390575, 0.48047821121315637, 0.47786008718996337, 0.4752843942471268, 0.4727499670555695, 0.4702556940006265, 0.46780184291039845, 0.4653815594644247, 0.46300254658555107, 0.4606591851048719, 0.4583507886778125, 0.4560766224424371, 0.45383592188249433, 0.4516279107014138, 0.4494527146492667, 0.4473069531567625, 0.44519229783733144, 0.44310654778685693, 0.4410518540507953, 0.43902444660844886, 0.43702498114269966, 0.4350529930200341, 0.4331082277746935, 0.4311855516161858, 0.4292906060501863, 0.4274204421530133, 0.4255745375724689, 0.4237523935426058, 0.42195353611018005, 0.4201775166275225, 0.4184239108676313, 0.41669230167008686, 0.4149820329622484, 0.4132878617492281, 0.41161940685066745, 0.4099705874851325, 0.40834079205334434, 0.4067302820252212, 0.40513867994129377, 0.4035656185761561, 0.40201074057308944, 0.4004736980910384, 0.3989541524621419, 0.39745177385843083, 0.39596624096700045, 0.3944972406698106, 0.3930444677289355, 0.3916076244736026, 0.39018642049471797, 0.38878057230185237, 0.3873898030442444, 0.3860138421606613, 0.3846524250477507, 0.3833052927124811, 0.38197219140823035, 0.38065287225244293, 0.3793470908223404, 0.3780546067258677, 0.37677518314152075, 0.3755085863477223, 0.3742545851447608, 0.37301795036250895, 0.371788454190867, 0.37057086964011976, 0.3693649877008099, 0.36817177632897, 0.36699005813823254, 0.3658196507897086, 0.36466037627072995, 0.36351206083936266, 0.36237457326780653, 0.36124768518831213, 0.36013126464830636, 0.35902515607230195, 0.35792920849466414, 0.35684327570394003, 0.35576721642528, 0.35470089454429365, 0.35364417937796083, 0.3525969459865053, 0.3515590755216076, 0.3505254557162674, 0.34950598122101, 0.34849555420720457, 0.34749289715771703, 0.3464987997497813, 0.3455131857112815, 0.34453648395299574, 0.34356744434545905, 0.3426065360517951, 0.34165364612589194, 0.34070866379902565, 0.33977148042509103, 0.3388419894277232, 0.3379200862492214, 0.3370056683009029, 0.33609863491538033, 0.33519888729999125, 0.33430632849195585, 0.3334208633149199, 0.3325423983365819, 0.33167084182901874, 0.3308061037272657, 0.3299480955924905, 0.32909673057452327, 0.32825192337553966, 0.3274135902153899, 0.3265816487975674, 0.32575601827636685, 0.324936619224776, 0.3241233736034514, 0.32331620473042977, 0.32251503725162317, 0.32171979711548665, 0.32093056669815395, 0.3201475989708202, 0.31937028569322373, 0.31859856005889137, 0.31783235662204185, 0.31706661124917335, 0.31631126107023677, 0.31556124440339034, 0.3148165008144118, 0.31407697089786574, 0.3133425963471208, 0.3126133198226808, 0.31188908511177077, 0.31116983677831767, 0.31045552030373336, 0.3097460820060047, 0.30904146899074775, 0.30834162910799595, 0.307646510910205, 0.30695606361191347, 0.3062702370507334, 0.305588981650701, 0.3049122483862604, 0.30423998874940755, 0.30357180805928735, 0.3029099670704245, 0.3022495824547733, 0.3015952724638301, 0.3009465072407299, 0.30029774302658935, 0.2996555139563367, 0.2990174108731473, 0.2983833959593175, 0.2977534319715342, 0.2971274821977877, 0.29650551042656675, 0.29588748090986083, 0.2952733583340063, 0.29466310778030363, 0.29405669469666385, 0.29344908486544513, 0.292850244370847, 0.292255139579391, 0.29166373708557325, 0.29107568688857954, 0.29049068420558494, 0.28990919464617193, 0.28933118317936624, 0.2887566152602634, 0.2881854568212864, 0.2876176742638041, 0.2870532344498298, 0.2864921046938992, 0.28593425275521783, 0.2853796468300042, 0.2848282555439115, 0.2842800479446289, 0.2837349934949949, 0.2831930620654124, 0.28265422392907485, 0.28211844974940875, 0.28158571058174675, 0.2810559778615604, 0.2805292233996776, 0.2800054193760327, 0.27948453833375747, 0.27896655317340263, 0.2784514371469368, 0.277939163852532, 0.2774297072288676, 0.2769230415496672, 0.2764191414185285, 0.2759179817636241, 0.2754195378326731, 0.2749237851878252, 0.2744306997007656, 0.27394025754781204, 0.27345243520532025, 0.2729672094440919, 0.2724845573259687, 0.2720044561983603, 0.27152688368990946, 0.27105181770598924, 0.270579236424259, 0.2701091182902412, 0.2696414420130391, 0.26917618656057724, 0.2687133311569582, 0.268252855275997, 0.26779473863856534, 0.26733896120871437, 0.26688550318753224, 0.26643434501226265, 0.2659854673503389, 0.2655388510961589, 0.26509447736720815, 0.26465232750039924, 0.2642123830487675, 0.26377463608433876, 0.26333906900627163, 0.26290565185457576, 0.262474366996555, 0.26204519700519285, 0.26161812465537254, 0.26119313292097923, 0.26077020497169584, 0.2603493241698753, 0.25993047406746084, 0.25951363840295955, 0.2590988010986595, 0.2586853055671137, 0.258274485065166, 0.2578656099074437, 0.25745866507645065, 0.25705363572038226, 0.25665050714964444, 0.2562492648281051, 0.255849894375459, 0.2554523815591019, 0.25505671229163124, 0.2546628726274929, 0.25427106877964745, 0.25388081857777073, 0.25349236018015664, 0.253105679883682, 0.2527207641333057, 0.25233759951977686, 0.2519561727779045, 0.2515764707842229, 0.2511984805553382, 0.2508221892457165, 0.25044758414589596, 0.2500746526805538, 0.2497033824066572, 0.24933374509467676, 0.2489653151899757, 0.24859855136771683, 0.2482334300253061, 0.2478699377449344, 0.2475080612268631, 0.24714778734351764, 0.2467891031415648, 0.2464369958311563, 0.24608145280051705, 0.24572746160454206, 0.2453750099660761, 0.24502408577453552, 0.24467467708433308, 0.2443267721130173, 0.2439803592394624, 0.24363542700170535, 0.24329196409473614, 0.2429499593682231, 0.24260940182406163, 0.24227028061381645, 0.24193258503665313, 0.2415963045343482, 0.24126142869219794, 0.24092794723359998, 0.240595850017948, 0.24026512703771444, 0.2399357684155468, 0.23960776440141227, 0.2392811053697139, 0.23895578181634375, 0.238631784355843, 0.2383091037183772, 0.23798773074764096, 0.23766765639703108, 0.23734887172762376, 0.23703136790538754, 0.23671513620261314, 0.2364001679785315, 0.23608645470298653, 0.23577445781425252, 0.23546381523282037, 0.23515433946566192, 0.23484602759447037, 0.23453887659896416, 0.234227883140233, 0.2339230437142494, 0.2336193546187377, 0.23331681195858153, 0.23301541165038214, 0.2327151494351188, 0.2324160208753382, 0.2321180213694378, 0.23182114615798252, 0.23152539033147235, 0.23123074883900088, 0.23093721649710947, 0.23064478799871047, 0.2303534579222146, 0.23006322074094343, 0.2297740708321995]\n"
     ]
    },
    {
     "data": {
      "text/plain": [
       "[<matplotlib.lines.Line2D at 0x7fedda054760>]"
      ]
     },
     "execution_count": 202,
     "metadata": {},
     "output_type": "execute_result"
    },
    {
     "data": {
      "image/png": "[encoded data removed]",
      "text/plain": [
       "<Figure size 432x288 with 1 Axes>"
      ]
     },
     "metadata": {
      "needs_background": "light"
     },
     "output_type": "display_data"
    }
   ],
   "source": [
    "import numpy as np\n",
    "import matplotlib.pyplot as plt\n",
    "from statsmodels.stats import power\n",
    "\n",
    "#cohend_lit  = array(array(range(54, 400))/100)\n",
    "smaple_size_list=np.array(list(range(5, 400)))\n",
    "alpha_expected=0.05; \n",
    "power_expected=0.9; \n",
    "\n",
    "print(smaple_size_list)\n",
    "r_d_expected_list=[power.tt_ind_solve_power(effect_size=None, nobs1=x, alpha=0.05, power=0.9, ratio=1, alternative='two-sided') for x in smaple_size_list];\n",
    "print(r_d_expected_list)\n",
    "plt.plot(smaple_size_list, r_d_expected_list, 'b')\n"
   ]
  },
  {
   "cell_type": "markdown",
   "id": "a8227835-825b-4755-94fc-28dd82d066a6",
   "metadata": {},
   "source": [
    "## PPMI Converion: from dicom to BIDS niftis with HeuDiConv_0.9.0 \n",
    "\n",
    "***Due to the limitation of number of inodes on CC, PPMI data is splited into PPMI_1.zip on Beluga and PPMI_2.zip on Narval, the data will be merged after conversion.***\n",
    "\n",
    "    1. Extract all the dicoms in a folder named PPMI: '''unzip PPMI.zip -d ~/scratch/'''\n",
    "    2. Correct studyID problems (takes hours to finish, put into subject paralellization next time): '''python studyID_fixer.py --data PPMI'''\n",
    "    3. '''heudiconv_run1.sh PPMI''' + '''heudiconv_run1.format PPMI'''\n",
    "    4. '''heudiconv_run2.sh PPMI all''' + '''heudiconv_run2.format PPMI'''\n",
    "    5. Merge PPMI from Beluga nad Narval."
   ]
  },
  {
   "cell_type": "code",
   "execution_count": 2,
   "id": "9898aeb4-7d70-400c-b1e4-76c1178db93b",
   "metadata": {},
   "outputs": [
    {
     "name": "stdout",
     "output_type": "stream",
     "text": [
      "dicom info:  ['patient_id', 'patient_age', 'patient_sex', 'dim1', 'dim2', 'dim3', 'dim4', 'TR', 'TE', 'series_description', 'dcm_dir_name']\n",
      "total number of subjects: \n"
     ]
    },
    {
     "data": {
      "text/plain": [
       "569"
      ]
     },
     "metadata": {},
     "output_type": "display_data"
    },
    {
     "name": "stdout",
     "output_type": "stream",
     "text": [
      "subjects without series_description: \n"
     ]
    },
    {
     "data": {
      "text/plain": [
       "1"
      ]
     },
     "metadata": {},
     "output_type": "display_data"
    },
    {
     "name": "stdout",
     "output_type": "stream",
     "text": [
      "subjects without sex: \n"
     ]
    },
    {
     "data": {
      "text/plain": [
       "20"
      ]
     },
     "metadata": {},
     "output_type": "display_data"
    },
    {
     "name": "stdout",
     "output_type": "stream",
     "text": [
      "subjects without age: \n"
     ]
    },
    {
     "data": {
      "text/plain": [
       "14"
      ]
     },
     "metadata": {},
     "output_type": "display_data"
    },
    {
     "name": "stdout",
     "output_type": "stream",
     "text": [
      "subjects with any NA values : \n"
     ]
    },
    {
     "data": {
      "text/plain": [
       "21"
      ]
     },
     "metadata": {},
     "output_type": "display_data"
    }
   ],
   "source": [
    "# return the dicom rows with na\n",
    "print(\"dicom info: \", dicom_list)\n",
    "print(\"total number of subjects: \")\n",
    "display(ppmi_dicom_data.patient_id.unique().size)\n",
    "print(\"subjects without series_description: \")\n",
    "display(ppmi_dicom_data[ppmi_dicom_data['series_description'].isnull()].patient_id.unique().size)\n",
    "print(\"subjects without sex: \")\n",
    "display(ppmi_dicom_data[ppmi_dicom_data['patient_sex'].isnull()].patient_id.unique().size)\n",
    "print(\"subjects without age: \")\n",
    "display(ppmi_dicom_data[ppmi_dicom_data['patient_age'].isnull()].patient_id.unique().size)\n",
    "print(\"subjects with any NA values : \")\n",
    "display(ppmi_dicom_data[ppmi_dicom_data.isna().any(axis=1)].patient_id.unique().size)"
   ]
  },
  {
   "cell_type": "markdown",
   "id": "c7cac6b7-5057-4a34-983d-bd7f23d5e267",
   "metadata": {
    "tags": []
   },
   "source": [
    "## Merging Ross's PPMI protocol and split modalities\n",
    "https://github.com/rmarkello/pypmi\n",
    "\n",
    "    1. All the protocols in Ross list and current dicom list are all included;\n",
    "    2. Naming the dwi derivatives according to the most recent but unpublished dwi BIDS standard: (https://github.com/bids-standard/bids-bep016/blob/bep-016/src/05-derivatives/05-diffusion-derivatives.md)\n",
    "    3. \n",
    "    "
   ]
  },
  {
   "cell_type": "code",
   "execution_count": 51,
   "id": "a69108ce-a388-472b-bdc9-260f01caf1a1",
   "metadata": {},
   "outputs": [
    {
     "name": "stdout",
     "output_type": "stream",
     "text": [
      "\n",
      "0 protocols in ross protocol but not in Vincent protocol, and they are: \n",
      " \n",
      "\n",
      "1 protocols in dicom protocol but not in Vincent protocol, and they are: \n",
      " nan\n",
      "\n",
      "70 protocols in both, and they are: \n",
      " REPEAT_NON DTI_GATED ,DTI_none_gated ,Repeat DTI_non gated ,Repeat DTI Sequence ,MPRAGE GRAPPA2 ,DTI_non_gated ,DTI_gated_ADC ,TRIGGERED DTI ,REPEAT_DTI_NON-GATED ,SAG T1 3D MPRAGE ,Axial PD-T2 TSE_AC PC line ,DTI_gated_FA ,DTI_ NON gated REPEAT ,DTI_gated_TRACEW ,REPEAT_DTI_GATED ,DTI_gated#1 ,DTI_gated#2 ,SAG MPRAGE GRAPPA_ND ,Axial PD-T2-FS TSE ,DTI_non gated Repeat ,DTI_NON_GATED ,DTI_ non_gated ,MPRAGE w/ GRAPPA ,DTI_Non gated ,DTI_pulse gated_AC PC line ,DTI_NON-GATED ,MPRAGE T1 SAG ,DTI_Non gated Repeat ,REPEAT_DTI_NON GATED ,DTI_GATED ,REPEAT_NON_GATED ,DTI_ungated ,MPRAGE_GRAPPA ,AXIAL PD-T2 TSE FS ,Axial PD-T2 TSE FS ,DTI_gated AC-PC LINE ,T1 ,T2 ,REPEAT DTI_NON GATED ,DTI_gated ,DTI_NON gated ,REPEAT_DTI_NONGATED ,SAG MPRAGE GRAPPA ,Axial PD-T2 TSE_AC/PC line ,DTI_UNgated ,MPRAGE GRAPPA 2 ,DTI_Non-gated ,Sag MPRAGE GRAPPA ,DTI_NON gated REPEAT ,DTI_ non gated ,MPRAGE 2 ADNI ,SAG MPRAGE GRAPPA2-NEW2016 ,DTI ,MPRAGE GRAPPA2(adni) ,REPEAT_DTI_ NON GATED ,MPRAGE GRAPPA_ND ,DTI_UNgated#2 ,DTI_non gated repeat ,DTI_non gated ,REPEAT DTI_NON gated ,DTI_NONGATED ,Axial PD-T2 TSE ,DTI_NON GATED ,DTI Sequence ,MPRAGE_GRAPPA_ADNI ,MPRAGE GRAPPA ,MPRAGE ADNI ,DTI_pulse gated_AC/PC line ,AX PD + T2 ,DTI_Non Gated\n",
      "\n",
      "83 protocols only in current PPMI, and they are: \n",
      " nan ,DTI_30dir L-R ,NON DTI_gated ,2D GRE MT ,Axial FLAIR ,AX DTI   R - L ,DTI_LR_split_1 ,3D SAG T1 MPRAGE_ND ,3D T2 FLAIR_ti1650 ,3D T1 ,AXIAL_T2_STAR ,2D GRE-NM_MT ,Accelerated Sag IR-FSPGR ,SAG CUBE FLAIR ,DTI_30dir R-L ,Axial DTI FREQ A_P ,Ax DTI ,DTI_RL_split_1 ,Axial DTI R>L ,MPRAGE - Sag ,DTI Sequence_TRACEW ,3D_Brain_VIEW_FLAIR_SAG ,DTI_gated AC-PC LINE_TRACEW ,DTI Sequence REPEAT ,MPRAGE Phantom GRAPPA2 ,DTI_RL ,AXIAL 2D GRE-MT ,3D T2  SPC FLAIR C9C1HN007 ,3D_T2_FLAIR_SAG INVICCRO T2 FLAIR ,DTI_LR ,3D T2 FLAIR ,DTI Sequence_ADC ,DTI_TRACEW ,3D T2 FLAIR_SAGITAL ,B0rf Map ,ep2d_diff_RL ,DTI_NON-gated ,DTI_non gated Repeated ,DTI_ RL ,DTI_none gated ,2D GRE-MT ,AX DTI   L - R  (ROTATE AXIAL FOV 45 DEGREES) ,Sag MPRAGE GRAPPA_ND ,Field_mapping ,LOWER 2D GRE MT ,ep2d_diff_LR ,SAG 3D T1 FSPGR ,3D T1-weighted ,2D GRE - MT ,MPRAGE ,3D SAG T1 MPRAGE ,3D T1 MPRAGE ,DTI_FA ,2D DTI EPI FAT SHIFT RIGHT ,DTI_N0N GATED ,DTI_ADC ,AX DTI LR ,DTI_ LR ,localizer ,3D T2 FLAIR_ti1650_ND ,DTI Sequence_FA ,3D_T2_FLAIR ,DTI_non-gated ,T1-weighted, 3D VOLUMETRIC ,MPRAGE w/ GRAPPA 2 ,DTI_gated NON ,DTI_EXP ,Axial DTI L>R ,AX DTI   L - R ,PPMI_MPRAGE_GRAPPA2 ,AX GRE -MT ,SAG 3D FLAIR ,2D GRE-MT_RPT2 ,Sag 3D T2 FLAIR ,SAG FSPGR 3D VOLUMETRIC T1 ,3D T2 FLAIR_ND ,AX DTI RL ,2D_GRE-MT ,DTI_gated AC-PC LINE_FA ,tra_T1_MPRAGE ,2D GRE-NM ,2D DTI EPI FAT SHIFT LEFT ,GRE B0\n",
      "\n",
      "74 protocols only in Ross PPMI, and they are: \n",
      " T2  AXIAL FLAIR ,t2_tse_tra ,FSPGR 3D SAG ,Ax T2* GRE ,AX FLAIR ,Ax T2 FSE ,AX T2 AC-PC line Entire Brain ,ep2d_bold_rest ,AXIAL PD+T2 TSE ,Ax T2 FLAIR ,FLAIR ,SAG 3D T1 ,AX DE TSE ,AX T1 FLAIR ,SAG 3D SPGR ,T2W_TSE ,AXIAL FLAIR ,AX T2 AC-PC LINE ENTIRE BRAIN ,axial spgr ,AXIAL T1 3D MPRAGE ,sT1W_3D_ISO ,Ax T1 FLAIR ,Ax T2 FLAIR  ang to ac-pc ,sag 3D FSPGR BRAVO straight ,ep2d_RESTING_STATE ,*Ax T2 FSE ,AX FLAIR T2 ,*AX FSE T2 ,AX T1 SE C+ ,FLAIR_LongTR AX ,MPRAGEadni ,t2 cor ,SAG T1 3D FSPGR ,T1W_3D_FFE AX ,AX T2 FLAIR 5/1 ,AX DUAL_TSE ,SAG T1 MPRAGE ,t2_tirm_tra_dark-fluid NO BLADE ,AX T2 DE ,sag mprage ,SAG SPGR 3D ,SAG FSPGR BRAVO ,t2_tirm_tra_dark-fluid_ ,t2 weighted double echo ,sT1W_3D_TFE ,AX T1 ,DUAL_TSE ,PD-T2 DUAL AXIAL TSE ,T2W_FLAIR ,Ax PD /T2 ,SAG FSPGR 3D SAG 3D FSPGR BRAVO STRAIGHT ,FLAIR_longTR ,SAG T1 3D FSPGR 3RD REPEAT ,Cor FLAIR TI_2800ms ,sT1W_3D_FFE ,AXIAL FSE T2 FS ,AX T2 FSE ,AXIAL  T2  FSE ,Ax T2 Fse thin ac-pc ,AX T2 FLAIR ,SAG FSPGR 3D  ,t1_mpr_ns_sag_p2_iso ,T2 COR ,SAG 3D FSPGR BRAVO STRAIGHT ,FLAIR_LongTR SENSE ,3D SAG ,SAG T1 3DMPRAGE ,MPRAGE SAG ,T1 Repeat ,SAG FSPGR 3D ,FLAIR AXIAL ,ax flair ,AX T2 ,sT2W/PD_TSE\n"
     ]
    }
   ],
   "source": [
    "# Ross series_description included\n",
    "T1W_SERIES      = ['MPRAGE 2 ADNI', 'MPRAGE ADNI', 'MPRAGE GRAPPA 2', 'MPRAGE GRAPPA2', 'MPRAGE GRAPPA2(adni)', 'MPRAGE w/ GRAPPA', 'MPRAGE_GRAPPA', 'MPRAGE_GRAPPA_ADNI', 'MPRAGE GRAPPA', 'SAG T1 3D MPRAGE', 'sag mprage', 'MPRAGEadni', 'MPRAGE GRAPPA_ND', '3D SAG', 'MPRAGE T1 SAG', 'MPRAGE SAG', 'SAG T1 3DMPRAGE', 'SAG T1 MPRAGE', 'SAG 3D T1', 'SAG MPRAGE GRAPPA2-NEW2016', 'SAG MPRAGE GRAPPA_ND', 'Sag MPRAGE GRAPPA', 'AXIAL T1 3D MPRAGE', 'SAG MPRAGE GRAPPA', 'sT1W_3D_FFE', 'sT1W_3D_ISO', 'sT1W_3D_TFE', 'sag 3D FSPGR BRAVO straight', 'SAG T1 3D FSPGR', 'SAG FSPGR 3D SAG 3D FSPGR BRAVO STRAIGHT', 'SAG T1 3D FSPGR 3RD REPEAT', 'SAG FSPGR BRAVO', 'SAG SPGR 3D', 'SAG 3D SPGR', 'FSPGR 3D SAG', 'SAG FSPGR 3D', 'SAG 3D FSPGR BRAVO STRAIGHT', 'SAG FSPGR 3D ', 't1_mpr_ns_sag_p2_iso', 'T1', 'T1 Repeat', 'AX T1', 'axial spgr', 'T1W_3D_FFE AX', 'AX T1 SE C+']\n",
    "T2W_SERIES      = ['t2_tse_tra', 't2 cor', 'T2 COR', 'T2W_TSE', 'AX T2', 'AX T2 AC-PC LINE ENTIRE BRAIN', 'AX T2 AC-PC line Entire Brain', 'Ax T2 Fse thin ac-pc', 'AXIAL FSE T2 FS']\n",
    "PD_SERIES       = ['Ax T2* GRE']\n",
    "PDT2_SERIES     = ['AX DE TSE', 'AX DUAL_TSE', 'DUAL_TSE', 'sT2W/PD_TSE', 'Axial PD-T2-FS TSE', 'Axial PD-T2 TSE', 'Axial PD-T2 TSE FS', 'AXIAL PD-T2 TSE FS', 'AX PD + T2', 'PD-T2 DUAL AXIAL TSE', 'Axial PD-T2 TSE_AC/PC line', 'Axial PD-T2 TSE_AC PC line', 'Ax PD /T2', 'AXIAL PD+T2 TSE', 'AX T2 DE', 't2 weighted double echo', 'T2']\n",
    "FLAIR_SERIES    = ['FLAIR_LongTR AX', 'FLAIR_LongTR SENSE', 'AX FLAIR', 'AXIAL FLAIR', 'FLAIR_longTR', 'FLAIR AXIAL', 'ax flair', 'Cor FLAIR TI_2800ms', 'FLAIR', 'AX T2 FLAIR', 'T2  AXIAL FLAIR', 'Ax T2 FLAIR  ang to ac-pc', 'T2W_FLAIR', 'AX FLAIR T2', 'AX T2 FLAIR 5/1', 'Ax T2 FLAIR', 't2_tirm_tra_dark-fluid_', 't2_tirm_tra_dark-fluid NO BLADE', 'Ax T1 FLAIR', 'AX T1 FLAIR']\n",
    "BOLD_SERIES     = ['ep2d_RESTING_STATE', 'ep2d_bold_rest']\n",
    "DTI_SERIES      = ['DTI_gated', 'DTI_non_gated', 'DTI_pulse gated_AC/PC line', 'REPEAT_DTI_GATED', 'DTI_NONGATED', 'REPEAT_DTI_NONGATED', 'TRIGGERED DTI', 'DTI_NON gated', 'DTI_ non_gated', 'DTI_non gated Repeat', 'DTI_NON-GATED', 'REPEAT_DTI_NON-GATED', 'DTI_none_gated', 'DTI_non gated', 'Repeat DTI_non gated', 'REPEAT_NON_GATED', 'DTI', 'REPEAT_DTI_ NON GATED', 'REPEAT_DTI_NON GATED', 'DTI_NON GATED', 'DTI Sequence', 'DTI_ NON gated REPEAT', 'DTI_ non gated', 'DTI_GATED', 'DTI_NON gated REPEAT', 'DTI_NON_GATED', 'DTI_Non Gated', 'DTI_Non gated', 'DTI_Non gated Repeat', 'DTI_Non-gated', 'DTI_UNgated', 'DTI_UNgated#2', 'DTI_gated AC-PC LINE', 'DTI_gated#1', 'DTI_gated#2', 'DTI_gated_ADC', 'DTI_gated_FA', 'DTI_gated_TRACEW', 'DTI_non gated repeat', 'DTI_pulse gated_AC PC line', 'DTI_ungated', 'REPEAT DTI_NON GATED', 'REPEAT DTI_NON gated', 'REPEAT_NON DTI_GATED', 'Repeat DTI Sequence']\n",
    "T2W_PDT2_SERIES = ['Ax T2 FSE', '*AX FSE T2', 'AX T2 FSE', '*Ax T2 FSE', 'AXIAL  T2  FSE']\n",
    "\n",
    "# Vincent series_description included\n",
    "T1W_SERIES_vin = ['MPRAGE 2 ADNI', 'MPRAGE ADNI', 'MPRAGE GRAPPA 2', 'MPRAGE GRAPPA2', 'MPRAGE GRAPPA2(adni)', 'MPRAGE w/ GRAPPA', 'MPRAGE_GRAPPA', 'MPRAGE_GRAPPA_ADNI', 'MPRAGE GRAPPA', 'SAG T1 3D MPRAGE', 'sag mprage', 'MPRAGEadni', 'MPRAGE GRAPPA_ND', '3D SAG', 'MPRAGE T1 SAG', 'MPRAGE SAG', 'SAG T1 3DMPRAGE', 'SAG T1 MPRAGE', 'SAG 3D T1', 'SAG MPRAGE GRAPPA2-NEW2016', 'SAG MPRAGE GRAPPA_ND', 'Sag MPRAGE GRAPPA', 'AXIAL T1 3D MPRAGE', 'SAG MPRAGE GRAPPA', 'sT1W_3D_FFE', 'sT1W_3D_ISO', 'sT1W_3D_TFE', 'sag 3D FSPGR BRAVO straight', 'SAG T1 3D FSPGR', 'SAG FSPGR 3D SAG 3D FSPGR BRAVO STRAIGHT', 'SAG T1 3D FSPGR 3RD REPEAT', 'SAG FSPGR BRAVO', 'SAG SPGR 3D', 'SAG 3D SPGR', 'FSPGR 3D SAG', 'SAG FSPGR 3D', 'SAG 3D FSPGR BRAVO STRAIGHT', 'SAG FSPGR 3D ', 't1_mpr_ns_sag_p2_iso', 'T1', 'T1 Repeat', 'AX T1', 'axial spgr', 'T1W_3D_FFE AX', 'AX T1 SE C+', '3D SAG T1 MPRAGE', '3D SAG T1 MPRAGE_ND', '3D T1', '3D T1 MPRAGE', '3D T1-weighted', 'Accelerated Sag IR-FSPGR', 'MPRAGE', 'MPRAGE - Sag', 'MPRAGE Phantom GRAPPA2', 'MPRAGE w/ GRAPPA 2', 'PPMI_MPRAGE_GRAPPA2', 'SAG 3D T1 FSPGR', 'SAG FSPGR 3D VOLUMETRIC T1', 'Sag MPRAGE GRAPPA_ND', 'T1-weighted, 3D VOLUMETRIC', 'tra_T1_MPRAGE']\n",
    "T2W_SERIES_vin = ['t2_tse_tra', 't2 cor', 'T2 COR', 'T2W_TSE', 'AX T2', 'AX T2 AC-PC LINE ENTIRE BRAIN', 'AX T2 AC-PC line Entire Brain', 'Ax T2 Fse thin ac-pc', 'AXIAL FSE T2 FS', '2D GRE - MT', '2D GRE MT', '2D GRE-MT', '2D GRE-MT_RPT2', '2D GRE-NM', '2D GRE-NM_MT', '2D_GRE-MT', 'AX GRE -MT', 'AXIAL 2D GRE-MT', 'LOWER 2D GRE MT']\n",
    "T2_STAR_SERIES_vin = ['AXIAL_T2_STAR']\n",
    "PD_SERIES_vin = ['Ax T2* GRE']\n",
    "T2W_PDT2_SERIES_vin = ['Ax T2 FSE', '*AX FSE T2', 'AX T2 FSE', '*Ax T2 FSE', 'AXIAL  T2  FSE']\n",
    "PDT2_SERIES_vin = ['AX DE TSE', 'AX DUAL_TSE', 'DUAL_TSE', 'sT2W/PD_TSE', 'Axial PD-T2-FS TSE', 'Axial PD-T2 TSE', 'Axial PD-T2 TSE FS', 'AXIAL PD-T2 TSE FS', 'AX PD + T2', 'PD-T2 DUAL AXIAL TSE', 'Axial PD-T2 TSE_AC/PC line', 'Axial PD-T2 TSE_AC PC line', 'Ax PD /T2', 'AXIAL PD+T2 TSE', 'AX T2 DE', 't2 weighted double echo', 'T2']\n",
    "FLAIR_SERIES_vin = ['FLAIR_LongTR AX', 'FLAIR_LongTR SENSE', 'AX FLAIR', 'AXIAL FLAIR', 'FLAIR_longTR', 'FLAIR AXIAL', 'ax flair', 'Cor FLAIR TI_2800ms', 'FLAIR', 'AX T2 FLAIR', 'T2  AXIAL FLAIR', 'Ax T2 FLAIR  ang to ac-pc', 'T2W_FLAIR', 'AX FLAIR T2', 'AX T2 FLAIR 5/1', 'Ax T2 FLAIR', 't2_tirm_tra_dark-fluid_', 't2_tirm_tra_dark-fluid NO BLADE', 'Ax T1 FLAIR', 'AX T1 FLAIR', '3D T2  SPC FLAIR C9C1HN007', '3D T2 FLAIR', '3D T2 FLAIR_ND', '3D T2 FLAIR_SAGITAL', '3D T2 FLAIR_ti1650', '3D T2 FLAIR_ti1650_ND', '3D_Brain_VIEW_FLAIR_SAG', '3D_T2_FLAIR', '3D_T2_FLAIR_SAG INVICCRO T2 FLAIR', 'SAG 3D FLAIR', 'SAG CUBE FLAIR', 'Sag 3D T2 FLAIR']\n",
    "DTI_SERIES_vin = ['DTI_gated', 'DTI_non_gated', 'DTI_pulse gated_AC/PC line', 'REPEAT_DTI_GATED', 'DTI_NONGATED', 'REPEAT_DTI_NONGATED', 'TRIGGERED DTI', 'DTI_NON gated', 'DTI_ non_gated', 'DTI_non gated Repeat', 'DTI_NON-GATED', 'REPEAT_DTI_NON-GATED', 'DTI_none_gated', 'DTI_non gated', 'Repeat DTI_non gated', 'REPEAT_NON_GATED', 'DTI', 'REPEAT_DTI_ NON GATED', 'REPEAT_DTI_NON GATED', 'DTI_NON GATED', 'DTI Sequence', 'DTI_ NON gated REPEAT', 'DTI_ non gated', 'DTI_GATED', 'DTI_NON gated REPEAT', 'DTI_NON_GATED', 'DTI_Non Gated', 'DTI_Non gated', 'DTI_Non gated Repeat', 'DTI_Non-gated', 'DTI_UNgated', 'DTI_UNgated#2', 'DTI_gated AC-PC LINE', 'DTI_gated#1', 'DTI_gated#2', 'DTI_gated_ADC', 'DTI_gated_FA', 'DTI_gated_TRACEW', 'DTI_non gated repeat', 'DTI_pulse gated_AC PC line', 'DTI_ungated', 'REPEAT DTI_NON GATED', 'REPEAT DTI_NON gated', 'REPEAT_NON DTI_GATED', 'Repeat DTI Sequence', '2D DTI EPI FAT SHIFT LEFT', '2D DTI EPI FAT SHIFT RIGHT', 'AX DTI   L - R', 'AX DTI   L - R  (ROTATE AXIAL FOV 45 DEGREES)', 'AX DTI   R - L', 'AX DTI LR', 'AX DTI RL', 'Ax DTI', 'Axial DTI FREQ A_P', 'Axial DTI L>R', 'Axial DTI R>L', 'Axial FLAIR', 'DTI_ LR', 'DTI_ RL', 'DTI_30dir L-R', 'DTI_30dir R-L', 'DTI_LR', 'DTI_LR_split_1', 'DTI_N0N GATED', 'DTI_NON-gated', 'DTI_RL', 'DTI_RL_split_1', 'DTI_gated NON', 'DTI_non gated Repeated', 'DTI_non-gated', 'DTI_none gated', 'NON DTI_gated']\n",
    "DTI_derivatives_vin = ['DTI Sequence REPEAT', 'DTI Sequence_ADC', 'DTI Sequence_FA', 'DTI Sequence_TRACEW', 'DTI_ADC', 'DTI_EXP', 'DTI_FA', 'DTI_TRACEW', 'DTI_gated AC-PC LINE_FA', 'DTI_gated AC-PC LINE_TRACEW']  \n",
    "BOLD_SERIES_vin = ['ep2d_RESTING_STATE', 'ep2d_bold_rest', 'ep2d_diff_LR', 'ep2d_diff_RL']\n",
    "UN_classified_SERIES_vin = ['B0rf Map', 'Field_mapping', 'GRE B0', 'localizer']\n",
    "\n",
    "# dicom series_description in sdMRI\n",
    "current_protocol=set(ppmi_dicom_data.series_description.unique())\n",
    "ross_protocol=set(T1W_SERIES+T2W_SERIES+PD_SERIES+PDT2_SERIES+FLAIR_SERIES+BOLD_SERIES+DTI_SERIES+T2W_PDT2_SERIES)\n",
    "vincent_protocol=set(T1W_SERIES_vin+T2W_SERIES_vin+T2_STAR_SERIES_vin+PD_SERIES_vin+T2W_PDT2_SERIES_vin+PDT2_SERIES_vin+FLAIR_SERIES_vin+BOLD_SERIES_vin+DTI_SERIES_vin+DTI_derivatives_vin+UN_classified_SERIES_vin)\n",
    "\n",
    "print('\\n'+str(len(ross_protocol - vincent_protocol))+' protocols in ross protocol but not in Vincent protocol, and they are: \\n', ' ,'.join(list(ross_protocol - vincent_protocol)))\n",
    "print('\\n'+str(len(current_protocol-vincent_protocol))+' protocols in dicom protocol but not in Vincent protocol, and they are: \\n', ' ,'.join([str(x) for x in list(current_protocol-vincent_protocol)]))\n",
    "print('\\n'+str(len(ross_protocol & current_protocol))+' protocols in both, and they are: \\n', ' ,'.join(list(ross_protocol & current_protocol)))\n",
    "print('\\n'+str(len(current_protocol-ross_protocol))+' protocols only in current PPMI, and they are: \\n', ' ,'.join([str(x) for x in list(current_protocol-ross_protocol)]))\n",
    "print('\\n'+str(len(ross_protocol-current_protocol))+' protocols only in Ross PPMI, and they are: \\n', ' ,'.join(list(ross_protocol-current_protocol)))"
   ]
  },
  {
   "cell_type": "code",
   "execution_count": 179,
   "id": "983095bd-93a0-4d4d-89ba-a342ffaa4dd7",
   "metadata": {},
   "outputs": [
    {
     "name": "stderr",
     "output_type": "stream",
     "text": [
      "/usr/local/miniconda/lib/python3.8/site-packages/bids/layout/models.py:148: FutureWarning: The 'extension' entity currently excludes the leading dot ('.'). As of version 0.14.0, it will include the leading dot. To suppress this warning and include the leading dot, use `bids.config.set_option('extension_initial_dot', True)`.\n",
      "  warnings.warn(\"The 'extension' entity currently excludes the leading dot ('.'). \"\n"
     ]
    },
    {
     "name": "stdout",
     "output_type": "stream",
     "text": [
      "BIDS Layout: .../scratch/runningMDD_BIDS | Subjects: 48 | Sessions: 144 | Runs: 0\n"
     ]
    }
   ],
   "source": [
    "from bids import BIDSLayout\n",
    "bids_path = \"/scratch/runningMDD_BIDS\"\n",
    "runningMDD_layout = BIDSLayout(bids_path, validate=False)\n",
    "print(runningMDD_layout)"
   ]
  },
  {
   "cell_type": "code",
   "execution_count": 184,
   "id": "3c399b66-0abe-4715-86e6-8636971d6334",
   "metadata": {},
   "outputs": [
    {
     "name": "stdout",
     "output_type": "stream",
     "text": [
      "season101\n",
      "Number of patterns detected: 2\n",
      "Remember to double-check everything and to replace <deg> with a degree symbol.\n",
      "For session 1:\n",
      "\tMR data were acquired using a 3-Tesla Siemens Skyra MRI scanner.\n",
      "\tT1-weighted segmented k-space, spoiled, MAG prepared, and oversampling phase gradient recalled and inversion recovery (GR/IR) structural MRI data were collected (256 slices; repetition time, TR=2200ms; echo time, TE=2.18ms; flip angle, FA=8<deg>; field of view, FOV=197.12x224mm; matrix size=224x256; voxel size=0.88x0.88x0.88mm). \n",
      "\tT1-weighted segmented k-space, spoiled, MAG prepared, and oversampling phase gradient recalled and inversion recovery (GR/IR) structural MRI data were collected (256 slices; repetition time, TR=2200ms; echo time, TE=2.18ms; flip angle, FA=8<deg>; field of view, FOV=197.12x224mm; matrix size=224x256; voxel size=0.88x0.88x0.88mm). \n",
      "\tT1-weighted segmented k-space, spoiled, MAG prepared, and oversampling phase gradient recalled and inversion recovery (GR/IR) structural MRI data were collected (256 slices; repetition time, TR=2200ms; echo time, TE=2.18ms; flip angle, FA=8<deg>; field of view, FOV=197.12x224mm; matrix size=224x256; voxel size=0.88x0.88x0.88mm). \n",
      "\n",
      "Dicoms were converted to NIfTI-1 format using dcm2niix (v1.0.20200427). This section was (in part) generated automatically using pybids (0.13.1). \n"
     ]
    }
   ],
   "source": [
    "# Get subject variables as a dataframe and merge them back in with the layout\n",
    "subj_df = runningMDD_layout.get(return_type='id', target='subject', suffix='T1w')\n",
    "print(subj_df)\n",
    "# bids validate\n",
    "from bids import BIDSValidator\n",
    "validator = BIDSValidator()\n",
    "validator.is_bids('/sub-02/ses-01/anat/sub-02_ses-01_PDT2.nii.gz')\n",
    "# report protocols\n",
    "from bids.reports import BIDSReport\n",
    "report = BIDSReport(runningMDD_layout)\n",
    "print(report.generate(session='1').most_common()[0][0])"
   ]
  },
  {
   "cell_type": "markdown",
   "id": "47cccfdd-eb02-4dab-a114-2b3c2a5e4007",
   "metadata": {},
   "source": [
    "## more experiences\n",
    "    1. rbd score>=13 （5 not good for RBD but 6 for PD）\n"
   ]
  },
  {
   "cell_type": "code",
   "execution_count": 62,
   "id": "603e7a7b-8b9a-4526-b8c2-18eec55227df",
   "metadata": {},
   "outputs": [
    {
     "data": {
      "text/plain": [
       "<matplotlib.legend.Legend at 0x7fede2f58eb0>"
      ]
     },
     "execution_count": 62,
     "metadata": {},
     "output_type": "execute_result"
    },
    {
     "data": {
      "image/png": "[encoded data removed]",
      "text/plain": [
       "<Figure size 432x288 with 1 Axes>"
      ]
     },
     "metadata": {
      "needs_background": "light"
     },
     "output_type": "display_data"
    }
   ],
   "source": [
    "# need some updates...\n",
    "# the experiments on dicom header information includes find the exact field to filder the correct images, and check the dimentions of corresponding images.\n",
    "# filter T1 with T1 or MPRAGE in series_description\n",
    "from matplotlib import pyplot as plt \n",
    "select_image = ['patient_id',  'dim1', 'dim2', 'dim3', 'dim4', 'TR', 'TE', 'series_description', 'dcm_dir_name'];\n",
    "tmp_dcm_df = ppmi_dicom_data[select_image].dropna()\n",
    "tmp_dcm_df[tmp_dcm_df['series_description'].str.contains('T1|MPRAGE', regex=True)].dim3.hist(alpha=0.6, label='T1')\n",
    "# filter T2 with T2 in series_description\n",
    "tmp_dcm_df[tmp_dcm_df['series_description'].str.contains('T2')].dim3.hist(bins=10, alpha=0.6, label='T2')\n",
    "# filter DTI with T1 in series_description\n",
    "tmp_dcm_df[tmp_dcm_df['series_description'].str.contains('DTI')].dim3.hist(bins=10, alpha=0.6, label='DWI')\n",
    "#plt.xlim([100,500])\n",
    "plt.legend()"
   ]
  },
  {
   "cell_type": "code",
   "execution_count": 16,
   "id": "6a5306ae-0d10-4674-9e29-9bb37d9ef696",
   "metadata": {},
   "outputs": [],
   "source": [
    "# reorganize PPMI Imaging data for easier query\n",
    "tmp=ppmi_img_dl_data.groupby('Subject').agg(lambda x: list(x))\n",
    "# get subject related features.\n",
    "tmp['group'] = tmp['Group'].apply(lambda x: list(set(x))[0])\n",
    "tmp['sex']   = tmp['Sex'].apply(lambda x: list(set(x))[0])\n",
    "tmp['visit']  = tmp['Visit'].apply(lambda x: list(set(x)))\n",
    "tmp['image_modality']  = tmp['Modality'].apply(lambda x: list(set(x)))\n",
    "tmp['image_details'] =  tmp['Visit'].apply(lambda x: [str(y) for y in list(set(x))])\n",
    "# get \n",
    "for x in tmp.index:\n",
    "    tmp_str = ''\n",
    "    for y in range(len(tmp.loc[x,'Visit'])):\n",
    "        if y==0:\n",
    "            tmp_str=str(tmp.loc[x,'Visit'][y])+'@'+str(tmp.loc[x,'Age'][y])+'@'+str(tmp.loc[x,'Modality'][y])+'@'+str(tmp.loc[x,'Image Data ID'][y])+'@'+str(tmp.loc[x,'Description'][y]);\n",
    "        else:\n",
    "            tmp_str=tmp_str+'+++'+str(tmp.loc[x,'Visit'][y])+'@'+str(tmp.loc[x,'Age'][y])+'@'+str(tmp.loc[x,'Modality'][y])+'@'+str(tmp.loc[x,'Image Data ID'][y])+'@'+str(tmp.loc[x,'Description'][y]);\n",
    "    tmp.loc[x,'image_details']=tmp_str\n",
    "ppmi_img_dl_data=tmp.drop(columns=['Image Data ID','Visit','Sex','Age','Group','Modality','Description'])\n",
    "\n",
    "# subjects with MRI&DTI\n",
    "tmp_imaging = ppmi_img_dl_data.copy()\n",
    "tmp_imaging['filter_modality'] = tmp_imaging['image_modality'].apply(lambda x: x if len(x)>1 else np.nan).copy()\n",
    "tmp_imaging=tmp_imaging.dropna()\n",
    "tmp_imaging['img_visit']=tmp_imaging['visit']\n",
    "tmp_imaging=tmp_imaging.drop(columns=['image_modality','image_details','filter_modality','visit'])"
   ]
  },
  {
   "cell_type": "code",
   "execution_count": 17,
   "id": "885772d3-4691-44b2-84fe-710a2d4e7076",
   "metadata": {},
   "outputs": [],
   "source": [
    "## preproc of tabular data\n",
    "clinical_visit = ['BL', 'V04', 'V06', 'V08', 'V10', 'V12', 'V14', 'V15', 'V17', 'SC',\n",
    "                  'V01', 'V02', 'V03', 'V05', 'V07', 'V09', 'V11', 'ST', 'V13',\n",
    "                  'V16', 'PW', 'RS1', 'R17', 'R16', 'R15', 'V18', 'U01', 'R18',\n",
    "                  'R14', 'R13', 'R08', 'R12', 'R06', 'R10', 'R04', 'R01'];\n",
    "# visit: V01: 1,2,3    remote visit: R17:-17  Unscheduled visit: U01, -100\n",
    "# screening:SC: -110 , RS1: rescreening, -111; RS2 rescreening, -112\n",
    "# ST:Symptomatic Therapy -1000, \n",
    "# PW: Premature Withdrawal = -10000\n",
    "unified_visit = [0, 4, 6, 8, 10, 12, 14, 15, 17, -110,\n",
    "                 1, 2, 3, 5, 7, 9, 1, -1000, 13,\n",
    "                 16, -10000, -111, -17, -16, -15, 18, -100, -18,\n",
    "                 -14, -13, -8, -12, -6, -10, -4, -1];\n",
    "visit_dict = dict(zip(clinical_visit, unified_visit))\n",
    "\n",
    "# subjects with UPDRS\n",
    "tmp_updrs3=ppmi_updrs3_data[['PATNO','EVENT_ID']].copy()\n",
    "tmp_updrs3['Visit']=tmp_updrs3.EVENT_ID.apply(lambda x: visit_dict[x]);\n",
    "tmp_updrs3=tmp_updrs3[tmp_updrs3['Visit']>0].copy(); tmp_updrs3['Subject']=tmp_updrs3['PATNO'];\n",
    "tmp_updrs3 = tmp_updrs3.groupby('Subject').agg(lambda x: list(x)).copy()\n",
    "tmp_updrs3['updrs3_visit']=tmp_updrs3['Visit'].apply(lambda x: list(set(x)))\n",
    "tmp_updrs3=tmp_updrs3.drop(columns=['PATNO', 'EVENT_ID', 'Visit']).copy()\n",
    "tmp_updrs3.index=[str(x) for x in tmp_updrs3.index]\n",
    "# subjects with MOCA\n",
    "tmp_moca = ppmi_moca_data\n",
    "tmp_moca=ppmi_moca_data[['PATNO','EVENT_ID']].copy()\n",
    "tmp_moca['Visit']=tmp_moca.EVENT_ID.apply(lambda x: visit_dict[x]);\n",
    "tmp_moca=tmp_moca[tmp_moca['Visit']>0].copy(); tmp_moca['Subject']=tmp_moca['PATNO'];\n",
    "tmp_moca = tmp_moca.groupby('Subject').agg(lambda x: list(x)).copy()\n",
    "tmp_moca['moca_visit']=tmp_moca['Visit'].apply(lambda x: list(set(x)))\n",
    "tmp_moca=tmp_moca.drop(columns=['PATNO', 'EVENT_ID', 'Visit']).copy()\n",
    "tmp_moca.index=[str(x) for x in tmp_moca.index]"
   ]
  },
  {
   "cell_type": "code",
   "execution_count": 26,
   "id": "e032270a-b451-43b9-9182-7f7069b1a0b8",
   "metadata": {},
   "outputs": [
    {
     "data": {
      "text/html": [
       "<div>\n",
       "<style scoped>\n",
       "    .dataframe tbody tr th:only-of-type {\n",
       "        vertical-align: middle;\n",
       "    }\n",
       "\n",
       "    .dataframe tbody tr th {\n",
       "        vertical-align: top;\n",
       "    }\n",
       "\n",
       "    .dataframe thead th {\n",
       "        text-align: right;\n",
       "    }\n",
       "</style>\n",
       "<table border=\"1\" class=\"dataframe\">\n",
       "  <thead>\n",
       "    <tr style=\"text-align: right;\">\n",
       "      <th></th>\n",
       "      <th>group</th>\n",
       "      <th>sex</th>\n",
       "      <th>img_visit</th>\n",
       "      <th>updrs3_visit</th>\n",
       "      <th>moca_visit</th>\n",
       "      <th>img_cnt</th>\n",
       "      <th>updrs3_cnt</th>\n",
       "      <th>moca_cnt</th>\n",
       "    </tr>\n",
       "    <tr>\n",
       "      <th>Subject</th>\n",
       "      <th></th>\n",
       "      <th></th>\n",
       "      <th></th>\n",
       "      <th></th>\n",
       "      <th></th>\n",
       "      <th></th>\n",
       "      <th></th>\n",
       "      <th></th>\n",
       "    </tr>\n",
       "  </thead>\n",
       "  <tbody>\n",
       "    <tr>\n",
       "      <th>14426</th>\n",
       "      <td>Prodromal</td>\n",
       "      <td>M</td>\n",
       "      <td>[1, 7]</td>\n",
       "      <td>[1, 2, 3, 4, 5, 6, 7, 8, 9, 10]</td>\n",
       "      <td>[8, 10, 4, 6]</td>\n",
       "      <td>2</td>\n",
       "      <td>10</td>\n",
       "      <td>4</td>\n",
       "    </tr>\n",
       "    <tr>\n",
       "      <th>16644</th>\n",
       "      <td>Prodromal</td>\n",
       "      <td>M</td>\n",
       "      <td>[1, 5, 7]</td>\n",
       "      <td>[1, 2, 3, 4, 6, 7, 8, 13]</td>\n",
       "      <td>[8, 4, 6]</td>\n",
       "      <td>3</td>\n",
       "      <td>8</td>\n",
       "      <td>3</td>\n",
       "    </tr>\n",
       "    <tr>\n",
       "      <th>3101</th>\n",
       "      <td>SWEDD</td>\n",
       "      <td>M</td>\n",
       "      <td>[1, 7]</td>\n",
       "      <td>[1, 2, 3, 4, 5, 6]</td>\n",
       "      <td>[4, 6]</td>\n",
       "      <td>2</td>\n",
       "      <td>6</td>\n",
       "      <td>2</td>\n",
       "    </tr>\n",
       "    <tr>\n",
       "      <th>3102</th>\n",
       "      <td>PD</td>\n",
       "      <td>M</td>\n",
       "      <td>[1, 21, 7]</td>\n",
       "      <td>[1, 2, 3, 5, 6, 7, 8, 9, 10]</td>\n",
       "      <td>[8, 10, 6]</td>\n",
       "      <td>3</td>\n",
       "      <td>9</td>\n",
       "      <td>3</td>\n",
       "    </tr>\n",
       "    <tr>\n",
       "      <th>3104</th>\n",
       "      <td>Control</td>\n",
       "      <td>M</td>\n",
       "      <td>[1, 5]</td>\n",
       "      <td>[4, 6]</td>\n",
       "      <td>[4, 6]</td>\n",
       "      <td>2</td>\n",
       "      <td>2</td>\n",
       "      <td>2</td>\n",
       "    </tr>\n",
       "    <tr>\n",
       "      <th>...</th>\n",
       "      <td>...</td>\n",
       "      <td>...</td>\n",
       "      <td>...</td>\n",
       "      <td>...</td>\n",
       "      <td>...</td>\n",
       "      <td>...</td>\n",
       "      <td>...</td>\n",
       "      <td>...</td>\n",
       "    </tr>\n",
       "    <tr>\n",
       "      <th>72138</th>\n",
       "      <td>Prodromal</td>\n",
       "      <td>F</td>\n",
       "      <td>[1, 7]</td>\n",
       "      <td>[2, 4, 5, 6]</td>\n",
       "      <td>[4, 6]</td>\n",
       "      <td>2</td>\n",
       "      <td>4</td>\n",
       "      <td>2</td>\n",
       "    </tr>\n",
       "    <tr>\n",
       "      <th>75422</th>\n",
       "      <td>Prodromal</td>\n",
       "      <td>M</td>\n",
       "      <td>[1, 7]</td>\n",
       "      <td>[8, 2, 4, 6]</td>\n",
       "      <td>[8, 4, 6]</td>\n",
       "      <td>2</td>\n",
       "      <td>4</td>\n",
       "      <td>3</td>\n",
       "    </tr>\n",
       "    <tr>\n",
       "      <th>75480</th>\n",
       "      <td>PD</td>\n",
       "      <td>M</td>\n",
       "      <td>[1, 7]</td>\n",
       "      <td>[2, 4, 5, 6, 8]</td>\n",
       "      <td>[8, 4, 6]</td>\n",
       "      <td>2</td>\n",
       "      <td>5</td>\n",
       "      <td>3</td>\n",
       "    </tr>\n",
       "    <tr>\n",
       "      <th>85236</th>\n",
       "      <td>Prodromal</td>\n",
       "      <td>M</td>\n",
       "      <td>[1, 5, 7]</td>\n",
       "      <td>[1, 2, 3, 4, 5, 6, 7, 8, 9, 10, 12, 13]</td>\n",
       "      <td>[4, 6, 8, 10, 12, 13]</td>\n",
       "      <td>3</td>\n",
       "      <td>12</td>\n",
       "      <td>6</td>\n",
       "    </tr>\n",
       "    <tr>\n",
       "      <th>85242</th>\n",
       "      <td>Prodromal</td>\n",
       "      <td>M</td>\n",
       "      <td>[1, 5, 7]</td>\n",
       "      <td>[1, 2, 3, 4, 5, 6, 7, 8, 9, 10, 12, 13, 14]</td>\n",
       "      <td>[1, 4, 6, 8, 10, 12, 13, 14]</td>\n",
       "      <td>3</td>\n",
       "      <td>13</td>\n",
       "      <td>8</td>\n",
       "    </tr>\n",
       "  </tbody>\n",
       "</table>\n",
       "<p>327 rows × 8 columns</p>\n",
       "</div>"
      ],
      "text/plain": [
       "             group sex   img_visit  \\\n",
       "Subject                              \n",
       "14426    Prodromal   M      [1, 7]   \n",
       "16644    Prodromal   M   [1, 5, 7]   \n",
       "3101         SWEDD   M      [1, 7]   \n",
       "3102            PD   M  [1, 21, 7]   \n",
       "3104       Control   M      [1, 5]   \n",
       "...            ...  ..         ...   \n",
       "72138    Prodromal   F      [1, 7]   \n",
       "75422    Prodromal   M      [1, 7]   \n",
       "75480           PD   M      [1, 7]   \n",
       "85236    Prodromal   M   [1, 5, 7]   \n",
       "85242    Prodromal   M   [1, 5, 7]   \n",
       "\n",
       "                                        updrs3_visit  \\\n",
       "Subject                                                \n",
       "14426                [1, 2, 3, 4, 5, 6, 7, 8, 9, 10]   \n",
       "16644                      [1, 2, 3, 4, 6, 7, 8, 13]   \n",
       "3101                              [1, 2, 3, 4, 5, 6]   \n",
       "3102                    [1, 2, 3, 5, 6, 7, 8, 9, 10]   \n",
       "3104                                          [4, 6]   \n",
       "...                                              ...   \n",
       "72138                                   [2, 4, 5, 6]   \n",
       "75422                                   [8, 2, 4, 6]   \n",
       "75480                                [2, 4, 5, 6, 8]   \n",
       "85236        [1, 2, 3, 4, 5, 6, 7, 8, 9, 10, 12, 13]   \n",
       "85242    [1, 2, 3, 4, 5, 6, 7, 8, 9, 10, 12, 13, 14]   \n",
       "\n",
       "                           moca_visit  img_cnt  updrs3_cnt  moca_cnt  \n",
       "Subject                                                               \n",
       "14426                   [8, 10, 4, 6]        2          10         4  \n",
       "16644                       [8, 4, 6]        3           8         3  \n",
       "3101                           [4, 6]        2           6         2  \n",
       "3102                       [8, 10, 6]        3           9         3  \n",
       "3104                           [4, 6]        2           2         2  \n",
       "...                               ...      ...         ...       ...  \n",
       "72138                          [4, 6]        2           4         2  \n",
       "75422                       [8, 4, 6]        2           4         3  \n",
       "75480                       [8, 4, 6]        2           5         3  \n",
       "85236           [4, 6, 8, 10, 12, 13]        3          12         6  \n",
       "85242    [1, 4, 6, 8, 10, 12, 13, 14]        3          13         8  \n",
       "\n",
       "[327 rows x 8 columns]"
      ]
     },
     "metadata": {},
     "output_type": "display_data"
    },
    {
     "data": {
      "text/plain": [
       "<matplotlib.legend.Legend at 0x7fede4118280>"
      ]
     },
     "execution_count": 26,
     "metadata": {},
     "output_type": "execute_result"
    },
    {
     "data": {
      "image/png": "[encoded data removed]",
      "text/plain": [
       "<Figure size 432x288 with 1 Axes>"
      ]
     },
     "metadata": {
      "needs_background": "light"
     },
     "output_type": "display_data"
    }
   ],
   "source": [
    "tmp_all=tmp_imaging.join([tmp_updrs3, tmp_moca], how='left');\n",
    "tmp_all=tmp_all.dropna()\n",
    "#print(tmp_all.img_visit)\n",
    "#print(tmp_all.updrs3_visit)\n",
    "#print(tmp_all.moca_visit)\n",
    "tmp_all['img_cnt']=[len(x) for x in tmp_all['img_visit']]\n",
    "tmp_all['updrs3_cnt']=[len(x) for x in tmp_all['updrs3_visit']]\n",
    "tmp_all['moca_cnt']=[len(x) for x in tmp_all['moca_visit']]\n",
    "display(tmp_all[tmp_all['img_cnt']>1])\n",
    "tmp_all.img_cnt.hist(bins=10, alpha=0.6, label='imaging visit')\n",
    "tmp_all.updrs3_cnt.hist(bins=20, alpha=0.6, label='UPDRS3 visit')\n",
    "tmp_all.moca_cnt.hist(bins=20, alpha=0.6, label='MOCA visit')\n",
    "plt.title(\"Visit counts\")\n",
    "plt.legend()"
   ]
  },
  {
   "cell_type": "code",
   "execution_count": 27,
   "id": "1b820ac5-7d8c-48a0-b5d0-8a345bb9eb42",
   "metadata": {},
   "outputs": [
    {
     "data": {
      "text/html": [
       "<div>\n",
       "<style scoped>\n",
       "    .dataframe tbody tr th:only-of-type {\n",
       "        vertical-align: middle;\n",
       "    }\n",
       "\n",
       "    .dataframe tbody tr th {\n",
       "        vertical-align: top;\n",
       "    }\n",
       "\n",
       "    .dataframe thead th {\n",
       "        text-align: right;\n",
       "    }\n",
       "</style>\n",
       "<table border=\"1\" class=\"dataframe\">\n",
       "  <thead>\n",
       "    <tr style=\"text-align: right;\">\n",
       "      <th></th>\n",
       "      <th>group</th>\n",
       "      <th>sex</th>\n",
       "      <th>img_visit</th>\n",
       "      <th>updrs3_visit</th>\n",
       "      <th>moca_visit</th>\n",
       "      <th>img_cnt</th>\n",
       "      <th>updrs3_cnt</th>\n",
       "      <th>moca_cnt</th>\n",
       "      <th>visit_comm</th>\n",
       "    </tr>\n",
       "    <tr>\n",
       "      <th>Subject</th>\n",
       "      <th></th>\n",
       "      <th></th>\n",
       "      <th></th>\n",
       "      <th></th>\n",
       "      <th></th>\n",
       "      <th></th>\n",
       "      <th></th>\n",
       "      <th></th>\n",
       "      <th></th>\n",
       "    </tr>\n",
       "  </thead>\n",
       "  <tbody>\n",
       "    <tr>\n",
       "      <th>85242</th>\n",
       "      <td>Prodromal</td>\n",
       "      <td>M</td>\n",
       "      <td>[1, 5, 7]</td>\n",
       "      <td>[1, 2, 3, 4, 5, 6, 7, 8, 9, 10, 12, 13, 14]</td>\n",
       "      <td>[1, 4, 6, 8, 10, 12, 13, 14]</td>\n",
       "      <td>3</td>\n",
       "      <td>13</td>\n",
       "      <td>8</td>\n",
       "      <td>1</td>\n",
       "    </tr>\n",
       "  </tbody>\n",
       "</table>\n",
       "</div>"
      ],
      "text/plain": [
       "             group sex  img_visit  \\\n",
       "Subject                             \n",
       "85242    Prodromal   M  [1, 5, 7]   \n",
       "\n",
       "                                        updrs3_visit  \\\n",
       "Subject                                                \n",
       "85242    [1, 2, 3, 4, 5, 6, 7, 8, 9, 10, 12, 13, 14]   \n",
       "\n",
       "                           moca_visit  img_cnt  updrs3_cnt  moca_cnt  \\\n",
       "Subject                                                                \n",
       "85242    [1, 4, 6, 8, 10, 12, 13, 14]        3          13         8   \n",
       "\n",
       "        visit_comm  \n",
       "Subject             \n",
       "85242            1  "
      ]
     },
     "execution_count": 27,
     "metadata": {},
     "output_type": "execute_result"
    }
   ],
   "source": [
    "tmp_all_test=tmp_all.copy()\n",
    "for x in tmp_all_test.index:\n",
    "    tmp_=list(set.intersection(set(tmp_all_test.loc[x,'img_visit']),set(tmp_all_test.loc[x, 'updrs3_visit']),set(tmp_all_test.loc[x, 'moca_visit'])))\n",
    "    if len(tmp_)==0:\n",
    "        tmp_all_test.loc[x, 'visit_comm'] = np.nan;\n",
    "    else:\n",
    "        tmp_all_test.loc[x, 'visit_comm'] = [str(x) for x in tmp_]\n",
    "tmp_all_test=tmp_all_test.dropna()\n",
    "tmp_all_test"
   ]
  },
  {
   "cell_type": "code",
   "execution_count": null,
   "id": "9395d612-274b-413d-879b-ed1bacf4e3ea",
   "metadata": {},
   "outputs": [],
   "source": []
  }
 ],
 "metadata": {
  "kernelspec": {
   "display_name": "Python 3 (ipykernel)",
   "language": "python",
   "name": "python3"
  },
  "language_info": {
   "codemirror_mode": {
    "name": "ipython",
    "version": 3
   },
   "file_extension": ".py",
   "mimetype": "text/x-python",
   "name": "python",
   "nbconvert_exporter": "python",
   "pygments_lexer": "ipython3",
   "version": "3.8.5"
  }
 },
 "nbformat": 4,
 "nbformat_minor": 5
}
