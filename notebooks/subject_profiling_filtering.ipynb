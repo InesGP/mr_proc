{
 "cells": [
  {
   "cell_type": "markdown",
   "id": "e004f8e9-b94d-4990-9272-e5ad23b44cda",
   "metadata": {},
   "source": [
    "# Notebooks to merge subject information from imaging, clinical assessments and other sources of data\n",
    "## Groups: 'PD', 'Prodromal', 'SWEDD', 'Control', 'Phantom', 'GenReg Unaff'"
   ]
  },
  {
   "cell_type": "code",
   "execution_count": 1,
   "id": "77a9bbbc-985a-4474-be57-7488d44aae9d",
   "metadata": {},
   "outputs": [
    {
     "name": "stdout",
     "output_type": "stream",
     "text": [
      "220310-18:35:52,179 nipype.utils WARNING:\n",
      "\t A newer version (1.7.0) of nipy/nipype is available. You are using 1.5.0\n"
     ]
    },
    {
     "name": "stderr",
     "output_type": "stream",
     "text": [
      "/usr/local/miniconda/lib/python3.8/site-packages/IPython/core/interactiveshell.py:3172: DtypeWarning: Columns (10,17,18,19,20,21,32) have mixed types.Specify dtype option on import or set low_memory=False.\n",
      "  has_raised = await self.run_ast_nodes(code_ast.body, cell_name,\n"
     ]
    }
   ],
   "source": [
    "# from pathlib import Path\n",
    "from pathlib import Path\n",
    "import nipype.interfaces.io as nio\n",
    "import pandas as pd\n",
    "\n",
    "#PATH\n",
    "main_dir = Path(\"/scratch/mr_proc\")\n",
    "out_dir = Path(\"/output\")\n",
    "data_dir = main_dir / 'tab_data' \n",
    "\n",
    "#ppmi_dcm_file = data_dir / 'ppmi_dicomInfo.tsv'           # Inormation from dicom headers.\n",
    "ppmi_img_dl_file = data_dir / 'PPMI_3T_sdMRI_3_07_2022.csv'  # Inormation from download database.\n",
    "ppmi_moca_file  = data_dir / 'Montreal_Cognitive_Assessment__MoCA_.csv'  # Inormation from download database.\n",
    "ppmi_updrs3_file  = data_dir / 'MDS_UPDRS_Part_III.csv'  # Inormation from download database.\n",
    "\n",
    "# Read table\n",
    "#ppmi_dcm_data = pd.read_csv(ppmi_dcm_file, sep='\\t')\n",
    "ppmi_img_dl_data  = pd.read_csv(ppmi_img_dl_file, sep=',')\n",
    "ppmi_img_col_sel = ['Image Data ID', 'Subject', 'Group', 'Sex', 'Age', 'Visit', 'Modality', 'Description']\n",
    "ppmi_img_dl_data = ppmi_img_dl_data.loc[:, ppmi_img_col_sel].copy()\n",
    "group_sel_list=['PD', 'Prodromal', 'SWEDD', 'Control']\n",
    "ppmi_img_dl_data = ppmi_img_dl_data[ppmi_img_dl_data.Group.isin(group_sel_list)].copy()\n",
    "# read clinical data\n",
    "ppmi_updrs3_data = pd.read_csv(ppmi_updrs3_file, sep=',')\n",
    "ppmi_moca_data   = pd.read_csv(ppmi_moca_file, sep=',')"
   ]
  },
  {
   "cell_type": "code",
   "execution_count": 2,
   "id": "885772d3-4691-44b2-84fe-710a2d4e7076",
   "metadata": {},
   "outputs": [],
   "source": [
    "sequence_str  = ['T1', 'MPRAGE', 'DTI'];\n",
    "len(ppmi_img_dl_data[ppmi_img_dl_data.Description.isin(sequence_str)].Description.unique());\n",
    "subject_group = ppmi_img_dl_data.loc[:, ['Subject','Group']].copy();\n",
    "subject_group.groupby('Subject').agg(lambda x: set(x));\n",
    "subject_group['Subject']=[int(x) for x in subject_group['Subject']]"
   ]
  },
  {
   "cell_type": "code",
   "execution_count": 3,
   "id": "5fa99d1f-042f-4253-9efc-c3cfd791a565",
   "metadata": {},
   "outputs": [
    {
     "name": "stdout",
     "output_type": "stream",
     "text": [
      "582\n",
      "480\n"
     ]
    }
   ],
   "source": [
    "sequence_str=['T1', 'MPRAGE', 'DTI']\n",
    "print(len(ppmi_img_dl_data.loc[(ppmi_img_dl_data.Description.str.contains(sequence_str[0]))|(ppmi_img_dl_data.Description.str.contains(sequence_str[1]))|(ppmi_img_dl_data.Description.str.contains(sequence_str[2]))].Subject.unique()))\n",
    "print(len(ppmi_img_dl_data.loc[(ppmi_img_dl_data.Description.str.contains(sequence_str[0]))|(ppmi_img_dl_data.Description.str.contains(sequence_str[1]))].Subject.unique()))\n",
    "#print(ppmi_moca_data.columns)\n",
    "moca_list= ['PATNO', 'EVENT_ID', 'MCAALTTM', 'MCACUBE', 'MCACLCKC', 'MCACLCKN', 'MCACLCKH', 'MCALION', 'MCARHINO',\n",
    "            'MCACAMEL', 'MCAFDS', 'MCABDS', 'MCAVIGIL', 'MCASER7', 'MCASNTNC',\n",
    "            'MCAVFNUM', 'MCAVF', 'MCAABSTR', 'MCAREC1', 'MCAREC2', 'MCAREC3',\n",
    "            'MCAREC4', 'MCAREC5', 'MCADATE', 'MCAMONTH', 'MCAYR', 'MCADAY', 'MCAPLACE', 'MCACITY', 'MCATOT'];\n",
    "ppmi_moca_data=ppmi_moca_data.loc[:,moca_list].copy();"
   ]
  },
  {
   "cell_type": "code",
   "execution_count": 4,
   "id": "3a597c19-5293-4c4b-9a45-6647490dddec",
   "metadata": {
    "tags": []
   },
   "outputs": [
    {
     "name": "stdout",
     "output_type": "stream",
     "text": [
      "MoCA:\n",
      "{PD}           298\n",
      "{Prodromal}    145\n",
      "{Control}       90\n",
      "{SWEDD}         42\n",
      "Name: Group, dtype: int64\n",
      "1     124\n",
      "6      65\n",
      "3      61\n",
      "9      59\n",
      "4      55\n",
      "5      52\n",
      "2      47\n",
      "8      46\n",
      "7      37\n",
      "10     27\n",
      "11      2\n",
      "Name: EVENT_ID, dtype: int64\n",
      "{SC}                                                 114\n",
      "{SC, V06, V04}                                        53\n",
      "{SC, V06, V10, V12, V04, V08}                         51\n",
      "{SC, V06, V10, V04, V08}                              37\n",
      "{SC, V04}                                             37\n",
      "                                                    ... \n",
      "{SC, V06, V10, V17, V15, V14, V16, V12, V04, V13}      1\n",
      "{SC, V06, V10, V03, V14, V16, V12, V04, V13, V08}      1\n",
      "{SC, V06, V10, V14, V12, ST, V08}                      1\n",
      "{SC, V10, V14, V12, V08}                               1\n",
      "{SC, V06, V10, ST, V04}                                1\n",
      "Name: EVENT_ID, Length: 80, dtype: int64\n"
     ]
    },
    {
     "data": {
      "image/png": "[encoded data removed]",
      "text/plain": [
       "<Figure size 432x288 with 1 Axes>"
      ]
     },
     "metadata": {
      "needs_background": "light"
     },
     "output_type": "display_data"
    }
   ],
   "source": [
    "# Read table\n",
    "#data selection\n",
    "def report_visit(df, sub_, visit_, group_ ):\n",
    "    tmp_group=subject_group.copy();\n",
    "    tmp_group.columns=[sub_, 'Group'];\n",
    "    df=df.set_index(sub_).join(tmp_group.set_index(sub_), how='left').copy()\n",
    "    df=df.dropna()\n",
    "    print(df.groupby(by=sub_).agg(lambda x: set(x)).Group.value_counts())\n",
    "    grouped=df.groupby(by=sub_).agg(lambda x: len(set(x)))\n",
    "    grouped['Visit']= grouped[visit_]\n",
    "    grouped.hist(column=['Visit']);\n",
    "    #print('Visit counts:', grouped[visit_].value_counts())\n",
    "    if group_ !=\"\":\n",
    "        print(df.groupby(by=sub_).agg(lambda x: len(set(x)))[visit_].value_counts())\n",
    "        print(df.groupby(by=sub_).agg(lambda x: set(x))[visit_].value_counts())\n",
    "    return df\n",
    "print('MoCA:')\n",
    "df_moca=report_visit(ppmi_moca_data, 'PATNO', 'EVENT_ID', 'Group')"
   ]
  },
  {
   "cell_type": "code",
   "execution_count": 5,
   "id": "3e56170b-bba1-4fc1-9187-502e35f5f2d2",
   "metadata": {},
   "outputs": [
    {
     "name": "stdout",
     "output_type": "stream",
     "text": [
      "Index(['REC_ID', 'PATNO', 'EVENT_ID', 'PAG_NAME', 'INFODT', 'PDMEDDT',\n",
      "       'PDMEDTM', 'PDSTATE', 'EXAMTM', 'DBS_STATUS', 'NP3SPCH', 'NP3FACXP',\n",
      "       'NP3RIGN', 'NP3RIGRU', 'NP3RIGLU', 'NP3RIGRL', 'NP3RIGLL', 'NP3FTAPR',\n",
      "       'NP3FTAPL', 'NP3HMOVR', 'NP3HMOVL', 'NP3PRSPR', 'NP3PRSPL', 'NP3TTAPR',\n",
      "       'NP3TTAPL', 'NP3LGAGR', 'NP3LGAGL', 'NP3RISNG', 'NP3GAIT', 'NP3FRZGT',\n",
      "       'NP3PSTBL', 'NP3POSTR', 'NP3BRADY', 'NP3PTRMR', 'NP3PTRML', 'NP3KTRMR',\n",
      "       'NP3KTRML', 'NP3RTARU', 'NP3RTALU', 'NP3RTARL', 'NP3RTALL', 'NP3RTALJ',\n",
      "       'NP3RTCON', 'NP3TOT', 'DYSKPRES', 'DYSKIRAT', 'NHY', 'PDTRTMNT',\n",
      "       'DBSONTM', 'DBSOFFTM', 'HRPOSTMED', 'HRDBSOFF', 'HRDBSON', 'ORIG_ENTRY',\n",
      "       'LAST_UPDATE'],\n",
      "      dtype='object')\n",
      "UPDRS-3:\n",
      "{PD}           304\n",
      "{Prodromal}    144\n",
      "{Control}       90\n",
      "{SWEDD}         42\n",
      "Name: Group, dtype: int64\n",
      "1     69\n",
      "8     55\n",
      "2     52\n",
      "7     48\n",
      "17    40\n",
      "9     36\n",
      "5     34\n",
      "6     33\n",
      "14    27\n",
      "10    27\n",
      "11    25\n",
      "16    24\n",
      "13    22\n",
      "3     20\n",
      "12    19\n",
      "18    17\n",
      "15    16\n",
      "4     13\n",
      "19     3\n",
      "Name: EVENT_ID, dtype: int64\n",
      "{BL}                                                                                       59\n",
      "{V02, BL}                                                                                  41\n",
      "{V02, SC, V06, V03, V05, V01, V04, BL}                                                     21\n",
      "{V10, V06, V17, V15, V14, V12, V04, BL, V08}                                               14\n",
      "{V10, V06, V12, V04, BL, V08}                                                              13\n",
      "                                                                                           ..\n",
      "{V02, SC, PW, V06, V03, V05, V01, V04, BL}                                                  1\n",
      "{V11, V07, V02, SC, V06, V09, V03, V10, V15, V14, V16, V05, V12, ST, V04, V13, BL, V08}     1\n",
      "{V11, V07, SC, V06, V09, V03, R16, V10, V15, V14, V16, V05, V12, V04, V13, BL, V08}         1\n",
      "{V07, V02, V10, V06, V09, R12, V05, V12, V04, V13, BL, V08}                                 1\n",
      "{V02, BL, R06}                                                                              1\n",
      "Name: EVENT_ID, Length: 246, dtype: int64\n"
     ]
    },
    {
     "data": {
      "image/png": "[encoded data removed]",
      "text/plain": [
       "<Figure size 432x288 with 1 Axes>"
      ]
     },
     "metadata": {
      "needs_background": "light"
     },
     "output_type": "display_data"
    }
   ],
   "source": [
    "print(ppmi_updrs3_data.columns)\n",
    "updrs3_list= ['PATNO', 'EVENT_ID', 'NP3SPCH', 'NP3FACXP','NP3RIGN', 'NP3RIGRU', 'NP3RIGLU', 'NP3RIGRL', 'NP3RIGLL', 'NP3FTAPR',\n",
    "             'NP3FTAPL', 'NP3HMOVR', 'NP3HMOVL', 'NP3PRSPR', 'NP3PRSPL', 'NP3TTAPR',\n",
    "             'NP3TTAPL', 'NP3LGAGR', 'NP3LGAGL', 'NP3RISNG', 'NP3GAIT', 'NP3FRZGT',\n",
    "             'NP3PSTBL', 'NP3POSTR', 'NP3BRADY', 'NP3PTRMR', 'NP3PTRML', 'NP3KTRMR',\n",
    "             'NP3KTRML', 'NP3RTARU', 'NP3RTALU', 'NP3RTARL', 'NP3RTALL', 'NP3RTALJ', 'NP3RTCON', 'NP3TOT', 'NHY'];\n",
    "other_updrs_list = ['DYSKPRES', 'DYSKIRAT'];\n",
    "ppmi_updrs3_data=ppmi_updrs3_data.loc[:,updrs3_list].copy();\n",
    "print('UPDRS-3:')\n",
    "df_updrs3=report_visit(ppmi_updrs3_data, 'PATNO', 'EVENT_ID', 'Group')"
   ]
  },
  {
   "cell_type": "code",
   "execution_count": 6,
   "id": "296766fb-3bb0-42c2-8a24-691bb0d36c16",
   "metadata": {},
   "outputs": [
    {
     "name": "stdout",
     "output_type": "stream",
     "text": [
      "Imaging:\n",
      "Visit counts: 1    250\n",
      "2    119\n",
      "4    109\n",
      "3    103\n",
      "5      1\n",
      "Name: Visit, dtype: int64\n",
      "{PD}           304\n",
      "{Prodromal}    145\n",
      "{Control}       91\n",
      "{SWEDD}         42\n",
      "Name: Group, dtype: int64\n"
     ]
    },
    {
     "data": {
      "image/png": "[encoded data removed]",
      "text/plain": [
       "<Figure size 432x288 with 1 Axes>"
      ]
     },
     "metadata": {
      "needs_background": "light"
     },
     "output_type": "display_data"
    }
   ],
   "source": [
    "grouped=ppmi_img_dl_data.groupby(by='Subject').agg(lambda x: len(set(x)))\n",
    "grouped.hist(column=['Visit'])\n",
    "print('Imaging:')\n",
    "print('Visit counts:', grouped.Visit.value_counts())\n",
    "print(ppmi_img_dl_data.groupby(by='Subject').agg(lambda x: set(x)).Group.value_counts())"
   ]
  },
  {
   "cell_type": "code",
   "execution_count": null,
   "id": "758ce153-5c26-46b5-906d-2341f3691f28",
   "metadata": {},
   "outputs": [],
   "source": []
  }
 ],
 "metadata": {
  "kernelspec": {
   "display_name": "Python 3 (ipykernel)",
   "language": "python",
   "name": "python3"
  },
  "language_info": {
   "codemirror_mode": {
    "name": "ipython",
    "version": 3
   },
   "file_extension": ".py",
   "mimetype": "text/x-python",
   "name": "python",
   "nbconvert_exporter": "python",
   "pygments_lexer": "ipython3",
   "version": "3.8.5"
  }
 },
 "nbformat": 4,
 "nbformat_minor": 5
}
