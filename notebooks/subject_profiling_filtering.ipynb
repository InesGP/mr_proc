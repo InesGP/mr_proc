{
 "cells": [
  {
   "cell_type": "markdown",
   "id": "e004f8e9-b94d-4990-9272-e5ad23b44cda",
   "metadata": {},
   "source": [
    "# Notebooks to merge subject information from imaging, clinical assessments and other sources of data\n",
    "## Groups: 'PD', 'Prodromal', 'SWEDD', 'Control', 'Phantom', 'GenReg Unaff'"
   ]
  },
  {
   "cell_type": "code",
   "execution_count": 13,
   "id": "77a9bbbc-985a-4474-be57-7488d44aae9d",
   "metadata": {},
   "outputs": [
    {
     "name": "stderr",
     "output_type": "stream",
     "text": [
      "/usr/local/miniconda/lib/python3.8/site-packages/IPython/core/interactiveshell.py:3172: DtypeWarning: Columns (10,17,18,19,20,21,32) have mixed types.Specify dtype option on import or set low_memory=False.\n",
      "  has_raised = await self.run_ast_nodes(code_ast.body, cell_name,\n"
     ]
    }
   ],
   "source": [
    "# from pathlib import Path\n",
    "import sys\n",
    "proj_path_str='/scratch/mr_proc'\n",
    "sys.path.append(proj_path_str)\n",
    "from pathlib import Path\n",
    "import nipype.interfaces.io as nio\n",
    "import pandas as pd\n",
    "import numpy as np\n",
    "from private_libs.private_utils import report_visit\n",
    "\n",
    "#PATH\n",
    "main_dir = Path(proj_path_str)\n",
    "data_dir = main_dir / 'tab_data' \n",
    "#out_dir = Path(\"/output\")\n",
    "\n",
    "#ppmi_dcm_file = data_dir / 'ppmi_dicomInfo.tsv'           # Inormation from dicom headers.\n",
    "ppmi_img_dl_file = data_dir / 'PPMI_3T_sdMRI_3_07_2022.csv'  # Inormation from download database.\n",
    "ppmi_moca_file  = data_dir / 'Montreal_Cognitive_Assessment__MoCA_.csv'  # Inormation from download database.\n",
    "ppmi_updrs3_file  = data_dir / 'MDS_UPDRS_Part_III.csv'  # Inormation from download database.\n",
    "ppmi_dicom_file = data_dir / 'PPMI_dicomInfo.tsv'  # Inormation from download database.\n",
    "\n",
    "\n",
    "# Read tabular information\n",
    "ppmi_img_dl_data  = pd.read_csv(ppmi_img_dl_file, sep=',')\n",
    "ppmi_img_col_sel = ['Image Data ID', 'Subject', 'Group', 'Sex', 'Age', 'Visit', 'Modality', 'Description']\n",
    "# select imaging columns\n",
    "ppmi_img_dl_data = ppmi_img_dl_data.loc[:, ppmi_img_col_sel].copy()\n",
    "# select study groups\n",
    "group_sel_list=['PD', 'Prodromal', 'SWEDD', 'Control']\n",
    "ppmi_img_dl_data = ppmi_img_dl_data[ppmi_img_dl_data.Group.isin(group_sel_list)].copy()\n",
    "# Get subject list and group information from imaging data\n",
    "subject_group = ppmi_img_dl_data.loc[:, ['Subject','Group']].copy();\n",
    "subject_group.groupby('Subject').agg(lambda x: set(x));\n",
    "subject_group['Subject']=[int(x) for x in subject_group['Subject']]\n",
    "# Get T1 and DTI data\n",
    "sequence_str=['T1', 'MPRAGE', 'DTI']\n",
    "ppmi_img_dl_data = ppmi_img_dl_data[(ppmi_img_dl_data['Description'].str.contains(sequence_str[0]))|(ppmi_img_dl_data['Description'].str.contains(sequence_str[1]))|(ppmi_img_dl_data['Description'].str.contains(sequence_str[2]))].copy()\n",
    "# Get additional sequence information\n",
    "protocol_seqs=ppmi_img_dl_data.Description.unique()\n",
    "\n",
    "# read and select UPDRS-3data\n",
    "ppmi_updrs3_data = pd.read_csv(ppmi_updrs3_file, sep=',')\n",
    "updrs3_list= ['PATNO', 'EVENT_ID', 'NP3SPCH', 'NP3FACXP','NP3RIGN', 'NP3RIGRU', 'NP3RIGLU', 'NP3RIGRL', 'NP3RIGLL', 'NP3FTAPR',\n",
    "             'NP3FTAPL', 'NP3HMOVR', 'NP3HMOVL', 'NP3PRSPR', 'NP3PRSPL', 'NP3TTAPR',\n",
    "             'NP3TTAPL', 'NP3LGAGR', 'NP3LGAGL', 'NP3RISNG', 'NP3GAIT', 'NP3FRZGT',\n",
    "             'NP3PSTBL', 'NP3POSTR', 'NP3BRADY', 'NP3PTRMR', 'NP3PTRML', 'NP3KTRMR',\n",
    "             'NP3KTRML', 'NP3RTARU', 'NP3RTALU', 'NP3RTARL', 'NP3RTALL', 'NP3RTALJ', 'NP3RTCON', 'NP3TOT', 'NHY'];\n",
    "other_updrs_list = ['DYSKPRES', 'DYSKIRAT'];\n",
    "ppmi_updrs3_data=ppmi_updrs3_data.loc[:,updrs3_list].copy();\n",
    "\n",
    "# read and select MOCA data\n",
    "ppmi_moca_data   = pd.read_csv(ppmi_moca_file, sep=',')\n",
    "moca_list= ['PATNO', 'EVENT_ID', 'MCAALTTM', 'MCACUBE', 'MCACLCKC', 'MCACLCKN', 'MCACLCKH', 'MCALION', 'MCARHINO',\n",
    "            'MCACAMEL', 'MCAFDS', 'MCABDS', 'MCAVIGIL', 'MCASER7', 'MCASNTNC',\n",
    "            'MCAVFNUM', 'MCAVF', 'MCAABSTR', 'MCAREC1', 'MCAREC2', 'MCAREC3',\n",
    "            'MCAREC4', 'MCAREC5', 'MCADATE', 'MCAMONTH', 'MCAYR', 'MCADAY', 'MCAPLACE', 'MCACITY', 'MCATOT'];\n",
    "ppmi_moca_data=ppmi_moca_data.loc[:,moca_list].copy();\n",
    "\n",
    "## reading dicom header collection data\n",
    "ppmi_dicom_data = pd.read_csv(ppmi_dicom_file, sep='\\t')\n",
    "dicom_list = ['patient_id', 'patient_age', 'patient_sex', 'dim1', 'dim2', 'dim3', 'dim4', 'TR', 'TE', 'series_description', 'dcm_dir_name'];\n",
    "ppmi_dicom_data=ppmi_dicom_data.loc[:,dicom_list].copy()"
   ]
  },
  {
   "cell_type": "markdown",
   "id": "a8227835-825b-4755-94fc-28dd82d066a6",
   "metadata": {},
   "source": [
    "## PPMI Converion: from dicom to BIDS niftis with HeuDiConv_0.9.0 \n",
    "\n",
    "***Due to the limitation of number of inodes on CC, PPMI data is splited into PPMI_1.zip on Beluga and PPMI_2.zip on Narval, the data will be merged after conversion.***\n",
    "\n",
    "    1. Extract all the dicoms in a folder named PPMI: '''unzip PPMI.zip -d ~/scratch/'''\n",
    "    2. Correct studyID problems (takes hours to finish, put into subject paralellization next time): '''python studyID_fixer.py --data PPMI'''\n",
    "    3. '''heudiconv_run1.sh PPMI''' + '''heudiconv_run1.format PPMI'''\n",
    "    4. '''heudiconv_run2.sh PPMI all''' + '''heudiconv_run2.format PPMI'''\n",
    "    5. Merge PPMI from Beluga nad Narval."
   ]
  },
  {
   "cell_type": "code",
   "execution_count": 36,
   "id": "9898aeb4-7d70-400c-b1e4-76c1178db93b",
   "metadata": {},
   "outputs": [
    {
     "name": "stdout",
     "output_type": "stream",
     "text": [
      "['patient_id', 'patient_age', 'patient_sex', 'dim1', 'dim2', 'dim3', 'dim4', 'TR', 'TE', 'series_description', 'dcm_dir_name']\n",
      "subjects without series_description: \n"
     ]
    },
    {
     "data": {
      "text/plain": [
       "1"
      ]
     },
     "metadata": {},
     "output_type": "display_data"
    },
    {
     "name": "stdout",
     "output_type": "stream",
     "text": [
      "subjects without sex: \n"
     ]
    },
    {
     "data": {
      "text/plain": [
       "20"
      ]
     },
     "metadata": {},
     "output_type": "display_data"
    },
    {
     "name": "stdout",
     "output_type": "stream",
     "text": [
      "subjects without age: \n"
     ]
    },
    {
     "data": {
      "text/plain": [
       "14"
      ]
     },
     "metadata": {},
     "output_type": "display_data"
    },
    {
     "name": "stdout",
     "output_type": "stream",
     "text": [
      "subjects na values : \n"
     ]
    },
    {
     "data": {
      "text/plain": [
       "21"
      ]
     },
     "metadata": {},
     "output_type": "display_data"
    }
   ],
   "source": [
    "# return the dicom rows with na\n",
    "print(dicom_list)\n",
    "print(\"total number of subjects without series_description: \")\n",
    "display(ppmi_dicom_data[ppmi_dicom_data['series_description'].isnull()].patient_id.unique().size)\n",
    "print(\"subjects without series_description: \")\n",
    "display(ppmi_dicom_data[ppmi_dicom_data['series_description'].isnull()].patient_id.unique().size)\n",
    "print(\"subjects without sex: \")\n",
    "display(ppmi_dicom_data[ppmi_dicom_data['patient_sex'].isnull()].patient_id.unique().size)\n",
    "print(\"subjects without age: \")\n",
    "display(ppmi_dicom_data[ppmi_dicom_data['patient_age'].isnull()].patient_id.unique().size)\n",
    "print(\"subjects na values : \")\n",
    "display(ppmi_dicom_data[ppmi_dicom_data.isna().any(axis=1)].patient_id.unique().size)"
   ]
  },
  {
   "cell_type": "code",
   "execution_count": 38,
   "id": "603e7a7b-8b9a-4526-b8c2-18eec55227df",
   "metadata": {},
   "outputs": [
    {
     "data": {
      "text/plain": [
       "<matplotlib.legend.Legend at 0x7fbb8005e9d0>"
      ]
     },
     "execution_count": 38,
     "metadata": {},
     "output_type": "execute_result"
    },
    {
     "data": {
      "image/png": "[encoded data removed]",
      "text/plain": [
       "<Figure size 432x288 with 1 Axes>"
      ]
     },
     "metadata": {
      "needs_background": "light"
     },
     "output_type": "display_data"
    }
   ],
   "source": [
    "# the experiments on dicom header information includes find the exact field to filder the correct images, and check the dimentions of corresponding images.\n",
    "# filter T1 with T1 or MPRAGE in series_description\n",
    "from matplotlib import pyplot as plt \n",
    "select_image = ['patient_id',  'dim1', 'dim2', 'dim3', 'dim4', 'TR', 'TE', 'series_description', 'dcm_dir_name'];\n",
    "tmp_dcm_df = ppmi_dicom_data[select_image].dropna()\n",
    "tmp_dcm_df[tmp_dcm_df['series_description'].str.contains('T1|MPRAGE', regex=True)].dim1.hist(alpha=0.6, label='T1')\n",
    "# filter T2 with T2 in series_description\n",
    "tmp_dcm_df[tmp_dcm_df['series_description'].str.contains('T2')].dim1.hist(bins=10, alpha=0.6, label='T2')\n",
    "# filter DTI with T1 in series_description\n",
    "tmp_dcm_df[tmp_dcm_df['series_description'].str.contains('DTI')].dim1.hist(bins=10, alpha=0.6, label='DWI')\n",
    "#plt.xlim([100,500])\n",
    "plt.legend()"
   ]
  },
  {
   "cell_type": "code",
   "execution_count": 2,
   "id": "6a5306ae-0d10-4674-9e29-9bb37d9ef696",
   "metadata": {},
   "outputs": [],
   "source": [
    "# reorganize PPMI Imaging data for easier query\n",
    "tmp=ppmi_img_dl_data.groupby('Subject').agg(lambda x: list(x))\n",
    "# get subject related features.\n",
    "tmp['group'] = tmp['Group'].apply(lambda x: list(set(x))[0])\n",
    "tmp['sex']   = tmp['Sex'].apply(lambda x: list(set(x))[0])\n",
    "tmp['visit']  = tmp['Visit'].apply(lambda x: list(set(x)))\n",
    "tmp['image_modality']  = tmp['Modality'].apply(lambda x: list(set(x)))\n",
    "tmp['image_details'] =  tmp['Visit'].apply(lambda x: [str(y) for y in list(set(x))])\n",
    "# get \n",
    "for x in tmp.index:\n",
    "    tmp_str = ''\n",
    "    for y in range(len(tmp.loc[x,'Visit'])):\n",
    "        if y==0:\n",
    "            tmp_str=str(tmp.loc[x,'Visit'][y])+'@'+str(tmp.loc[x,'Age'][y])+'@'+str(tmp.loc[x,'Modality'][y])+'@'+str(tmp.loc[x,'Image Data ID'][y])+'@'+str(tmp.loc[x,'Description'][y]);\n",
    "        else:\n",
    "            tmp_str=tmp_str+'+++'+str(tmp.loc[x,'Visit'][y])+'@'+str(tmp.loc[x,'Age'][y])+'@'+str(tmp.loc[x,'Modality'][y])+'@'+str(tmp.loc[x,'Image Data ID'][y])+'@'+str(tmp.loc[x,'Description'][y]);\n",
    "    tmp.loc[x,'image_details']=tmp_str\n",
    "ppmi_img_dl_data=tmp.drop(columns=['Image Data ID','Visit','Sex','Age','Group','Modality','Description'])\n",
    "\n",
    "# subjects with MRI&DTI\n",
    "tmp_imaging = ppmi_img_dl_data.copy()\n",
    "tmp_imaging['filter_modality'] = tmp_imaging['image_modality'].apply(lambda x: x if len(x)>1 else np.nan).copy()\n",
    "tmp_imaging=tmp_imaging.dropna()\n",
    "tmp_imaging['img_visit']=tmp_imaging['visit']\n",
    "tmp_imaging=tmp_imaging.drop(columns=['image_modality','image_details','filter_modality','visit'])"
   ]
  },
  {
   "cell_type": "code",
   "execution_count": 3,
   "id": "885772d3-4691-44b2-84fe-710a2d4e7076",
   "metadata": {},
   "outputs": [],
   "source": [
    "## preproc of tabular data\n",
    "clinical_visit = ['BL', 'V04', 'V06', 'V08', 'V10', 'V12', 'V14', 'V15', 'V17', 'SC',\n",
    "                  'V01', 'V02', 'V03', 'V05', 'V07', 'V09', 'V11', 'ST', 'V13',\n",
    "                  'V16', 'PW', 'RS1', 'R17', 'R16', 'R15', 'V18', 'U01', 'R18',\n",
    "                  'R14', 'R13', 'R08', 'R12', 'R06', 'R10', 'R04', 'R01'];\n",
    "# visit: V01: 1,2,3    remote visit: R17:-17  Unscheduled visit: U01, -100\n",
    "# screening:SC: -110 , RS1: rescreening, -111; RS2 rescreening, -112\n",
    "# ST:Symptomatic Therapy -1000, \n",
    "# PW: Premature Withdrawal = -10000\n",
    "unified_visit = [0, 4, 6, 8, 10, 12, 14, 15, 17, -110,\n",
    "                 1, 2, 3, 5, 7, 9, 1, -1000, 13,\n",
    "                 16, -10000, -111, -17, -16, -15, 18, -100, -18,\n",
    "                 -14, -13, -8, -12, -6, -10, -4, -1];\n",
    "visit_dict = dict(zip(clinical_visit, unified_visit))\n",
    "\n",
    "# subjects with UPDRS\n",
    "tmp_updrs3=ppmi_updrs3_data[['PATNO','EVENT_ID']].copy()\n",
    "tmp_updrs3['Visit']=tmp_updrs3.EVENT_ID.apply(lambda x: visit_dict[x]);\n",
    "tmp_updrs3=tmp_updrs3[tmp_updrs3['Visit']>0].copy(); tmp_updrs3['Subject']=tmp_updrs3['PATNO'];\n",
    "tmp_updrs3 = tmp_updrs3.groupby('Subject').agg(lambda x: list(x)).copy()\n",
    "tmp_updrs3['updrs3_visit']=tmp_updrs3['Visit'].apply(lambda x: list(set(x)))\n",
    "tmp_updrs3=tmp_updrs3.drop(columns=['PATNO', 'EVENT_ID', 'Visit']).copy()\n",
    "tmp_updrs3.index=[str(x) for x in tmp_updrs3.index]\n",
    "# subjects with MOCA\n",
    "tmp_moca = ppmi_moca_data\n",
    "tmp_moca=ppmi_moca_data[['PATNO','EVENT_ID']].copy()\n",
    "tmp_moca['Visit']=tmp_moca.EVENT_ID.apply(lambda x: visit_dict[x]);\n",
    "tmp_moca=tmp_moca[tmp_moca['Visit']>0].copy(); tmp_moca['Subject']=tmp_moca['PATNO'];\n",
    "tmp_moca = tmp_moca.groupby('Subject').agg(lambda x: list(x)).copy()\n",
    "tmp_moca['moca_visit']=tmp_moca['Visit'].apply(lambda x: list(set(x)))\n",
    "tmp_moca=tmp_moca.drop(columns=['PATNO', 'EVENT_ID', 'Visit']).copy()\n",
    "tmp_moca.index=[str(x) for x in tmp_moca.index]"
   ]
  },
  {
   "cell_type": "code",
   "execution_count": 4,
   "id": "e032270a-b451-43b9-9182-7f7069b1a0b8",
   "metadata": {},
   "outputs": [
    {
     "data": {
      "text/html": [
       "<div>\n",
       "<style scoped>\n",
       "    .dataframe tbody tr th:only-of-type {\n",
       "        vertical-align: middle;\n",
       "    }\n",
       "\n",
       "    .dataframe tbody tr th {\n",
       "        vertical-align: top;\n",
       "    }\n",
       "\n",
       "    .dataframe thead th {\n",
       "        text-align: right;\n",
       "    }\n",
       "</style>\n",
       "<table border=\"1\" class=\"dataframe\">\n",
       "  <thead>\n",
       "    <tr style=\"text-align: right;\">\n",
       "      <th></th>\n",
       "      <th>group</th>\n",
       "      <th>sex</th>\n",
       "      <th>img_visit</th>\n",
       "      <th>updrs3_visit</th>\n",
       "      <th>moca_visit</th>\n",
       "    </tr>\n",
       "    <tr>\n",
       "      <th>Subject</th>\n",
       "      <th></th>\n",
       "      <th></th>\n",
       "      <th></th>\n",
       "      <th></th>\n",
       "      <th></th>\n",
       "    </tr>\n",
       "  </thead>\n",
       "  <tbody>\n",
       "    <tr>\n",
       "      <th>14426</th>\n",
       "      <td>Prodromal</td>\n",
       "      <td>M</td>\n",
       "      <td>[1, 7]</td>\n",
       "      <td>[1, 2, 3, 4, 5, 6, 7, 8, 9, 10]</td>\n",
       "      <td>[8, 10, 4, 6]</td>\n",
       "    </tr>\n",
       "    <tr>\n",
       "      <th>16644</th>\n",
       "      <td>Prodromal</td>\n",
       "      <td>M</td>\n",
       "      <td>[1, 5, 7]</td>\n",
       "      <td>[1, 2, 3, 4, 6, 7, 8, 13]</td>\n",
       "      <td>[8, 4, 6]</td>\n",
       "    </tr>\n",
       "    <tr>\n",
       "      <th>17608</th>\n",
       "      <td>Prodromal</td>\n",
       "      <td>M</td>\n",
       "      <td>[1]</td>\n",
       "      <td>[1, 2, 3, 4, 5, 6, 7, 8, 9, 10, 12, 13, 14]</td>\n",
       "      <td>[4, 6, 8, 10, 12, 13, 14]</td>\n",
       "    </tr>\n",
       "    <tr>\n",
       "      <th>3101</th>\n",
       "      <td>SWEDD</td>\n",
       "      <td>M</td>\n",
       "      <td>[1, 7]</td>\n",
       "      <td>[1, 2, 3, 4, 5, 6]</td>\n",
       "      <td>[4, 6]</td>\n",
       "    </tr>\n",
       "    <tr>\n",
       "      <th>3102</th>\n",
       "      <td>PD</td>\n",
       "      <td>M</td>\n",
       "      <td>[1, 21, 7]</td>\n",
       "      <td>[1, 2, 3, 5, 6, 7, 8, 9, 10]</td>\n",
       "      <td>[8, 10, 6]</td>\n",
       "    </tr>\n",
       "    <tr>\n",
       "      <th>...</th>\n",
       "      <td>...</td>\n",
       "      <td>...</td>\n",
       "      <td>...</td>\n",
       "      <td>...</td>\n",
       "      <td>...</td>\n",
       "    </tr>\n",
       "    <tr>\n",
       "      <th>75512</th>\n",
       "      <td>Prodromal</td>\n",
       "      <td>F</td>\n",
       "      <td>[1]</td>\n",
       "      <td>[8, 2, 4, 6]</td>\n",
       "      <td>[8, 4]</td>\n",
       "    </tr>\n",
       "    <tr>\n",
       "      <th>75525</th>\n",
       "      <td>Prodromal</td>\n",
       "      <td>F</td>\n",
       "      <td>[7]</td>\n",
       "      <td>[8, 6]</td>\n",
       "      <td>[8, 4, 6]</td>\n",
       "    </tr>\n",
       "    <tr>\n",
       "      <th>75564</th>\n",
       "      <td>Prodromal</td>\n",
       "      <td>F</td>\n",
       "      <td>[1]</td>\n",
       "      <td>[2, 4, 6]</td>\n",
       "      <td>[4, 6]</td>\n",
       "    </tr>\n",
       "    <tr>\n",
       "      <th>85236</th>\n",
       "      <td>Prodromal</td>\n",
       "      <td>M</td>\n",
       "      <td>[1, 5, 7]</td>\n",
       "      <td>[1, 2, 3, 4, 5, 6, 7, 8, 9, 10, 12, 13]</td>\n",
       "      <td>[4, 6, 8, 10, 12, 13]</td>\n",
       "    </tr>\n",
       "    <tr>\n",
       "      <th>85242</th>\n",
       "      <td>Prodromal</td>\n",
       "      <td>M</td>\n",
       "      <td>[1, 5, 7]</td>\n",
       "      <td>[1, 2, 3, 4, 5, 6, 7, 8, 9, 10, 12, 13, 14]</td>\n",
       "      <td>[1, 4, 6, 8, 10, 12, 13, 14]</td>\n",
       "    </tr>\n",
       "  </tbody>\n",
       "</table>\n",
       "<p>406 rows × 5 columns</p>\n",
       "</div>"
      ],
      "text/plain": [
       "             group sex   img_visit  \\\n",
       "Subject                              \n",
       "14426    Prodromal   M      [1, 7]   \n",
       "16644    Prodromal   M   [1, 5, 7]   \n",
       "17608    Prodromal   M         [1]   \n",
       "3101         SWEDD   M      [1, 7]   \n",
       "3102            PD   M  [1, 21, 7]   \n",
       "...            ...  ..         ...   \n",
       "75512    Prodromal   F         [1]   \n",
       "75525    Prodromal   F         [7]   \n",
       "75564    Prodromal   F         [1]   \n",
       "85236    Prodromal   M   [1, 5, 7]   \n",
       "85242    Prodromal   M   [1, 5, 7]   \n",
       "\n",
       "                                        updrs3_visit  \\\n",
       "Subject                                                \n",
       "14426                [1, 2, 3, 4, 5, 6, 7, 8, 9, 10]   \n",
       "16644                      [1, 2, 3, 4, 6, 7, 8, 13]   \n",
       "17608    [1, 2, 3, 4, 5, 6, 7, 8, 9, 10, 12, 13, 14]   \n",
       "3101                              [1, 2, 3, 4, 5, 6]   \n",
       "3102                    [1, 2, 3, 5, 6, 7, 8, 9, 10]   \n",
       "...                                              ...   \n",
       "75512                                   [8, 2, 4, 6]   \n",
       "75525                                         [8, 6]   \n",
       "75564                                      [2, 4, 6]   \n",
       "85236        [1, 2, 3, 4, 5, 6, 7, 8, 9, 10, 12, 13]   \n",
       "85242    [1, 2, 3, 4, 5, 6, 7, 8, 9, 10, 12, 13, 14]   \n",
       "\n",
       "                           moca_visit  \n",
       "Subject                                \n",
       "14426                   [8, 10, 4, 6]  \n",
       "16644                       [8, 4, 6]  \n",
       "17608       [4, 6, 8, 10, 12, 13, 14]  \n",
       "3101                           [4, 6]  \n",
       "3102                       [8, 10, 6]  \n",
       "...                               ...  \n",
       "75512                          [8, 4]  \n",
       "75525                       [8, 4, 6]  \n",
       "75564                          [4, 6]  \n",
       "85236           [4, 6, 8, 10, 12, 13]  \n",
       "85242    [1, 4, 6, 8, 10, 12, 13, 14]  \n",
       "\n",
       "[406 rows x 5 columns]"
      ]
     },
     "execution_count": 4,
     "metadata": {},
     "output_type": "execute_result"
    }
   ],
   "source": [
    "tmp_all=tmp_imaging.join([tmp_updrs3, tmp_moca], how='left');\n",
    "tmp_all=tmp_all.dropna()\n",
    "#print(tmp_all.img_visit)\n",
    "#print(tmp_all.updrs3_visit)\n",
    "#print(tmp_all.moca_visit)\n",
    "tmp_all"
   ]
  },
  {
   "cell_type": "code",
   "execution_count": 20,
   "id": "1b820ac5-7d8c-48a0-b5d0-8a345bb9eb42",
   "metadata": {},
   "outputs": [
    {
     "data": {
      "text/html": [
       "<div>\n",
       "<style scoped>\n",
       "    .dataframe tbody tr th:only-of-type {\n",
       "        vertical-align: middle;\n",
       "    }\n",
       "\n",
       "    .dataframe tbody tr th {\n",
       "        vertical-align: top;\n",
       "    }\n",
       "\n",
       "    .dataframe thead th {\n",
       "        text-align: right;\n",
       "    }\n",
       "</style>\n",
       "<table border=\"1\" class=\"dataframe\">\n",
       "  <thead>\n",
       "    <tr style=\"text-align: right;\">\n",
       "      <th></th>\n",
       "      <th>group</th>\n",
       "      <th>sex</th>\n",
       "      <th>img_visit</th>\n",
       "      <th>updrs3_visit</th>\n",
       "      <th>moca_visit</th>\n",
       "      <th>visit_comm</th>\n",
       "    </tr>\n",
       "    <tr>\n",
       "      <th>Subject</th>\n",
       "      <th></th>\n",
       "      <th></th>\n",
       "      <th></th>\n",
       "      <th></th>\n",
       "      <th></th>\n",
       "      <th></th>\n",
       "    </tr>\n",
       "  </thead>\n",
       "  <tbody>\n",
       "    <tr>\n",
       "      <th>85242</th>\n",
       "      <td>Prodromal</td>\n",
       "      <td>M</td>\n",
       "      <td>[1, 5, 7]</td>\n",
       "      <td>[1, 2, 3, 4, 5, 6, 7, 8, 9, 10, 12, 13, 14]</td>\n",
       "      <td>[1, 4, 6, 8, 10, 12, 13, 14]</td>\n",
       "      <td>1</td>\n",
       "    </tr>\n",
       "  </tbody>\n",
       "</table>\n",
       "</div>"
      ],
      "text/plain": [
       "             group sex  img_visit  \\\n",
       "Subject                             \n",
       "85242    Prodromal   M  [1, 5, 7]   \n",
       "\n",
       "                                        updrs3_visit  \\\n",
       "Subject                                                \n",
       "85242    [1, 2, 3, 4, 5, 6, 7, 8, 9, 10, 12, 13, 14]   \n",
       "\n",
       "                           moca_visit visit_comm  \n",
       "Subject                                           \n",
       "85242    [1, 4, 6, 8, 10, 12, 13, 14]          1  "
      ]
     },
     "execution_count": 20,
     "metadata": {},
     "output_type": "execute_result"
    }
   ],
   "source": [
    "tmp_all_test=tmp_all.copy()\n",
    "for x in tmp_all_test.index:\n",
    "    tmp_=list(set.intersection(set(tmp_all_test.loc[x,'img_visit']),set(tmp_all_test.loc[x, 'updrs3_visit']),set(tmp_all_test.loc[x, 'moca_visit'])))\n",
    "    if len(tmp_)==0:\n",
    "        tmp_all_test.loc[x, 'visit_comm'] = np.nan;\n",
    "    else:\n",
    "        tmp_all_test.loc[x, 'visit_comm'] = [str(x) for x in tmp_]\n",
    "tmp_all_test=tmp_all_test.dropna()\n",
    "tmp_all_test"
   ]
  },
  {
   "cell_type": "code",
   "execution_count": null,
   "id": "9395d612-274b-413d-879b-ed1bacf4e3ea",
   "metadata": {},
   "outputs": [],
   "source": []
  }
 ],
 "metadata": {
  "kernelspec": {
   "display_name": "Python 3 (ipykernel)",
   "language": "python",
   "name": "python3"
  },
  "language_info": {
   "codemirror_mode": {
    "name": "ipython",
    "version": 3
   },
   "file_extension": ".py",
   "mimetype": "text/x-python",
   "name": "python",
   "nbconvert_exporter": "python",
   "pygments_lexer": "ipython3",
   "version": "3.8.5"
  }
 },
 "nbformat": 4,
 "nbformat_minor": 5
}
