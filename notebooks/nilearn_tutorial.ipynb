{
 "cells": [
  {
   "cell_type": "code",
   "execution_count": 22,
   "metadata": {},
   "outputs": [],
   "source": [
    "import bids\n",
    "import nilearn\n",
    "from nilearn import image as nimg\n",
    "from nilearn import plotting as nplot\n",
    "import numpy as np\n",
    "import pandas as pd\n",
    "from bids import BIDSLayout\n",
    "from nilearn.connectome import ConnectivityMeasure\n",
    "import matplotlib.pyplot as plt\n",
    "import seaborn as sns\n",
    "from nilearn import input_data"
   ]
  },
  {
   "cell_type": "code",
   "execution_count": 2,
   "metadata": {},
   "outputs": [],
   "source": [
    "base_dir = '/home/nimhans/projects/data/PD_SERB/test_data/derivatives/fmriprep/v20.2.7/output/fmriprep/'\n",
    "layout = bids.BIDSLayout(f\"{base_dir}\", config=['bids','derivatives'])\n"
   ]
  },
  {
   "cell_type": "code",
   "execution_count": 3,
   "metadata": {},
   "outputs": [
    {
     "name": "stdout",
     "output_type": "stream",
     "text": [
      "50\n"
     ]
    }
   ],
   "source": [
    "parcel_file = '../resources/rois/yeo_2011/Yeo_JNeurophysiol11_MNI152/relabeled_yeo_atlas.nii.gz'\n",
    "yeo_7 = nimg.load_img(parcel_file)\n",
    "\n",
    "# Get the label numbers from the atlas\n",
    "atlas_labels = np.unique(yeo_7.get_fdata().astype(int))\n",
    "\n",
    "# Get number of labels that we have\n",
    "NUM_LABELS = len(atlas_labels)\n",
    "print(NUM_LABELS)\n",
    "\n",
    "masker = input_data.NiftiLabelsMasker(labels_img=yeo_7,\n",
    "                                      standardize=True,\n",
    "                                      memory='nilearn_cache',\n",
    "                                      verbose=1,\n",
    "                                      detrend=True,\n",
    "                                     low_pass = 0.08,\n",
    "                                     high_pass = 0.009,\n",
    "                                     t_r=0.69)"
   ]
  },
  {
   "cell_type": "markdown",
   "metadata": {},
   "source": [
    "### Single participants"
   ]
  },
  {
   "cell_type": "code",
   "execution_count": 4,
   "metadata": {},
   "outputs": [],
   "source": [
    "from itertools import count\n",
    "\n",
    "\n",
    "def get_fmri_data(subject_id):\n",
    "    func_files = layout.get(subject=subject_id,\n",
    "                        datatype='func', task='rest',\n",
    "                        desc='preproc',\n",
    "                        space='MNI152NLin2009cAsym',\n",
    "                        extension='nii.gz',\n",
    "                        return_type='file')\n",
    "\n",
    "    mask_files = layout.get(subject=subject_id,\n",
    "                            datatype='func', task='rest',\n",
    "                            desc='brain',\n",
    "                            suffix=\"mask\",\n",
    "                            space='MNI152NLin2009cAsym',\n",
    "                            extension='nii.gz',\n",
    "                            return_type='file')\n",
    "\n",
    "    confound_files = layout.get(subject=subject_id,\n",
    "                                datatype='func',\n",
    "                                task='rest',\n",
    "                                desc='confounds',\n",
    "                                extension='tsv',\n",
    "                                return_type='file')\n",
    "                                \n",
    "    # Pull the first subject's data\n",
    "    func_file = func_files[0]\n",
    "    mask_file = mask_files[0]\n",
    "    confound_file = confound_files[0]\n",
    "                            \n",
    "    return func_file, mask_file, confound_file\n",
    "\n",
    "\n",
    "def extract_confounds(confound_tsv,confounds,dt=True):\n",
    "    '''\n",
    "    Arguments:\n",
    "        confound_tsv                    Full path to confounds.tsv\n",
    "        confounds                       A list of confounder variables to extract\n",
    "        dt                              Compute temporal derivatives [default = True]\n",
    "        \n",
    "    Outputs:\n",
    "        confound_mat                    \n",
    "    '''\n",
    "    \n",
    "    if dt:    \n",
    "        dt_names = ['{}_derivative1'.format(c) for c in confounds]\n",
    "        confounds = confounds + dt_names\n",
    "    \n",
    "    #Load in data using Pandas then extract relevant columns\n",
    "    confound_df = pd.read_csv(confound_tsv,delimiter='\\t') \n",
    "    confound_df = confound_df[confounds]\n",
    "    \n",
    " \n",
    "    #Convert into a matrix of values (timepoints)x(variable)\n",
    "    confound_mat = confound_df.values \n",
    "    \n",
    "    #Return confound matrix\n",
    "    return confound_mat"
   ]
  },
  {
   "cell_type": "code",
   "execution_count": 5,
   "metadata": {},
   "outputs": [],
   "source": [
    "def get_correlation_matrix(subject_id, tr_drop=4): \n",
    "    func_file, mask_file, confound_file = get_fmri_data(subject_id)\n",
    "\n",
    "    func_img = nimg.load_img(func_file)\n",
    "\n",
    "    #Remove the first 4 TRs\n",
    "    func_img = func_img.slicer[:,:,:,tr_drop:]\n",
    "\n",
    "    #Use the above function to pull out a confound matrix\n",
    "    confounds = extract_confounds(confound_file,\n",
    "                                ['trans_x','trans_y','trans_z',\n",
    "                                'rot_x','rot_y','rot_z',\n",
    "                                'global_signal',\n",
    "                                'white_matter','csf'])\n",
    "    #Drop the first 4 rows of the confounds matrix\n",
    "    confounds = confounds[tr_drop:,:] \n",
    "    cleaned_and_averaged_time_series = masker.fit_transform(func_img,confounds)\n",
    "\n",
    "    # Remember fMRI images are of size (x,y,z,t)\n",
    "    # where t is the number of timepoints\n",
    "    num_timepoints = func_img.shape[3]\n",
    "\n",
    "    # Create an array of zeros that has the correct size\n",
    "    final_signal = np.zeros((num_timepoints, NUM_LABELS))\n",
    "\n",
    "    # Get regions that are kept\n",
    "    regions_kept = np.array(masker.labels_)\n",
    "\n",
    "    # Fill columns matching labels with signal values\n",
    "    final_signal[:, regions_kept] = cleaned_and_averaged_time_series\n",
    "\n",
    "    correlation_measure = ConnectivityMeasure(kind='correlation')\n",
    "\n",
    "    full_correlation_matrix = correlation_measure.fit_transform([cleaned_and_averaged_time_series])\n",
    "\n",
    "    return full_correlation_matrix"
   ]
  },
  {
   "cell_type": "code",
   "execution_count": 9,
   "metadata": {},
   "outputs": [],
   "source": [
    "# group_list = [\"control\", \"PD\"]\n",
    "# correlation_matrix_list = []\n",
    "# for subject_id in [\"BLR03\"]:\n",
    "#     full_correlation_matrix = get_correlation_matrix(subject_id)\n",
    "#     correlation_matrix_list.append(full_correlation_matrix)\n",
    "    "
   ]
  },
  {
   "cell_type": "markdown",
   "metadata": {},
   "source": [
    "### Simulating random edge values by adding gaussian noise"
   ]
  },
  {
   "cell_type": "code",
   "execution_count": 15,
   "metadata": {},
   "outputs": [],
   "source": [
    "n_samples = 100\n",
    "control_random_noise = (0.1) * np.random.random(n_samples)\n",
    "pd_random_noise = (-0.1) * np.random.random(n_samples)\n"
   ]
  },
  {
   "cell_type": "code",
   "execution_count": 17,
   "metadata": {},
   "outputs": [],
   "source": [
    "edge = (43,45)\n",
    "base_correlation_matrix = np.squeeze(full_correlation_matrix)\n",
    "\n",
    "control_edge = np.tile(base_correlation_matrix[edge[0],edge[1]], n_samples) + control_random_noise\n",
    "PD_edge = np.tile(base_correlation_matrix[edge[0],edge[1]], n_samples) + pd_random_noise\n"
   ]
  },
  {
   "cell_type": "code",
   "execution_count": 20,
   "metadata": {},
   "outputs": [
    {
     "data": {
      "text/html": [
       "<div>\n",
       "<style scoped>\n",
       "    .dataframe tbody tr th:only-of-type {\n",
       "        vertical-align: middle;\n",
       "    }\n",
       "\n",
       "    .dataframe tbody tr th {\n",
       "        vertical-align: top;\n",
       "    }\n",
       "\n",
       "    .dataframe thead th {\n",
       "        text-align: right;\n",
       "    }\n",
       "</style>\n",
       "<table border=\"1\" class=\"dataframe\">\n",
       "  <thead>\n",
       "    <tr style=\"text-align: right;\">\n",
       "      <th></th>\n",
       "      <th>subject_id</th>\n",
       "      <th>edge</th>\n",
       "      <th>group</th>\n",
       "    </tr>\n",
       "  </thead>\n",
       "  <tbody>\n",
       "    <tr>\n",
       "      <th>0</th>\n",
       "      <td>0</td>\n",
       "      <td>0.529061</td>\n",
       "      <td>control</td>\n",
       "    </tr>\n",
       "    <tr>\n",
       "      <th>1</th>\n",
       "      <td>1</td>\n",
       "      <td>0.481170</td>\n",
       "      <td>control</td>\n",
       "    </tr>\n",
       "    <tr>\n",
       "      <th>2</th>\n",
       "      <td>2</td>\n",
       "      <td>0.555770</td>\n",
       "      <td>control</td>\n",
       "    </tr>\n",
       "    <tr>\n",
       "      <th>3</th>\n",
       "      <td>3</td>\n",
       "      <td>0.531310</td>\n",
       "      <td>control</td>\n",
       "    </tr>\n",
       "    <tr>\n",
       "      <th>4</th>\n",
       "      <td>4</td>\n",
       "      <td>0.541726</td>\n",
       "      <td>control</td>\n",
       "    </tr>\n",
       "    <tr>\n",
       "      <th>...</th>\n",
       "      <td>...</td>\n",
       "      <td>...</td>\n",
       "      <td>...</td>\n",
       "    </tr>\n",
       "    <tr>\n",
       "      <th>195</th>\n",
       "      <td>195</td>\n",
       "      <td>0.423887</td>\n",
       "      <td>PD</td>\n",
       "    </tr>\n",
       "    <tr>\n",
       "      <th>196</th>\n",
       "      <td>196</td>\n",
       "      <td>0.386324</td>\n",
       "      <td>PD</td>\n",
       "    </tr>\n",
       "    <tr>\n",
       "      <th>197</th>\n",
       "      <td>197</td>\n",
       "      <td>0.407415</td>\n",
       "      <td>PD</td>\n",
       "    </tr>\n",
       "    <tr>\n",
       "      <th>198</th>\n",
       "      <td>198</td>\n",
       "      <td>0.441868</td>\n",
       "      <td>PD</td>\n",
       "    </tr>\n",
       "    <tr>\n",
       "      <th>199</th>\n",
       "      <td>199</td>\n",
       "      <td>0.384009</td>\n",
       "      <td>PD</td>\n",
       "    </tr>\n",
       "  </tbody>\n",
       "</table>\n",
       "<p>200 rows × 3 columns</p>\n",
       "</div>"
      ],
      "text/plain": [
       "     subject_id      edge    group\n",
       "0             0  0.529061  control\n",
       "1             1  0.481170  control\n",
       "2             2  0.555770  control\n",
       "3             3  0.531310  control\n",
       "4             4  0.541726  control\n",
       "..          ...       ...      ...\n",
       "195         195  0.423887       PD\n",
       "196         196  0.386324       PD\n",
       "197         197  0.407415       PD\n",
       "198         198  0.441868       PD\n",
       "199         199  0.384009       PD\n",
       "\n",
       "[200 rows x 3 columns]"
      ]
     },
     "execution_count": 20,
     "metadata": {},
     "output_type": "execute_result"
    }
   ],
   "source": [
    "corr_df = pd.DataFrame(columns=[\"subject_id\",\"edge\",\"group\"])\n",
    "\n",
    "corr_df[\"subject_id\"] = np.arange(2*n_samples)\n",
    "corr_df[\"edge\"] = list(control_edge) + list(PD_edge)\n",
    "corr_df[\"group\"] = list(np.tile([\"control\"], reps=100)) + list(np.tile([\"PD\"], reps=100))\n",
    "\n",
    "corr_df"
   ]
  },
  {
   "cell_type": "code",
   "execution_count": 23,
   "metadata": {},
   "outputs": [
    {
     "data": {
      "image/png": "[encoded data removed]",
      "text/plain": [
       "<Figure size 500x500 with 1 Axes>"
      ]
     },
     "metadata": {},
     "output_type": "display_data"
    }
   ],
   "source": [
    "plot = plt.figure(figsize=(5,5))\n",
    "                  \n",
    "# Create a box plot, with the x-axis as group\n",
    "#the y-axis as the correlation value\n",
    "ax = sns.boxplot(x='group',y='edge',data=corr_df, palette='Set3')\n",
    "\n",
    "# Create a \"swarmplot\" as well, you'll see what this is..\n",
    "ax = sns.swarmplot(x='group',y='edge',data=corr_df,color='0.25')\n",
    "\n",
    "# Set the title and labels of the figure\n",
    "ax.set_title('DMN Intra-network Connectivity')\n",
    "ax.set_ylabel(r'Intra-network connectivity $\\mu_\\rho$')\n",
    "\n",
    "plt.show()\n"
   ]
  },
  {
   "cell_type": "code",
   "execution_count": null,
   "metadata": {},
   "outputs": [],
   "source": []
  }
 ],
 "metadata": {
  "kernelspec": {
   "display_name": "Python 3.10.6 64-bit",
   "language": "python",
   "name": "python3"
  },
  "language_info": {
   "codemirror_mode": {
    "name": "ipython",
    "version": 3
   },
   "file_extension": ".py",
   "mimetype": "text/x-python",
   "name": "python",
   "nbconvert_exporter": "python",
   "pygments_lexer": "ipython3",
   "version": "3.10.6"
  },
  "orig_nbformat": 4,
  "vscode": {
   "interpreter": {
    "hash": "916dbcbb3f70747c44a77c7bcd40155683ae19c65e1c03b4aa3499c5328201f1"
   }
  }
 },
 "nbformat": 4,
 "nbformat_minor": 2
}
