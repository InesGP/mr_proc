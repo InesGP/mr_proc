{
 "cells": [
  {
   "cell_type": "markdown",
   "id": "7bb1f955-dc2c-4c0f-998d-e8d2b9fdfefe",
   "metadata": {},
   "source": [
    "# This is the notebook to validate information from the database system and the dicom datasets:\n",
    "    1. Validate and report the consistency of information from the databased where the dota is downloaded (IDB) and the information extracted from the dicom headers (IDCM);\n",
    "    2. Subject reports and filtering;\n",
    "    3. create participant.csv\n",
    "    4. Imaging session filtering."
   ]
  },
  {
   "cell_type": "code",
   "execution_count": 1,
   "id": "51d6310a-e525-438f-8250-47e66a6c4002",
   "metadata": {},
   "outputs": [
    {
     "name": "stdout",
     "output_type": "stream",
     "text": [
      "220605-05:10:05,475 nipype.utils WARNING:\n",
      "\t A newer version (1.8.1) of nipy/nipype is available. You are using 1.5.0\n"
     ]
    }
   ],
   "source": [
    "from pathlib import Path\n",
    "import nipype.interfaces.io as nio\n",
    "import pandas as pd\n",
    "\n",
    "#PATH\n",
    "main_dir = Path(\"/scratch/mr_proc\")\n",
    "out_dir = Path(\"/output\")\n",
    "data_dir = main_dir / 'tab_data' \n",
    "\n",
    "#ppmi_dcm_file = data_dir / 'ppmi_dicomInfo.tsv'           # Inormation from dicom headers.\n",
    "ppmi_dl_file  = data_dir / 'PPMI_3T_sdMRI_3_07_2022.csv'  # Inormation from download database.\n",
    "\n",
    "# Read table\n",
    "#ppmi_dcm_data = pd.read_csv(ppmi_dcm_file, sep='\\t')\n",
    "ppmi_dl_data  = pd.read_csv(ppmi_dl_file, sep=',')\n",
    "ppmi_col_sel = ['Image Data ID', 'Subject', 'Group', 'Sex', 'Age', 'Visit', 'Modality', 'Description']\n",
    "ppmi_dl_data = ppmi_dl_data.loc[:, ppmi_col_sel].copy()"
   ]
  },
  {
   "cell_type": "code",
   "execution_count": 3,
   "id": "3fe52bef-097b-4132-a9f7-5f2f001cbf2a",
   "metadata": {},
   "outputs": [],
   "source": [
    "# create the participants.csv from the data downloading tabel\n",
    "ppmi_participant_csv_file  = data_dir / 'participants.csv'  # Inormation from download database.\n",
    "participant_cols=['participant_id', 'age', 'sex', 'group']\n",
    "participant_df=pd.DataFrame()\n",
    "participant_df[participant_cols] = ppmi_dl_data[['Subject','Age','Sex', 'Group']]\n",
    "participant_df=participant_df.drop_duplicates(subset='participant_id', keep='first')\n",
    "participant_df.to_csv(ppmi_participant_csv_file, index=False)"
   ]
  },
  {
   "cell_type": "code",
   "execution_count": 2,
   "id": "4bdc7893-45d4-4dab-97d5-950693073010",
   "metadata": {},
   "outputs": [
    {
     "name": "stdout",
     "output_type": "stream",
     "text": [
      "Index(['Image Data ID', 'Subject', 'Group', 'Sex', 'Age', 'Visit', 'Modality',\n",
      "       'Description'],\n",
      "      dtype='object')\n",
      "Total Subject of PPMI is : \n"
     ]
    },
    {
     "data": {
      "text/plain": [
       "585"
      ]
     },
     "metadata": {},
     "output_type": "display_data"
    },
    {
     "name": "stdout",
     "output_type": "stream",
     "text": [
      "Total Modality of PPMI is : \n"
     ]
    },
    {
     "data": {
      "text/plain": [
       "2"
      ]
     },
     "metadata": {},
     "output_type": "display_data"
    },
    {
     "data": {
      "text/plain": [
       "array(['MRI', 'DTI'], dtype=object)"
      ]
     },
     "metadata": {},
     "output_type": "display_data"
    },
    {
     "name": "stdout",
     "output_type": "stream",
     "text": [
      "Total Sex of PPMI is : \n"
     ]
    },
    {
     "data": {
      "text/plain": [
       "3"
      ]
     },
     "metadata": {},
     "output_type": "display_data"
    },
    {
     "data": {
      "text/plain": [
       "array(['M', 'F', 'X'], dtype=object)"
      ]
     },
     "metadata": {},
     "output_type": "display_data"
    },
    {
     "name": "stdout",
     "output_type": "stream",
     "text": [
      "Total Age of PPMI is : \n"
     ]
    },
    {
     "data": {
      "text/plain": [
       "52"
      ]
     },
     "metadata": {},
     "output_type": "display_data"
    },
    {
     "name": "stdout",
     "output_type": "stream",
     "text": [
      "Total Visit of PPMI is : \n"
     ]
    },
    {
     "data": {
      "text/plain": [
       "10"
      ]
     },
     "metadata": {},
     "output_type": "display_data"
    },
    {
     "data": {
      "text/plain": [
       "array([ 7,  1,  5, 11, 90, 30,  9,  0, 21, 91])"
      ]
     },
     "metadata": {},
     "output_type": "display_data"
    }
   ],
   "source": [
    "print(ppmi_dl_data.columns)\n",
    "ppmi_col_list=['Image Data ID', 'Subject', 'Group', 'Sex', 'Age', 'Visit', 'Modality', 'Description', 'Type', 'Acq Date', 'Format', 'Downloaded']\n",
    "\n",
    "ppmi_dl_columns_list  = ['Subject','Image Data ID','Modality','Sex','Age', 'Visit','Description']\n",
    "ppmi_dcm_columns_list = ['patient_id','dcm_dir_name','date','series_id', 'sequence_name','series_description', 'protocol_name','dim1','dim2','dim3','dim4']\n",
    "\n",
    "def report_sum(df, _list, dataset_name):\n",
    "    for x in _list:\n",
    "        print(\"Total \"+x+' of '+ dataset_name+\" is : \")\n",
    "        _len = len(df.loc[:,x].unique());\n",
    "        display(_len)\n",
    "        if _len <= 10:\n",
    "            display(df.loc[:,x].unique())\n",
    "\n",
    "# check download meta data and dcm information\n",
    "report_list = ['Subject', 'Modality','Sex','Age', 'Visit',];\n",
    "report_sum(ppmi_dl_data, report_list, 'PPMI')"
   ]
  },
  {
   "cell_type": "code",
   "execution_count": 47,
   "id": "f958bce8-f57d-4aea-9618-cd09e69a8c08",
   "metadata": {},
   "outputs": [
    {
     "name": "stdout",
     "output_type": "stream",
     "text": [
      "Visit counts: 2    46\n",
      "1    23\n",
      "3    19\n",
      "4     3\n",
      "Name: Visit, dtype: int64\n",
      "{Control}    91\n",
      "Name: Group, dtype: int64\n"
     ]
    },
    {
     "data": {
      "image/png": "[encoded data removed]",
      "text/plain": [
       "<Figure size 432x288 with 1 Axes>"
      ]
     },
     "metadata": {
      "needs_background": "light"
     },
     "output_type": "display_data"
    }
   ],
   "source": [
    "#data selection\n",
    "tmp_data = ppmi_dl_data[ppmi_dl_data['Group']=='Control'].copy()\n",
    "\n",
    "grouped=tmp_data.groupby(by='Subject').agg(lambda x: len(set(x)))\n",
    "grouped.hist(column=['Visit'])\n",
    "print('Visit counts:', grouped.Visit.value_counts())\n",
    "print(tmp_data.groupby(by='Subject').agg(lambda x: set(x)).Group.value_counts())"
   ]
  },
  {
   "cell_type": "code",
   "execution_count": 44,
   "id": "5b785720-26e4-4d37-9578-4e6d808788d1",
   "metadata": {},
   "outputs": [
    {
     "name": "stdout",
     "output_type": "stream",
     "text": [
      "Visit counts: 1    253\n",
      "2    119\n",
      "4    109\n",
      "3    103\n",
      "5      1\n",
      "Name: Visit, dtype: int64\n",
      "{PD}              304\n",
      "{Prodromal}       145\n",
      "{Control}          91\n",
      "{SWEDD}            42\n",
      "{Phantom}           2\n",
      "{GenReg Unaff}      1\n",
      "Name: Group, dtype: int64\n"
     ]
    },
    {
     "data": {
      "image/png": "[encoded data removed]",
      "text/plain": [
       "<Figure size 432x288 with 1 Axes>"
      ]
     },
     "metadata": {
      "needs_background": "light"
     },
     "output_type": "display_data"
    }
   ],
   "source": [
    "grouped=ppmi_dl_data.groupby(by='Subject').agg(lambda x: len(set(x)))\n",
    "grouped.hist(column=['Visit'])\n",
    "print('Visit counts:', grouped.Visit.value_counts())\n",
    "print(ppmi_dl_data.groupby(by='Subject').agg(lambda x: set(x)).Group.value_counts())"
   ]
  },
  {
   "cell_type": "code",
   "execution_count": 26,
   "id": "fefe4c8c-eba2-4a43-96a9-ab93f3fec265",
   "metadata": {},
   "outputs": [
    {
     "data": {
      "text/html": [
       "<div>\n",
       "<style scoped>\n",
       "    .dataframe tbody tr th:only-of-type {\n",
       "        vertical-align: middle;\n",
       "    }\n",
       "\n",
       "    .dataframe tbody tr th {\n",
       "        vertical-align: top;\n",
       "    }\n",
       "\n",
       "    .dataframe thead th {\n",
       "        text-align: right;\n",
       "    }\n",
       "</style>\n",
       "<table border=\"1\" class=\"dataframe\">\n",
       "  <thead>\n",
       "    <tr style=\"text-align: right;\">\n",
       "      <th></th>\n",
       "      <th>Image Data ID</th>\n",
       "      <th>Group</th>\n",
       "      <th>Sex</th>\n",
       "      <th>Age</th>\n",
       "      <th>Visit</th>\n",
       "      <th>Modality</th>\n",
       "      <th>Description</th>\n",
       "    </tr>\n",
       "    <tr>\n",
       "      <th>Subject</th>\n",
       "      <th></th>\n",
       "      <th></th>\n",
       "      <th></th>\n",
       "      <th></th>\n",
       "      <th></th>\n",
       "      <th></th>\n",
       "      <th></th>\n",
       "    </tr>\n",
       "  </thead>\n",
       "  <tbody>\n",
       "    <tr>\n",
       "      <th>01218AUG16</th>\n",
       "      <td>[I787959, I787960]</td>\n",
       "      <td>[Phantom, Phantom]</td>\n",
       "      <td>[X, X]</td>\n",
       "      <td>[56, 56]</td>\n",
       "      <td>[0, 0]</td>\n",
       "      <td>[MRI, DTI]</td>\n",
       "      <td>[MPRAGE Phantom GRAPPA2, DTI]</td>\n",
       "    </tr>\n",
       "    <tr>\n",
       "      <th>08827APR11</th>\n",
       "      <td>[I253669, I253662, I253664, I253666, I253668, ...</td>\n",
       "      <td>[Phantom, Phantom, Phantom, Phantom, Phantom, ...</td>\n",
       "      <td>[M, M, M, M, M, M, M, M]</td>\n",
       "      <td>[39, 39, 39, 39, 39, 39, 39, 39]</td>\n",
       "      <td>[1, 1, 1, 1, 1, 1, 1, 1]</td>\n",
       "      <td>[MRI, MRI, MRI, DTI, DTI, DTI, DTI, DTI]</td>\n",
       "      <td>[localizer, localizer, localizer, DTI_FA, DTI_...</td>\n",
       "    </tr>\n",
       "    <tr>\n",
       "      <th>100005</th>\n",
       "      <td>[I1526367, I1526369, I1526362, I1526371, I1526...</td>\n",
       "      <td>[PD, PD, PD, PD, PD, PD, PD, PD, PD, PD, PD, PD]</td>\n",
       "      <td>[M, M, M, M, M, M, M, M, M, M, M, M]</td>\n",
       "      <td>[53, 53, 53, 53, 53, 53, 53, 53, 53, 53, 53, 53]</td>\n",
       "      <td>[1, 1, 1, 1, 1, 1, 1, 1, 1, 1, 1, 1]</td>\n",
       "      <td>[DTI, DTI, MRI, DTI, MRI, MRI, DTI, MRI, DTI, ...</td>\n",
       "      <td>[DTI_FA, DTI, 2D GRE-MT, DTI_30dir R-L, 2D GRE...</td>\n",
       "    </tr>\n",
       "    <tr>\n",
       "      <th>100006</th>\n",
       "      <td>[I1526387, I1526380, I1526382, I1526384, I1526...</td>\n",
       "      <td>[PD, PD, PD, PD, PD, PD, PD, PD, PD, PD, PD, P...</td>\n",
       "      <td>[F, F, F, F, F, F, F, F, F, F, F, F, F, F, F, F]</td>\n",
       "      <td>[56, 56, 56, 56, 56, 57, 56, 57, 56, 56, 56, 5...</td>\n",
       "      <td>[1, 1, 1, 1, 1, 5, 1, 5, 1, 1, 1, 1, 5, 1, 5, 1]</td>\n",
       "      <td>[DTI, MRI, MRI, DTI, MRI, MRI, DTI, DTI, MRI, ...</td>\n",
       "      <td>[DTI_30dir R-L, 2D GRE-MT, 2D GRE-MT, DTI_ADC,...</td>\n",
       "    </tr>\n",
       "    <tr>\n",
       "      <th>100007</th>\n",
       "      <td>[I1525728, I1525730, I1537555, I1525732, I1525...</td>\n",
       "      <td>[PD, PD, PD, PD, PD, PD, PD, PD, PD]</td>\n",
       "      <td>[M, M, M, M, M, M, M, M, M]</td>\n",
       "      <td>[67, 67, 68, 67, 67, 67, 67, 68, 67]</td>\n",
       "      <td>[1, 1, 5, 1, 1, 1, 1, 5, 1]</td>\n",
       "      <td>[MRI, MRI, MRI, MRI, DTI, MRI, MRI, MRI, MRI]</td>\n",
       "      <td>[3D T2 FLAIR, 2D GRE-MT, 3D T2 FLAIR, 2D GRE-M...</td>\n",
       "    </tr>\n",
       "    <tr>\n",
       "      <th>...</th>\n",
       "      <td>...</td>\n",
       "      <td>...</td>\n",
       "      <td>...</td>\n",
       "      <td>...</td>\n",
       "      <td>...</td>\n",
       "      <td>...</td>\n",
       "      <td>...</td>\n",
       "    </tr>\n",
       "    <tr>\n",
       "      <th>75512</th>\n",
       "      <td>[I1199323, I1199326, I1199321, I1199324, I1199...</td>\n",
       "      <td>[Prodromal, Prodromal, Prodromal, Prodromal, P...</td>\n",
       "      <td>[F, F, F, F, F]</td>\n",
       "      <td>[51, 51, 51, 51, 51]</td>\n",
       "      <td>[1, 1, 1, 1, 1]</td>\n",
       "      <td>[MRI, DTI, MRI, MRI, DTI]</td>\n",
       "      <td>[MPRAGE_GRAPPA_ADNI, DTI_gated, AXIAL PD-T2 TS...</td>\n",
       "    </tr>\n",
       "    <tr>\n",
       "      <th>75525</th>\n",
       "      <td>[I1526084, I1526075, I1526079, I1526081, I1526...</td>\n",
       "      <td>[Prodromal, Prodromal, Prodromal, Prodromal, P...</td>\n",
       "      <td>[F, F, F, F, F, F, F, F, F]</td>\n",
       "      <td>[73, 73, 73, 73, 73, 73, 73, 73, 73]</td>\n",
       "      <td>[7, 7, 7, 7, 7, 7, 7, 7, 7]</td>\n",
       "      <td>[DTI, MRI, MRI, MRI, MRI, DTI, MRI, MRI, MRI]</td>\n",
       "      <td>[DTI_RL, 3D T2 FLAIR, 2D GRE-MT, 2D GRE-MT, 2D...</td>\n",
       "    </tr>\n",
       "    <tr>\n",
       "      <th>75564</th>\n",
       "      <td>[I1362245, I1362247, I1362244, I1362246, I1362...</td>\n",
       "      <td>[Prodromal, Prodromal, Prodromal, Prodromal, P...</td>\n",
       "      <td>[F, F, F, F, F]</td>\n",
       "      <td>[76, 76, 76, 76, 76]</td>\n",
       "      <td>[1, 1, 1, 1, 1]</td>\n",
       "      <td>[MRI, DTI, MRI, DTI, MRI]</td>\n",
       "      <td>[MPRAGE GRAPPA, DTI_gated, MPRAGE ADNI, DTI_ga...</td>\n",
       "    </tr>\n",
       "    <tr>\n",
       "      <th>85236</th>\n",
       "      <td>[I643417, I951917, I497277, I951920, I497280, ...</td>\n",
       "      <td>[Prodromal, Prodromal, Prodromal, Prodromal, P...</td>\n",
       "      <td>[M, M, M, M, M, M, M, M, M, M, M, M, M, M, M]</td>\n",
       "      <td>[68, 69, 67, 69, 67, 69, 68, 68, 67, 69, 67, 6...</td>\n",
       "      <td>[5, 7, 1, 7, 1, 7, 5, 5, 1, 7, 1, 7, 5, 1, 5]</td>\n",
       "      <td>[MRI, MRI, DTI, MRI, MRI, DTI, MRI, DTI, MRI, ...</td>\n",
       "      <td>[AXIAL PD-T2 TSE FS, AXIAL PD-T2 TSE FS, DTI_g...</td>\n",
       "    </tr>\n",
       "    <tr>\n",
       "      <th>85242</th>\n",
       "      <td>[I951927, I482363, I951930, I643421, I482361, ...</td>\n",
       "      <td>[Prodromal, Prodromal, Prodromal, Prodromal, P...</td>\n",
       "      <td>[M, M, M, M, M, M, M, M, M, M, M, M, M, M, M, M]</td>\n",
       "      <td>[66, 64, 66, 65, 64, 65, 64, 66, 66, 65, 64, 6...</td>\n",
       "      <td>[7, 1, 7, 5, 1, 5, 1, 7, 7, 5, 1, 7, 5, 1, 5, 7]</td>\n",
       "      <td>[MRI, DTI, DTI, MRI, MRI, DTI, MRI, MRI, DTI, ...</td>\n",
       "      <td>[MPRAGE_GRAPPA_ADNI, DTI_gated, DTI_gated, AXI...</td>\n",
       "    </tr>\n",
       "  </tbody>\n",
       "</table>\n",
       "<p>585 rows × 7 columns</p>\n",
       "</div>"
      ],
      "text/plain": [
       "                                                Image Data ID  \\\n",
       "Subject                                                         \n",
       "01218AUG16                                 [I787959, I787960]   \n",
       "08827APR11  [I253669, I253662, I253664, I253666, I253668, ...   \n",
       "100005      [I1526367, I1526369, I1526362, I1526371, I1526...   \n",
       "100006      [I1526387, I1526380, I1526382, I1526384, I1526...   \n",
       "100007      [I1525728, I1525730, I1537555, I1525732, I1525...   \n",
       "...                                                       ...   \n",
       "75512       [I1199323, I1199326, I1199321, I1199324, I1199...   \n",
       "75525       [I1526084, I1526075, I1526079, I1526081, I1526...   \n",
       "75564       [I1362245, I1362247, I1362244, I1362246, I1362...   \n",
       "85236       [I643417, I951917, I497277, I951920, I497280, ...   \n",
       "85242       [I951927, I482363, I951930, I643421, I482361, ...   \n",
       "\n",
       "                                                        Group  \\\n",
       "Subject                                                         \n",
       "01218AUG16                                 [Phantom, Phantom]   \n",
       "08827APR11  [Phantom, Phantom, Phantom, Phantom, Phantom, ...   \n",
       "100005       [PD, PD, PD, PD, PD, PD, PD, PD, PD, PD, PD, PD]   \n",
       "100006      [PD, PD, PD, PD, PD, PD, PD, PD, PD, PD, PD, P...   \n",
       "100007                   [PD, PD, PD, PD, PD, PD, PD, PD, PD]   \n",
       "...                                                       ...   \n",
       "75512       [Prodromal, Prodromal, Prodromal, Prodromal, P...   \n",
       "75525       [Prodromal, Prodromal, Prodromal, Prodromal, P...   \n",
       "75564       [Prodromal, Prodromal, Prodromal, Prodromal, P...   \n",
       "85236       [Prodromal, Prodromal, Prodromal, Prodromal, P...   \n",
       "85242       [Prodromal, Prodromal, Prodromal, Prodromal, P...   \n",
       "\n",
       "                                                         Sex  \\\n",
       "Subject                                                        \n",
       "01218AUG16                                            [X, X]   \n",
       "08827APR11                          [M, M, M, M, M, M, M, M]   \n",
       "100005                  [M, M, M, M, M, M, M, M, M, M, M, M]   \n",
       "100006      [F, F, F, F, F, F, F, F, F, F, F, F, F, F, F, F]   \n",
       "100007                           [M, M, M, M, M, M, M, M, M]   \n",
       "...                                                      ...   \n",
       "75512                                        [F, F, F, F, F]   \n",
       "75525                            [F, F, F, F, F, F, F, F, F]   \n",
       "75564                                        [F, F, F, F, F]   \n",
       "85236          [M, M, M, M, M, M, M, M, M, M, M, M, M, M, M]   \n",
       "85242       [M, M, M, M, M, M, M, M, M, M, M, M, M, M, M, M]   \n",
       "\n",
       "                                                          Age  \\\n",
       "Subject                                                         \n",
       "01218AUG16                                           [56, 56]   \n",
       "08827APR11                   [39, 39, 39, 39, 39, 39, 39, 39]   \n",
       "100005       [53, 53, 53, 53, 53, 53, 53, 53, 53, 53, 53, 53]   \n",
       "100006      [56, 56, 56, 56, 56, 57, 56, 57, 56, 56, 56, 5...   \n",
       "100007                   [67, 67, 68, 67, 67, 67, 67, 68, 67]   \n",
       "...                                                       ...   \n",
       "75512                                    [51, 51, 51, 51, 51]   \n",
       "75525                    [73, 73, 73, 73, 73, 73, 73, 73, 73]   \n",
       "75564                                    [76, 76, 76, 76, 76]   \n",
       "85236       [68, 69, 67, 69, 67, 69, 68, 68, 67, 69, 67, 6...   \n",
       "85242       [66, 64, 66, 65, 64, 65, 64, 66, 66, 65, 64, 6...   \n",
       "\n",
       "                                                       Visit  \\\n",
       "Subject                                                        \n",
       "01218AUG16                                            [0, 0]   \n",
       "08827APR11                          [1, 1, 1, 1, 1, 1, 1, 1]   \n",
       "100005                  [1, 1, 1, 1, 1, 1, 1, 1, 1, 1, 1, 1]   \n",
       "100006      [1, 1, 1, 1, 1, 5, 1, 5, 1, 1, 1, 1, 5, 1, 5, 1]   \n",
       "100007                           [1, 1, 5, 1, 1, 1, 1, 5, 1]   \n",
       "...                                                      ...   \n",
       "75512                                        [1, 1, 1, 1, 1]   \n",
       "75525                            [7, 7, 7, 7, 7, 7, 7, 7, 7]   \n",
       "75564                                        [1, 1, 1, 1, 1]   \n",
       "85236          [5, 7, 1, 7, 1, 7, 5, 5, 1, 7, 1, 7, 5, 1, 5]   \n",
       "85242       [7, 1, 7, 5, 1, 5, 1, 7, 7, 5, 1, 7, 5, 1, 5, 7]   \n",
       "\n",
       "                                                     Modality  \\\n",
       "Subject                                                         \n",
       "01218AUG16                                         [MRI, DTI]   \n",
       "08827APR11           [MRI, MRI, MRI, DTI, DTI, DTI, DTI, DTI]   \n",
       "100005      [DTI, DTI, MRI, DTI, MRI, MRI, DTI, MRI, DTI, ...   \n",
       "100006      [DTI, MRI, MRI, DTI, MRI, MRI, DTI, DTI, MRI, ...   \n",
       "100007          [MRI, MRI, MRI, MRI, DTI, MRI, MRI, MRI, MRI]   \n",
       "...                                                       ...   \n",
       "75512                               [MRI, DTI, MRI, MRI, DTI]   \n",
       "75525           [DTI, MRI, MRI, MRI, MRI, DTI, MRI, MRI, MRI]   \n",
       "75564                               [MRI, DTI, MRI, DTI, MRI]   \n",
       "85236       [MRI, MRI, DTI, MRI, MRI, DTI, MRI, DTI, MRI, ...   \n",
       "85242       [MRI, DTI, DTI, MRI, MRI, DTI, MRI, MRI, DTI, ...   \n",
       "\n",
       "                                                  Description  \n",
       "Subject                                                        \n",
       "01218AUG16                      [MPRAGE Phantom GRAPPA2, DTI]  \n",
       "08827APR11  [localizer, localizer, localizer, DTI_FA, DTI_...  \n",
       "100005      [DTI_FA, DTI, 2D GRE-MT, DTI_30dir R-L, 2D GRE...  \n",
       "100006      [DTI_30dir R-L, 2D GRE-MT, 2D GRE-MT, DTI_ADC,...  \n",
       "100007      [3D T2 FLAIR, 2D GRE-MT, 3D T2 FLAIR, 2D GRE-M...  \n",
       "...                                                       ...  \n",
       "75512       [MPRAGE_GRAPPA_ADNI, DTI_gated, AXIAL PD-T2 TS...  \n",
       "75525       [DTI_RL, 3D T2 FLAIR, 2D GRE-MT, 2D GRE-MT, 2D...  \n",
       "75564       [MPRAGE GRAPPA, DTI_gated, MPRAGE ADNI, DTI_ga...  \n",
       "85236       [AXIAL PD-T2 TSE FS, AXIAL PD-T2 TSE FS, DTI_g...  \n",
       "85242       [MPRAGE_GRAPPA_ADNI, DTI_gated, DTI_gated, AXI...  \n",
       "\n",
       "[585 rows x 7 columns]"
      ]
     },
     "execution_count": 26,
     "metadata": {},
     "output_type": "execute_result"
    }
   ],
   "source": [
    "ppmi_dl_data.groupby(by='Subject').agg(lambda x: list(x))"
   ]
  },
  {
   "cell_type": "code",
   "execution_count": 15,
   "id": "eed777c3-e820-4c7b-991f-a6760f838750",
   "metadata": {},
   "outputs": [
    {
     "data": {
      "text/plain": [
       "<pandas.core.groupby.generic.DataFrameGroupBy object at 0x7fe757791220>"
      ]
     },
     "execution_count": 15,
     "metadata": {},
     "output_type": "execute_result"
    }
   ],
   "source": [
    "What do I want from this script"
   ]
  },
  {
   "cell_type": "code",
   "execution_count": 3,
   "id": "9cd876da-6a75-480e-8db1-b00a5d0a108e",
   "metadata": {},
   "outputs": [
    {
     "data": {
      "text/plain": [
       "238"
      ]
     },
     "metadata": {},
     "output_type": "display_data"
    },
    {
     "data": {
      "text/plain": [
       "312"
      ]
     },
     "metadata": {},
     "output_type": "display_data"
    },
    {
     "name": "stderr",
     "output_type": "stream",
     "text": [
      "/usr/local/miniconda/lib/python3.8/site-packages/pandas/core/indexing.py:1597: SettingWithCopyWarning: \n",
      "A value is trying to be set on a copy of a slice from a DataFrame.\n",
      "Try using .loc[row_indexer,col_indexer] = value instead\n",
      "\n",
      "See the caveats in the documentation: https://pandas.pydata.org/pandas-docs/stable/user_guide/indexing.html#returning-a-view-versus-a-copy\n",
      "  self.obj[key] = value\n",
      "/usr/local/miniconda/lib/python3.8/site-packages/pandas/core/indexing.py:1676: SettingWithCopyWarning: \n",
      "A value is trying to be set on a copy of a slice from a DataFrame.\n",
      "Try using .loc[row_indexer,col_indexer] = value instead\n",
      "\n",
      "See the caveats in the documentation: https://pandas.pydata.org/pandas-docs/stable/user_guide/indexing.html#returning-a-view-versus-a-copy\n",
      "  self._setitem_single_column(ilocs[0], value, pi)\n"
     ]
    },
    {
     "data": {
      "text/plain": [
       "patient_id\n",
       "002_S_0295    S150056\n",
       "002_S_0413    S322084\n",
       "002_S_0685    S160107\n",
       "002_S_1261    S262111\n",
       "002_S_1280    S258723\n",
       "               ...   \n",
       "941_S_4100    S418036\n",
       "941_S_4255    S205784\n",
       "941_S_4292    S489268\n",
       "941_S_4365    S437582\n",
       "941_S_4376    S437616\n",
       "Name: dcm_dir_name, Length: 238, dtype: object"
      ]
     },
     "metadata": {},
     "output_type": "display_data"
    },
    {
     "data": {
      "text/plain": [
       "238"
      ]
     },
     "execution_count": 3,
     "metadata": {},
     "output_type": "execute_result"
    }
   ],
   "source": [
    "# Verify with downloaded dicom folders (protocol name and date included) due to missing information from dicom headers\n",
    "adni_folder_data=pd.read_csv(adni_dcm_folder_file, sep='\\t',skip_blank_lines=1)\n",
    "adni_folder_data=adni_folder_data.dropna()\n",
    "adni_folder_data=adni_folder_data.iloc[:,1:]\n",
    "adni_folder_data=adni_folder_data.rename(columns={\"Unnamed: 1\": \"patient_id\", \"Unnamed: 2\":\"series_description\", 'Unnamed: 3':\"date\", \"Unnamed: 4\":\"dcm_dir_name\"})\n",
    "adni_folder_data=adni_folder_data.reset_index()\n",
    "#adni_folder_data.head()\n",
    "\n",
    "# confirmation from \n",
    "df_tmp=adni_folder_data[(adni_folder_data['series_description'].str.contains('RAGE', regex=False))]# | \\\n",
    "                       # (adni_folder_data['series_description'].str.contains('SPGR', regex=False))]\n",
    "#adni_dcm_data['dim3'].unique()\n",
    "display(len(df_tmp['patient_id'].unique()))\n",
    "display(len(adni_folder_data['patient_id'].unique()))\n",
    "\n",
    "#adni_full_data[adni_full_data['dim3']>600].tail(5)\n",
    "tmp_col1=df_tmp.groupby(['patient_id'])\n",
    "A = tmp_col1['date'].transform(max)\n",
    "df_tmp.loc[:,'last_session_time']=list(A)\n",
    "#B\n",
    "df_tmp = df_tmp[df_tmp['date']==df_tmp['last_session_time']]\n",
    "#df_tmp['i_id']=df_tmp.index\n",
    "#display(len(df_tmp))\n",
    "df_tmp.sort_values(by='patient_id')\n",
    "gX=df_tmp.groupby('patient_id')\n",
    "g1X=gX['dcm_dir_name'].apply(lambda x: max(x))\n",
    "display(g1X)\n",
    "#g1.to_csv(adni_session_file,header=0)\n",
    "len(g1X)"
   ]
  },
  {
   "cell_type": "code",
   "execution_count": 4,
   "id": "a93cfc10-853e-46aa-920d-06447b75ab36",
   "metadata": {},
   "outputs": [
    {
     "data": {
      "text/plain": [
       "'*RAGE: ADNI dicom: '"
      ]
     },
     "metadata": {},
     "output_type": "display_data"
    },
    {
     "data": {
      "text/plain": [
       "203"
      ]
     },
     "metadata": {},
     "output_type": "display_data"
    },
    {
     "data": {
      "text/plain": [
       "'ADNI download tab: '"
      ]
     },
     "metadata": {},
     "output_type": "display_data"
    },
    {
     "data": {
      "text/plain": [
       "203"
      ]
     },
     "metadata": {},
     "output_type": "display_data"
    },
    {
     "data": {
      "text/plain": [
       "'*RAGE+*SPGR: ADNI dicom: '"
      ]
     },
     "metadata": {},
     "output_type": "display_data"
    },
    {
     "data": {
      "text/plain": [
       "312"
      ]
     },
     "metadata": {},
     "output_type": "display_data"
    },
    {
     "data": {
      "text/plain": [
       "'ADNI download tab: '"
      ]
     },
     "metadata": {},
     "output_type": "display_data"
    },
    {
     "data": {
      "text/plain": [
       "312"
      ]
     },
     "metadata": {},
     "output_type": "display_data"
    }
   ],
   "source": [
    "#adni_dicom_counter_df=adni_folder_data[(adni_folder_data['series_description'].str.contains('MPRAGE', regex=False))]# | \\\n",
    "                       # (adni_folder_data['series_description'].str.contains('SPGR', regex=False))]\n",
    "adni_dicom_counter_df=adni_folder_data[adni_folder_data['series_description']=='MPRAGE']# | \\\n",
    "adni_dl_counter_df= adni_dl_data[adni_dl_data['Description']=='MPRAGE']# | \\\n",
    "#adni_dl_counter_df= adni_dl_data[(adni_dl_data['Description'].str.contains('MPRAGE', regex=False))]# | \\\n",
    "                       # (adni_folder_data['series_description'].str.contains('SPGR', regex=False))]\n",
    "display('MPRAGE: ADNI dicom: ',len(adni_dicom_counter_df['patient_id'].unique()))\n",
    "display('ADNI download tab: ', len(adni_dl_counter_df['Subject'].unique()))\n",
    "\n",
    "adni_dicom_counter_df=adni_folder_data[(adni_folder_data['series_description'].str.contains('RAGE', regex=False)) | \\\n",
    "                                       (adni_folder_data['series_description'].str.contains('SPGR', regex=False))]\n",
    "adni_dl_counter_df= adni_dl_data[(adni_dl_data['Description'].str.contains('RAGE', regex=False)) | \\\n",
    "                                 (adni_dl_data['Description'].str.contains('SPGR', regex=False))]\n",
    "display('*RAGE+*SPGR: ADNI dicom: ',len(adni_dicom_counter_df['patient_id'].unique()))\n",
    "display(r'ADNI download tab: ', len(adni_dl_counter_df['Subject'].unique()))\n"
   ]
  },
  {
   "cell_type": "code",
   "execution_count": 18,
   "id": "e1dd86a5-955a-41e3-a4e6-236e5fa70515",
   "metadata": {},
   "outputs": [
    {
     "data": {
      "text/plain": [
       "300"
      ]
     },
     "metadata": {},
     "output_type": "display_data"
    },
    {
     "data": {
      "text/plain": [
       "300"
      ]
     },
     "metadata": {},
     "output_type": "display_data"
    },
    {
     "data": {
      "text/plain": [
       "patient_id\n",
       "002_S_0295    S110477\n",
       "002_S_0413    S150697\n",
       "002_S_0685    S114048\n",
       "002_S_1261    S141746\n",
       "002_S_1280    S183174\n",
       "               ...   \n",
       "941_S_4100    S418036\n",
       "941_S_4255    S124668\n",
       "941_S_4292    S489258\n",
       "941_S_4365    S437573\n",
       "941_S_4376    S437610\n",
       "Name: dcm_dir_name, Length: 300, dtype: object"
      ]
     },
     "metadata": {},
     "output_type": "display_data"
    }
   ],
   "source": [
    "# session information directly from dicom headers\n",
    "df_tmp1=adni_dcm_data[#(adni_dcm_data['dim1']>190) & (adni_dcm_data['dim1']<300) & \\\n",
    "                     #(adni_dcm_data['dim2']>190) & (adni_dcm_data['dim2']<300) & \\\n",
    "                     #(adni_dcm_data['dim3']>100) & #(adni_dcm_data['dim3']<500) & \\\n",
    "                     ((adni_dcm_data['series_description'].str.contains('RAGE', regex=False)) | \\\n",
    "                      (adni_dcm_data['series_description'].str.contains('SPGR', regex=False)))]\n",
    "#display(df_tmp)\n",
    "#adni_dcm_data['dim3'].unique()\n",
    "display(len(df_tmp1['patient_id'].unique()))\n",
    "display(len(adni_dcm_data['patient_id'].unique()))\n",
    "#display(tmp_col)\n",
    "#adni_full_data[adni_full_data['dim3']>600].tail(5)\n",
    "tmp_col1=df_tmp1.groupby(['patient_id'])\n",
    "B = tmp_col1['date'].transform(max)\n",
    "df_tmp1.loc[:,'last_session_time']=list(B)\n",
    "#B\n",
    "df_tmp1 = df_tmp1[df_tmp1['date']==df_tmp1['last_session_time']]\n",
    "#df_tmp['i_id']=df_tmp.index\n",
    "#display(len(df_tmp))\n",
    "df_tmp1.sort_values(by='patient_id')\n",
    "g2=df_tmp1.groupby('patient_id')\n",
    "g3=g2['dcm_dir_name'].apply(lambda x: max(x))\n",
    "display(g3)\n",
    "#g3.to_csv(adni_session_file,header=0)\n",
    "#len(g3)\n",
    "#list(g3)\n",
    "#adni_dcm_data[adni_dcm_data[] in list(g1)]"
   ]
  },
  {
   "cell_type": "code",
   "execution_count": 23,
   "id": "551c98c0-eaf5-42ea-afa4-4fa576000750",
   "metadata": {},
   "outputs": [
    {
     "data": {
      "text/plain": [
       "Index(['002_S_0295', '002_S_0413', '002_S_0685', '002_S_1261', '002_S_1280',\n",
       "       '002_S_4213', '002_S_4225', '002_S_4262', '002_S_4264', '002_S_4270',\n",
       "       ...\n",
       "       '153_S_4372', '941_S_1195', '941_S_1202', '941_S_1203', '941_S_4066',\n",
       "       '941_S_4100', '941_S_4255', '941_S_4292', '941_S_4365', '941_S_4376'],\n",
       "      dtype='object', name='patient_id', length=312)"
      ]
     },
     "metadata": {},
     "output_type": "display_data"
    }
   ],
   "source": [
    "# save session names for further fMRIPrep use\n",
    "def session2file(df, file_name, folder_name):\n",
    "    df.to_csv(file_name, header=0)\n",
    "    display(df.index)\n",
    "    for x in df.index:\n",
    "        f_path = out_dir / 'ADNI_sessions'  / x\n",
    "        f = open(f_path, \"w\")\n",
    "        f.write(df.loc[x])\n",
    "        f.close()\n",
    "\n",
    "adni_session_file = out_dir / 'ADNI_session.ses' # output: session we are going to process\n",
    "session2file(g1X, adni_session_file, out_dir / 'ADNI_sessions' ) # g1X g3\n"
   ]
  },
  {
   "cell_type": "code",
   "execution_count": 20,
   "id": "a35ffd0f-0329-4142-9301-04e0e32d913d",
   "metadata": {},
   "outputs": [
    {
     "name": "stdout",
     "output_type": "stream",
     "text": [
      "3 Plane Localizer\n",
      "B-LOC\n",
      "localizer\n",
      "LOC\n",
      "*SCOUT\n",
      "localizer(VIT E R TEMPLE)\n",
      "Localizer\n",
      "localizer =\n",
      "3 PLANE\n",
      "Calibration Scan\n",
      "B1-calibration Head\n",
      "B1-calibration Body\n",
      "B1-Calibration Body\n",
      "B1-Calibration PA\n",
      "SAG B1 CALIBRATION HEAD\n",
      "Field Mapping\n",
      "3-plane localizer\n",
      "LOCALIZER\n",
      "Cal 8HRBRAIN\n",
      "SAG B1 CALIBRATION BODY\n",
      "ADNI_gre_field_mapping\n",
      "3 Plane Loc\n",
      "SURVEY\n",
      "3Plane Loc SSFSE\n",
      "ASSET CALIBRATION\n",
      "3-pl T2* FGRE\n",
      "ADNI SH    SURVEY\n",
      "Field Mapping_R/L\n",
      "Average DC\n",
      "T1 SAG\n",
      "Field Mapping repeat\n",
      "Cal Head+Neck 40\n",
      "calibration scan\n",
      "Field_mapping\n",
      "3 PLANE LOCALIZER\n",
      "B-LOC_S1_ND\n",
      "SURV_NOPATCH_DEFSCALEPAR\n",
      "B1-Calibration\n",
      "LOCALIZER 3T\n",
      "3-PL LOC\n",
      "Cal Head 24\n",
      "Survey\n",
      "repeat SAG B1 CALIBRATION BODY\n"
     ]
    }
   ],
   "source": [
    "# check all heuristic logic with sequence names from dicom header\n",
    "#sequence_names = adni_dcm_data['series_description'].unique()\n",
    "#for x in sequence_names:\n",
    "#    if 'SPGR' in x:\n",
    "#        print(x)\n",
    "# check all 'MPRAGE' sequences\n",
    "#sequence=adni_dcm_data['series_description'].unique()\n",
    "#for x in sequence:\n",
    "#    if 'MPRAGE' in x:\n",
    "#        print(x)\n",
    "# maybe better filter with this \n",
    "sequence_names = adni_dcm_data['series_description'].unique()\n",
    "for x in sequence_names:\n",
    "    if not (('SPGR' in x) or ('RAGE' in x)):\n",
    "        print(x)"
   ]
  },
  {
   "cell_type": "code",
   "execution_count": 17,
   "id": "3b1b41cb-6e83-41e4-8279-4418005de124",
   "metadata": {},
   "outputs": [
    {
     "data": {
      "image/png": "[encoded data removed]",
      "text/plain": [
       "<Figure size 432x288 with 1 Axes>"
      ]
     },
     "metadata": {
      "needs_background": "light"
     },
     "output_type": "display_data"
    },
    {
     "data": {
      "image/png": "[encoded data removed]",
      "text/plain": [
       "<Figure size 432x288 with 1 Axes>"
      ]
     },
     "metadata": {
      "needs_background": "light"
     },
     "output_type": "display_data"
    },
    {
     "data": {
      "image/png": "[encoded data removed]",
      "text/plain": [
       "<Figure size 432x288 with 1 Axes>"
      ]
     },
     "metadata": {
      "needs_background": "light"
     },
     "output_type": "display_data"
    }
   ],
   "source": [
    "# check the image dimenion distribution\n",
    "#display(ppmi_dl_data.sort_values(by='Subject', ascending=False).head())\n",
    "#display(ppmi_dcm_data.sort_values(by='patient_id', ascending=False).head())\n",
    "import seaborn as sns\n",
    "import matplotlib.pyplot as plt\n",
    "\n",
    "# the histogram of the data\n",
    "fig, ax = plt.subplots()\n",
    "n, bins, patches = ax.hist(adni_dcm_data['dim1'], 200, density=True)\n",
    "# add a 'best fit' line\n",
    "# Tweak spacing to prevent clipping of ylabel\n",
    "fig.tight_layout()\n",
    "plt.show()\n",
    "fig, ax = plt.subplots()\n",
    "n, bins, patches = ax.hist(adni_dcm_data['dim2'], 200, density=True)\n",
    "# add a 'best fit' line\n",
    "# Tweak spacing to prevent clipping of ylabel\n",
    "fig.tight_layout()\n",
    "plt.show()\n",
    "fig, ax = plt.subplots()\n",
    "n, bins, patches = ax.hist(adni_dcm_data['dim3'], 200, density=True)\n",
    "# add a 'best fit' line\n",
    "# Tweak spacing to prevent clipping of ylabel\n",
    "fig.tight_layout()\n",
    "plt.show()\n",
    "\n",
    "#sns.set_theme(style=\"darkgrid\")\n",
    "#sns.displot(\n",
    "#    adni_dcm_data, x=\"dim3\", row=\"series_description\",\n",
    "#    binwidth=3, height=3, facet_kws=dict(margin_titles=True),)"
   ]
  }
 ],
 "metadata": {
  "kernelspec": {
   "display_name": "Python 3 (ipykernel)",
   "language": "python",
   "name": "python3"
  },
  "language_info": {
   "codemirror_mode": {
    "name": "ipython",
    "version": 3
   },
   "file_extension": ".py",
   "mimetype": "text/x-python",
   "name": "python",
   "nbconvert_exporter": "python",
   "pygments_lexer": "ipython3",
   "version": "3.8.5"
  }
 },
 "nbformat": 4,
 "nbformat_minor": 5
}
