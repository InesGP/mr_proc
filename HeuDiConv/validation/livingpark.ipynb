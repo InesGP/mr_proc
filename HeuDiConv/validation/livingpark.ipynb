{
 "cells": [
  {
   "cell_type": "markdown",
   "id": "2725b8da-3de5-4f16-8705-fcef475a48b5",
   "metadata": {},
   "source": [
    "# Codes for living park dataset preproc"
   ]
  },
  {
   "cell_type": "code",
   "execution_count": 1,
   "id": "8e9dda77-d084-47ca-b477-435ae9905ae9",
   "metadata": {},
   "outputs": [],
   "source": [
    "# from pathlib import Path\n",
    "import sys\n",
    "from pathlib import Path\n",
    "import glob\n",
    "import os\n",
    "import shutil\n",
    "import numpy as np\n",
    "import pandas as pd\n",
    "\n",
    "# system PATH\n",
    "code_path_str='/scratch/mr_proc'\n",
    "sys.path.append(code_path_str)\n",
    "\n",
    "# study PATH\n",
    "code_dir = Path(code_path_str)\n",
    "dataset_name = \"PPMI\"\n",
    "dataset_path = Path('/scratch/0tmp/'+dataset_name)\n",
    "dataset_out_path    = Path('/scratch/0tmp/'+dataset_name+'_SessionOrganized')\n",
    "\n",
    "dataset_out_df_path = Path(code_dir / 'tab_data'  / 'PPMI_livingpark_metadata.csv')"
   ]
  },
  {
   "cell_type": "code",
   "execution_count": 2,
   "id": "18c09242-3c1c-4a4b-925c-7458f8541097",
   "metadata": {},
   "outputs": [],
   "source": [
    "# read meta data\n",
    "import xml.etree.ElementTree as ET\n",
    "\n",
    "files = [f for f in os.listdir(dataset_path) if f[-3:]=='xml']\n",
    "tree = ET.parse(str(dataset_path/files[0]))\n",
    "root = tree.getroot()\n",
    "subject_info_list= [];\n",
    "for file in files:\n",
    "    tree = ET.parse(str(dataset_path/file))\n",
    "    root = tree.getroot()\n",
    "    data_dict={};\n",
    "    data_dict['Image Data ID']=root[0][3][4][6][0].text\n",
    "    data_dict['Subject']=root[0][3][0].text\n",
    "    data_dict['Group']=root[0][3][1].text\n",
    "    data_dict['Sex']=root[0][3][2].text\n",
    "    data_dict['Visit']=root[0][3][3][0].text\n",
    "    data_dict['Age']=root[0][3][4][1].text\n",
    "    data_dict['Modality']=root[0][3][4][5][1].text\n",
    "    data_dict['Description']=root[0][3][4][6][1].text\n",
    "    data_dict['Acq Date']=root[0][3][4][5][2].text\n",
    "    subject_info_list.append(data_dict)\n",
    "df=pd.DataFrame(subject_info_list)"
   ]
  },
  {
   "cell_type": "code",
   "execution_count": 3,
   "id": "62cfc3c5-76e7-4d07-8d7e-1d73a2d78c8a",
   "metadata": {},
   "outputs": [],
   "source": [
    "# T1 sequence description\n",
    "T1W_SERIES = [\n",
    "    'MPRAGE 2 ADNI',\n",
    "    'MPRAGE ADNI',\n",
    "    'MPRAGE GRAPPA 2',\n",
    "    'MPRAGE GRAPPA2',\n",
    "    'MPRAGE GRAPPA2(adni)',\n",
    "    'MPRAGE w/ GRAPPA',\n",
    "    'MPRAGE_GRAPPA',\n",
    "    'MPRAGE_GRAPPA_ADNI',\n",
    "    'MPRAGE GRAPPA',\n",
    "    'SAG T1 3D MPRAGE',\n",
    "    'sag mprage',\n",
    "    'MPRAGEadni',\n",
    "    'MPRAGE GRAPPA_ND',\n",
    "    '3D SAG',\n",
    "    'MPRAGE T1 SAG',\n",
    "    'MPRAGE SAG',\n",
    "    'SAG T1 3DMPRAGE',\n",
    "    'SAG T1 MPRAGE',\n",
    "    'SAG 3D T1',\n",
    "    'SAG MPRAGE GRAPPA2-NEW2016',\n",
    "    'SAG MPRAGE GRAPPA_ND',\n",
    "    'Sag MPRAGE GRAPPA',\n",
    "    'AXIAL T1 3D MPRAGE',\n",
    "    'SAG MPRAGE GRAPPA',\n",
    "    'sT1W_3D_FFE',\n",
    "    'sT1W_3D_ISO',\n",
    "    'sT1W_3D_TFE',\n",
    "    'sag 3D FSPGR BRAVO straight',\n",
    "    'SAG T1 3D FSPGR',\n",
    "    'SAG FSPGR 3D '\n",
    "    'SAG 3D FSPGR BRAVO STRAIGHT',\n",
    "    'SAG T1 3D FSPGR 3RD REPEAT',\n",
    "    'SAG FSPGR BRAVO',\n",
    "    'SAG SPGR 3D',\n",
    "    'SAG 3D SPGR',\n",
    "    'FSPGR 3D SAG',\n",
    "    'SAG FSPGR 3D',\n",
    "    'SAG 3D FSPGR BRAVO STRAIGHT',\n",
    "    'SAG FSPGR 3D ',\n",
    "    't1_mpr_ns_sag_p2_iso',\n",
    "    'T1',\n",
    "    'T1 Repeat',\n",
    "    'AX T1',\n",
    "    'axial spgr',\n",
    "    'T1W_3D_FFE AX',\n",
    "    # added by Vincent\n",
    "    'AX T1 SE C+',\n",
    "    '3D SAG T1 MPRAGE',\n",
    "    '3D SAG T1 MPRAGE_ND',\n",
    "    '3D T1',\n",
    "    '3D T1 MPRAGE',\n",
    "    '3D T1-weighted',\n",
    "    'Accelerated Sag IR-FSPGR',\n",
    "    'MPRAGE',\n",
    "    'MPRAGE - Sag',\n",
    "    'MPRAGE Phantom GRAPPA2',\n",
    "    'MPRAGE w/ GRAPPA 2',\n",
    "    'PPMI_MPRAGE_GRAPPA2',\n",
    "    'SAG 3D T1 FSPGR',\n",
    "    'SAG FSPGR 3D VOLUMETRIC T1',\n",
    "    'Sag MPRAGE GRAPPA_ND',\n",
    "    'T1-weighted, 3D VOLUMETRIC',\n",
    "    'tra_T1_MPRAGE',\n",
    "    '3D T1-weighted_ND', ## added from livingpark\n",
    "    '3D T1 _weighted',\n",
    "    'Sagittal 3D Accelerated MPRAGE',\n",
    "    'T1 REPEAT',\n",
    "    'MPRAGE Repeat']"
   ]
  },
  {
   "cell_type": "code",
   "execution_count": 14,
   "id": "4302df00-291c-4c76-b08c-22afcf5530c9",
   "metadata": {},
   "outputs": [
    {
     "name": "stdout",
     "output_type": "stream",
     "text": [
      "Final size:  (341, 9)\n"
     ]
    }
   ],
   "source": [
    "df=pd.DataFrame(subject_info_list)\n",
    "def encode_visit(x_):\n",
    "    if x_=='Baseline':\n",
    "        return 1 # \n",
    "    elif x_=='Screening':\n",
    "        return 0\n",
    "    else:\n",
    "        return -1\n",
    "df['Visit'] = [ encode_visit(x) for x in df['Visit'] ]\n",
    "df=df[df['Visit']>=0]\n",
    "#df[\"T1 include\"] = [1 if x in T1W_SERIES  else 0 for x in df['Description']]\n",
    "#t1_df=df[df[\"T1 include\"]==1].copy()\n",
    "#t1_df=t1_df.drop(columns=['T1 include'])\n",
    "df[\"Image Data ID\"] = [\"I\"+str(x) for x in df['Image Data ID']]\n",
    "#df=df.apply(lambda x: \"\\\"\"+str(x)+\"\\\"\")\n",
    "print('Final size: ', df.shape)\n",
    "# save file\n",
    "df.to_csv(dataset_out_df_path, index=False)"
   ]
  },
  {
   "cell_type": "code",
   "execution_count": 20,
   "id": "036430b8-6993-4cb3-802a-7e14a577a964",
   "metadata": {},
   "outputs": [
    {
     "data": {
      "text/plain": [
       "array(['I945538', 'I945537', 'I945535', 'I945536'], dtype=object)"
      ]
     },
     "execution_count": 20,
     "metadata": {},
     "output_type": "execute_result"
    }
   ],
   "source": [
    "dataset_out_df_path = Path(code_dir / 'tab_data'  / 'PPMI_livingpark_metadata.csv')\n",
    "ppmi_img_dl_data=pd.read_csv(dataset_out_df_path, dtype=str)\n",
    "subj_=\"72419\"\n",
    "image_tab_df = ppmi_img_dl_data[ppmi_img_dl_data['Subject']==subj_].loc[:,['Image Data ID', 'Visit']].copy()\n",
    "image_tab_df\n",
    "img_ids=image_tab_df['Image Data ID'].unique()\n",
    "img_ids"
   ]
  },
  {
   "cell_type": "code",
   "execution_count": null,
   "id": "7bb63190-94ec-4960-84b3-6284278b224e",
   "metadata": {},
   "outputs": [],
   "source": []
  }
 ],
 "metadata": {
  "kernelspec": {
   "display_name": "Python 3 (ipykernel)",
   "language": "python",
   "name": "python3"
  },
  "language_info": {
   "codemirror_mode": {
    "name": "ipython",
    "version": 3
   },
   "file_extension": ".py",
   "mimetype": "text/x-python",
   "name": "python",
   "nbconvert_exporter": "python",
   "pygments_lexer": "ipython3",
   "version": "3.8.5"
  }
 },
 "nbformat": 4,
 "nbformat_minor": 5
}
