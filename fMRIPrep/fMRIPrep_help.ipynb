{
 "cells": [
  {
   "cell_type": "markdown",
   "id": "be920fd6-adc1-40bd-ab34-257e9bc76e41",
   "metadata": {},
   "source": [
    "# Create the files needed for the preproc of PPMI dataset\n",
    "## 1. Subject-session csv files\n",
    "## 2. tbd"
   ]
  },
  {
   "cell_type": "code",
   "execution_count": 1,
   "id": "8b97b9f9-5b70-40c5-afa5-bde48f645f36",
   "metadata": {},
   "outputs": [],
   "source": [
    "# libs and envs\n",
    "import sys\n",
    "from pathlib import Path\n",
    "import pandas as pd\n",
    "import numpy as np\n",
    "\n",
    "#proj_dir='/data/pd/ppmi' # BIC\n",
    "proj_dir='/scratch' # CC\n",
    "codes_dir_str=proj_dir+'/mr_proc'\n",
    "sys.path.append(codes_dir_str)\n",
    "\n",
    "# main PATH\n",
    "codes_dir    = Path(codes_dir_str)\n",
    "bids_dir_str = proj_dir+'/runningMDD_BIDS' # PPMI_BIDS\n",
    "bids_dir     = Path(bids_dir_str)\n",
    "fmriprep_dir = codes_dir / 'fMRIPrep' \n",
    "\n",
    "# output subject session list \n",
    "col_names = ['subject', 'session']\n",
    "ppmi_subj_ses_file   = fmriprep_dir / 'ppmi_subject_session.csv'  # Information from download database."
   ]
  },
  {
   "cell_type": "code",
   "execution_count": 5,
   "id": "c5541540-d2f3-484b-994b-e4277f05dec7",
   "metadata": {},
   "outputs": [
    {
     "name": "stderr",
     "output_type": "stream",
     "text": [
      "/usr/local/miniconda/lib/python3.8/site-packages/bids/layout/models.py:148: FutureWarning: The 'extension' entity currently excludes the leading dot ('.'). As of version 0.14.0, it will include the leading dot. To suppress this warning and include the leading dot, use `bids.config.set_option('extension_initial_dot', True)`.\n",
      "  warnings.warn(\"The 'extension' entity currently excludes the leading dot ('.'). \"\n"
     ]
    },
    {
     "data": {
      "text/plain": [
       "['1', '2', '3']"
      ]
     },
     "execution_count": 5,
     "metadata": {},
     "output_type": "execute_result"
    }
   ],
   "source": [
    "# read bids layout and output all sessions\n",
    "from bids import BIDSLayout\n",
    "ppmi_layout=BIDSLayout(bids_dir)\n",
    "print(ppmi_layout.get_sessions())"
   ]
  },
  {
   "cell_type": "code",
   "execution_count": 6,
   "id": "1eb70c89-34f5-4c95-9d1a-44680530f257",
   "metadata": {},
   "outputs": [
    {
     "name": "stdout",
     "output_type": "stream",
     "text": [
      "           subject session\n",
      "0    sub-season101       1\n",
      "1    sub-season101       2\n",
      "2    sub-season101       3\n",
      "3    sub-season102       1\n",
      "4    sub-season102       2\n",
      "..             ...     ...\n",
      "139  sub-season216       2\n",
      "140  sub-season216       3\n",
      "141  sub-season217       1\n",
      "142  sub-season217       2\n",
      "143  sub-season217       3\n",
      "\n",
      "[144 rows x 2 columns]\n"
     ]
    }
   ],
   "source": [
    "# select all the available T1w images and create the subject session list \n",
    "save_file=0\n",
    "\n",
    "suffix    = 'T1w'\n",
    "extension = 'nii.gz'\n",
    "ppmi_file_list=ppmi_layout.get(suffix=suffix, extension=extension, return_type='file')\n",
    "ppmi_file_names=[x.split('/')[-1] for x in ppmi_file_list]\n",
    "\n",
    "subj_ses_df = pd.DataFrame({col_names[0]:[x.split('_')[0] for x in ppmi_file_names], col_names[1]: [x.split('_')[1].split('-')[-1] for x in ppmi_file_names]})\n",
    "print(subj_ses_df)\n",
    "\n",
    "# Generate subject,session file for fMRIPrep preporocessing \n",
    "if save_file:\n",
    "    subj_ses_df.to_csv(ppmi_subj_ses_file, header=False, index=False)"
   ]
  },
  {
   "cell_type": "code",
   "execution_count": 3,
   "id": "fd77baf0-debd-412f-9faa-0fad7761f9d3",
   "metadata": {},
   "outputs": [
    {
     "data": {
      "text/html": [
       "<div>\n",
       "<style scoped>\n",
       "    .dataframe tbody tr th:only-of-type {\n",
       "        vertical-align: middle;\n",
       "    }\n",
       "\n",
       "    .dataframe tbody tr th {\n",
       "        vertical-align: top;\n",
       "    }\n",
       "\n",
       "    .dataframe thead th {\n",
       "        text-align: right;\n",
       "    }\n",
       "</style>\n",
       "<table border=\"1\" class=\"dataframe\">\n",
       "  <thead>\n",
       "    <tr style=\"text-align: right;\">\n",
       "      <th></th>\n",
       "      <th>subject</th>\n",
       "      <th>session</th>\n",
       "    </tr>\n",
       "  </thead>\n",
       "  <tbody>\n",
       "    <tr>\n",
       "      <th>0</th>\n",
       "      <td>sub-01218AUG16</td>\n",
       "      <td>0</td>\n",
       "    </tr>\n",
       "    <tr>\n",
       "      <th>1</th>\n",
       "      <td>sub-3101</td>\n",
       "      <td>1</td>\n",
       "    </tr>\n",
       "    <tr>\n",
       "      <th>2</th>\n",
       "      <td>sub-3101</td>\n",
       "      <td>7</td>\n",
       "    </tr>\n",
       "    <tr>\n",
       "      <th>3</th>\n",
       "      <td>sub-3102</td>\n",
       "      <td>1</td>\n",
       "    </tr>\n",
       "    <tr>\n",
       "      <th>4</th>\n",
       "      <td>sub-3102</td>\n",
       "      <td>7</td>\n",
       "    </tr>\n",
       "    <tr>\n",
       "      <th>...</th>\n",
       "      <td>...</td>\n",
       "      <td>...</td>\n",
       "    </tr>\n",
       "    <tr>\n",
       "      <th>1452</th>\n",
       "      <td>sub-103813</td>\n",
       "      <td>1</td>\n",
       "    </tr>\n",
       "    <tr>\n",
       "      <th>1453</th>\n",
       "      <td>sub-105711</td>\n",
       "      <td>1</td>\n",
       "    </tr>\n",
       "    <tr>\n",
       "      <th>1454</th>\n",
       "      <td>sub-112729</td>\n",
       "      <td>1</td>\n",
       "    </tr>\n",
       "    <tr>\n",
       "      <th>1455</th>\n",
       "      <td>sub-113369</td>\n",
       "      <td>1</td>\n",
       "    </tr>\n",
       "    <tr>\n",
       "      <th>1456</th>\n",
       "      <td>sub-114198</td>\n",
       "      <td>1</td>\n",
       "    </tr>\n",
       "  </tbody>\n",
       "</table>\n",
       "<p>1457 rows × 2 columns</p>\n",
       "</div>"
      ],
      "text/plain": [
       "             subject  session\n",
       "0     sub-01218AUG16        0\n",
       "1           sub-3101        1\n",
       "2           sub-3101        7\n",
       "3           sub-3102        1\n",
       "4           sub-3102        7\n",
       "...              ...      ...\n",
       "1452      sub-103813        1\n",
       "1453      sub-105711        1\n",
       "1454      sub-112729        1\n",
       "1455      sub-113369        1\n",
       "1456      sub-114198        1\n",
       "\n",
       "[1457 rows x 2 columns]"
      ]
     },
     "execution_count": 3,
     "metadata": {},
     "output_type": "execute_result"
    }
   ],
   "source": [
    "# Read and check the existing subject session list \n",
    "\n",
    "subj_ses_exist_df = pd.read_csv(ppmi_subj_ses_file, sep=',', header=None, index_col=None, names= col_names)\n",
    "subj_ses_exist_df"
   ]
  },
  {
   "cell_type": "code",
   "execution_count": 5,
   "id": "446fe20e-d1a5-4fdc-b7d9-d3f19987d947",
   "metadata": {},
   "outputs": [
    {
     "ename": "SyntaxError",
     "evalue": "invalid syntax (3543981368.py, line 1)",
     "output_type": "error",
     "traceback": [
      "\u001b[0;36m  File \u001b[0;32m\"/tmp/ipykernel_464/3543981368.py\"\u001b[0;36m, line \u001b[0;32m1\u001b[0m\n\u001b[0;31m    sed -n '/sub/s/^.*,\\([0-9]*\\).*$/\\1/p' ${ppmi_subj_ses_file} | sort -u\u001b[0m\n\u001b[0m           ^\u001b[0m\n\u001b[0;31mSyntaxError\u001b[0m\u001b[0;31m:\u001b[0m invalid syntax\n"
     ]
    }
   ],
   "source": [
    "sed -n '/sub/s/^.*,\\([0-9]*\\).*$/\\1/p' /scr | sort -u"
   ]
  },
  {
   "cell_type": "code",
   "execution_count": null,
   "id": "8b7d666a-cc4b-4f88-9dca-7adb3e9ae9be",
   "metadata": {},
   "outputs": [],
   "source": []
  }
 ],
 "metadata": {
  "kernelspec": {
   "display_name": "Python 3 (ipykernel)",
   "language": "python",
   "name": "python3"
  },
  "language_info": {
   "codemirror_mode": {
    "name": "ipython",
    "version": 3
   },
   "file_extension": ".py",
   "mimetype": "text/x-python",
   "name": "python",
   "nbconvert_exporter": "python",
   "pygments_lexer": "ipython3",
   "version": "3.8.5"
  }
 },
 "nbformat": 4,
 "nbformat_minor": 5
}
