{
 "cells": [
  {
   "cell_type": "markdown",
   "id": "be920fd6-adc1-40bd-ab34-257e9bc76e41",
   "metadata": {},
   "source": [
    "# Create the files needed for the preproc of PPMI dataset\n",
    "## 1. Subject-session csv files\n",
    "## 2. tbd"
   ]
  },
  {
   "cell_type": "code",
   "execution_count": 1,
   "id": "8b97b9f9-5b70-40c5-afa5-bde48f645f36",
   "metadata": {},
   "outputs": [],
   "source": [
    "# libs and envs\n",
    "import sys\n",
    "codes_dir_str='/scratch/mr_proc'\n",
    "sys.path.append(codes_dir_str)\n",
    "from pathlib import Path\n",
    "import pandas as pd\n",
    "import numpy as np\n",
    "\n",
    "# main PATH\n",
    "codes_dir    = Path(codes_dir_str)\n",
    "bids_dir_str = '/scratch/runningMDD_BIDS' # PPMI_BIDS\n",
    "bids_dir     = Path(bids_dir_str)\n",
    "fmriprep_dir = codes_dir / 'fMRIPrep' \n",
    "\n",
    "# output subject session list \n",
    "ppmi_subj_ses_file   = fmriprep_dir / 'ppmi_subject_session.csv'  # Information from download database."
   ]
  },
  {
   "cell_type": "code",
   "execution_count": 5,
   "id": "c5541540-d2f3-484b-994b-e4277f05dec7",
   "metadata": {},
   "outputs": [
    {
     "name": "stderr",
     "output_type": "stream",
     "text": [
      "/usr/local/miniconda/lib/python3.8/site-packages/bids/layout/models.py:148: FutureWarning: The 'extension' entity currently excludes the leading dot ('.'). As of version 0.14.0, it will include the leading dot. To suppress this warning and include the leading dot, use `bids.config.set_option('extension_initial_dot', True)`.\n",
      "  warnings.warn(\"The 'extension' entity currently excludes the leading dot ('.'). \"\n"
     ]
    },
    {
     "data": {
      "text/plain": [
       "['1', '2', '3']"
      ]
     },
     "execution_count": 5,
     "metadata": {},
     "output_type": "execute_result"
    }
   ],
   "source": [
    "from bids import BIDSLayout\n",
    "ppmi_layout=BIDSLayout(bids_dir)\n",
    "ppmi_layout.get_sessions()"
   ]
  },
  {
   "cell_type": "code",
   "execution_count": 3,
   "id": "1eb70c89-34f5-4c95-9d1a-44680530f257",
   "metadata": {},
   "outputs": [
    {
     "data": {
      "text/html": [
       "<div>\n",
       "<style scoped>\n",
       "    .dataframe tbody tr th:only-of-type {\n",
       "        vertical-align: middle;\n",
       "    }\n",
       "\n",
       "    .dataframe tbody tr th {\n",
       "        vertical-align: top;\n",
       "    }\n",
       "\n",
       "    .dataframe thead th {\n",
       "        text-align: right;\n",
       "    }\n",
       "</style>\n",
       "<table border=\"1\" class=\"dataframe\">\n",
       "  <thead>\n",
       "    <tr style=\"text-align: right;\">\n",
       "      <th></th>\n",
       "      <th>subject</th>\n",
       "      <th>session</th>\n",
       "    </tr>\n",
       "  </thead>\n",
       "  <tbody>\n",
       "    <tr>\n",
       "      <th>0</th>\n",
       "      <td>sub-season101</td>\n",
       "      <td>1</td>\n",
       "    </tr>\n",
       "    <tr>\n",
       "      <th>1</th>\n",
       "      <td>sub-season101</td>\n",
       "      <td>2</td>\n",
       "    </tr>\n",
       "    <tr>\n",
       "      <th>2</th>\n",
       "      <td>sub-season101</td>\n",
       "      <td>3</td>\n",
       "    </tr>\n",
       "    <tr>\n",
       "      <th>3</th>\n",
       "      <td>sub-season102</td>\n",
       "      <td>1</td>\n",
       "    </tr>\n",
       "    <tr>\n",
       "      <th>4</th>\n",
       "      <td>sub-season102</td>\n",
       "      <td>2</td>\n",
       "    </tr>\n",
       "    <tr>\n",
       "      <th>...</th>\n",
       "      <td>...</td>\n",
       "      <td>...</td>\n",
       "    </tr>\n",
       "    <tr>\n",
       "      <th>139</th>\n",
       "      <td>sub-season216</td>\n",
       "      <td>2</td>\n",
       "    </tr>\n",
       "    <tr>\n",
       "      <th>140</th>\n",
       "      <td>sub-season216</td>\n",
       "      <td>3</td>\n",
       "    </tr>\n",
       "    <tr>\n",
       "      <th>141</th>\n",
       "      <td>sub-season217</td>\n",
       "      <td>1</td>\n",
       "    </tr>\n",
       "    <tr>\n",
       "      <th>142</th>\n",
       "      <td>sub-season217</td>\n",
       "      <td>2</td>\n",
       "    </tr>\n",
       "    <tr>\n",
       "      <th>143</th>\n",
       "      <td>sub-season217</td>\n",
       "      <td>3</td>\n",
       "    </tr>\n",
       "  </tbody>\n",
       "</table>\n",
       "<p>144 rows × 2 columns</p>\n",
       "</div>"
      ],
      "text/plain": [
       "           subject session\n",
       "0    sub-season101       1\n",
       "1    sub-season101       2\n",
       "2    sub-season101       3\n",
       "3    sub-season102       1\n",
       "4    sub-season102       2\n",
       "..             ...     ...\n",
       "139  sub-season216       2\n",
       "140  sub-season216       3\n",
       "141  sub-season217       1\n",
       "142  sub-season217       2\n",
       "143  sub-season217       3\n",
       "\n",
       "[144 rows x 2 columns]"
      ]
     },
     "execution_count": 3,
     "metadata": {},
     "output_type": "execute_result"
    }
   ],
   "source": [
    "suffix    = 'T1w'\n",
    "extension = 'nii.gz'\n",
    "ppmi_file_list=ppmi_layout.get(suffix=suffix, extension=extension, return_type='file')\n",
    "ppmi_file_names=[x.split('/')[-1] for x in ppmi_file_list]\n",
    "\n",
    "subj_ses_df = pd.DataFrame({'subject':[x.split('_')[0] for x in ppmi_file_names], 'session': [x.split('_')[1].split('-')[-1] for x in ppmi_file_names]})\n",
    "subj_ses_df"
   ]
  },
  {
   "cell_type": "code",
   "execution_count": 4,
   "id": "fd77baf0-debd-412f-9faa-0fad7761f9d3",
   "metadata": {},
   "outputs": [],
   "source": [
    "# Generate subject,session file for fMRIPrep preporocessing \n",
    "subj_ses_df.to_csv(ppmi_subj_ses_file, header=False, index=False)"
   ]
  },
  {
   "cell_type": "code",
   "execution_count": null,
   "id": "446fe20e-d1a5-4fdc-b7d9-d3f19987d947",
   "metadata": {},
   "outputs": [],
   "source": []
  }
 ],
 "metadata": {
  "kernelspec": {
   "display_name": "Python 3 (ipykernel)",
   "language": "python",
   "name": "python3"
  },
  "language_info": {
   "codemirror_mode": {
    "name": "ipython",
    "version": 3
   },
   "file_extension": ".py",
   "mimetype": "text/x-python",
   "name": "python",
   "nbconvert_exporter": "python",
   "pygments_lexer": "ipython3",
   "version": "3.8.5"
  }
 },
 "nbformat": 4,
 "nbformat_minor": 5
}
