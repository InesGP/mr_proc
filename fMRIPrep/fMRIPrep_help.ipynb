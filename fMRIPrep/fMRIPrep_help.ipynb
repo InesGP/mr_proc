{
 "cells": [
  {
   "cell_type": "markdown",
   "id": "be920fd6-adc1-40bd-ab34-257e9bc76e41",
   "metadata": {},
   "source": [
    "# Create the files needed for the preproc of PPMI dataset\n",
    "## 1. Subject-session csv files\n",
    "## 2. tbd"
   ]
  },
  {
   "cell_type": "code",
   "execution_count": 1,
   "id": "8b97b9f9-5b70-40c5-afa5-bde48f645f36",
   "metadata": {},
   "outputs": [],
   "source": [
    "# libs and envs\n",
    "import sys\n",
    "from pathlib import Path\n",
    "import pandas as pd\n",
    "import numpy as np\n",
    "\n",
    "#proj_dir='/data/pd/ppmi' # BIC\n",
    "proj_dir='/scratch' # CC\n",
    "codes_dir_str=proj_dir+'/mr_proc'\n",
    "sys.path.append(codes_dir_str)\n",
    "\n",
    "# main PATH\n",
    "codes_dir    = Path(codes_dir_str)\n",
    "#bids_dir_str = proj_dir+'/runningMDD_BIDS' # PPMI_BIDS\n",
    "#bids_dir     = Path(bids_dir_str)\n",
    "fmriprep_dir = codes_dir / 'fMRIPrep' \n",
    "\n",
    "# output subject session list \n",
    "col_names = ['subject', 'session']\n",
    "ppmi_subj_ses_file   = fmriprep_dir / 'ppmi_subject_session.csv'  # Information from download database."
   ]
  },
  {
   "cell_type": "code",
   "execution_count": 2,
   "id": "fd77baf0-debd-412f-9faa-0fad7761f9d3",
   "metadata": {},
   "outputs": [
    {
     "name": "stdout",
     "output_type": "stream",
     "text": [
      "sessions in dataset:  ses-1, ses-7, ses-21, ses-5, ses-11, ses-91, ses-90, ses-0, ses-9, ses-30\n"
     ]
    },
    {
     "data": {
      "text/html": [
       "<div>\n",
       "<style scoped>\n",
       "    .dataframe tbody tr th:only-of-type {\n",
       "        vertical-align: middle;\n",
       "    }\n",
       "\n",
       "    .dataframe tbody tr th {\n",
       "        vertical-align: top;\n",
       "    }\n",
       "\n",
       "    .dataframe thead th {\n",
       "        text-align: right;\n",
       "    }\n",
       "</style>\n",
       "<table border=\"1\" class=\"dataframe\">\n",
       "  <thead>\n",
       "    <tr style=\"text-align: right;\">\n",
       "      <th></th>\n",
       "      <th>subject</th>\n",
       "      <th>session</th>\n",
       "    </tr>\n",
       "  </thead>\n",
       "  <tbody>\n",
       "    <tr>\n",
       "      <th>0</th>\n",
       "      <td>sub-3101</td>\n",
       "      <td>1</td>\n",
       "    </tr>\n",
       "    <tr>\n",
       "      <th>1</th>\n",
       "      <td>sub-3101</td>\n",
       "      <td>7</td>\n",
       "    </tr>\n",
       "    <tr>\n",
       "      <th>2</th>\n",
       "      <td>sub-3102</td>\n",
       "      <td>1</td>\n",
       "    </tr>\n",
       "    <tr>\n",
       "      <th>3</th>\n",
       "      <td>sub-3102</td>\n",
       "      <td>7</td>\n",
       "    </tr>\n",
       "    <tr>\n",
       "      <th>4</th>\n",
       "      <td>sub-3102</td>\n",
       "      <td>21</td>\n",
       "    </tr>\n",
       "    <tr>\n",
       "      <th>...</th>\n",
       "      <td>...</td>\n",
       "      <td>...</td>\n",
       "    </tr>\n",
       "    <tr>\n",
       "      <th>1097</th>\n",
       "      <td>sub-103813</td>\n",
       "      <td>1</td>\n",
       "    </tr>\n",
       "    <tr>\n",
       "      <th>1098</th>\n",
       "      <td>sub-105711</td>\n",
       "      <td>1</td>\n",
       "    </tr>\n",
       "    <tr>\n",
       "      <th>1099</th>\n",
       "      <td>sub-112729</td>\n",
       "      <td>1</td>\n",
       "    </tr>\n",
       "    <tr>\n",
       "      <th>1100</th>\n",
       "      <td>sub-113369</td>\n",
       "      <td>1</td>\n",
       "    </tr>\n",
       "    <tr>\n",
       "      <th>1101</th>\n",
       "      <td>sub-114198</td>\n",
       "      <td>1</td>\n",
       "    </tr>\n",
       "  </tbody>\n",
       "</table>\n",
       "<p>1102 rows × 2 columns</p>\n",
       "</div>"
      ],
      "text/plain": [
       "         subject  session\n",
       "0       sub-3101        1\n",
       "1       sub-3101        7\n",
       "2       sub-3102        1\n",
       "3       sub-3102        7\n",
       "4       sub-3102       21\n",
       "...          ...      ...\n",
       "1097  sub-103813        1\n",
       "1098  sub-105711        1\n",
       "1099  sub-112729        1\n",
       "1100  sub-113369        1\n",
       "1101  sub-114198        1\n",
       "\n",
       "[1102 rows x 2 columns]"
      ]
     },
     "execution_count": 2,
     "metadata": {},
     "output_type": "execute_result"
    }
   ],
   "source": [
    "# Read and check the existing subject session list \n",
    "subj_ses_exist_df = pd.read_csv(ppmi_subj_ses_file, sep=',', header=None, index_col=None, names= col_names)\n",
    "print('sessions in dataset: ', 'ses-'+', ses-'.join([str(x) for x in list(subj_ses_exist_df.session.unique())]))\n",
    "subj_ses_exist_df"
   ]
  },
  {
   "cell_type": "code",
   "execution_count": 3,
   "id": "609eeef1-96f7-4ebf-bca9-008d7ebd4152",
   "metadata": {},
   "outputs": [
    {
     "name": "stdout",
     "output_type": "stream",
     "text": [
      "anat_ses-1.json\n",
      "anat_ses-7.json\n",
      "anat_ses-21.json\n",
      "anat_ses-5.json\n",
      "anat_ses-11.json\n",
      "anat_ses-91.json\n",
      "anat_ses-90.json\n",
      "anat_ses-0.json\n",
      "anat_ses-9.json\n",
      "anat_ses-30.json\n"
     ]
    }
   ],
   "source": [
    "# create json session files\n",
    "save_file=0\n",
    "\n",
    "import json\n",
    "\n",
    "basic_json_filename = 'anat_ses-?.json'\n",
    "session_json_dict={\n",
    "    \"t1w\": {\n",
    "        \"datatype\": \"anat\",\n",
    "        \"session\": \"0\",\n",
    "\t\"suffix\": \"T1w\"\n",
    "    }\n",
    "}\n",
    "\n",
    "for x in list(subj_ses_exist_df.session.unique()):\n",
    "    ses_str=str(x)\n",
    "    json_file_tmp = basic_json_filename.replace('?', ses_str)\n",
    "    print(json_file_tmp)\n",
    "    session_json_dict['t1w']['session']=ses_str\n",
    "    json_string_tmp = json.dumps(session_json_dict, indent=4)\n",
    "    #print(json_string_tmp)\n",
    "    if save_file==1:\n",
    "        with open((fmriprep_dir/json_file_tmp), 'w', encoding='utf-8') as outfile_tmp:\n",
    "            outfile_tmp.write(json_string_tmp)\n"
   ]
  },
  {
   "cell_type": "markdown",
   "id": "87c9dcb3-2d63-44aa-a519-b54d52255b6b",
   "metadata": {},
   "source": [
    "## Code below for testing: "
   ]
  },
  {
   "cell_type": "code",
   "execution_count": null,
   "id": "c5541540-d2f3-484b-994b-e4277f05dec7",
   "metadata": {},
   "outputs": [],
   "source": [
    "# read bids layout and output all sessions\n",
    "from bids import BIDSLayout\n",
    "ppmi_layout=BIDSLayout(bids_dir)\n",
    "print(ppmi_layout.get_sessions())"
   ]
  },
  {
   "cell_type": "code",
   "execution_count": null,
   "id": "1eb70c89-34f5-4c95-9d1a-44680530f257",
   "metadata": {},
   "outputs": [],
   "source": [
    "# select all the available T1w images and create the subject session list \n",
    "save_file=0\n",
    "\n",
    "suffix    = 'T1w'\n",
    "extension = 'nii.gz'\n",
    "ppmi_file_list=ppmi_layout.get(suffix=suffix, extension=extension, return_type='file')\n",
    "ppmi_file_names=[x.split('/')[-1] for x in ppmi_file_list]\n",
    "\n",
    "subj_ses_df = pd.DataFrame({col_names[0]:[x.split('_')[0] for x in ppmi_file_names], col_names[1]: [x.split('_')[1].split('-')[-1] for x in ppmi_file_names]})\n",
    "print(subj_ses_df)\n",
    "\n",
    "# Generate subject,session file for fMRIPrep preporocessing \n",
    "if save_file:\n",
    "    subj_ses_df.to_csv(ppmi_subj_ses_file, header=False, index=False)"
   ]
  },
  {
   "cell_type": "code",
   "execution_count": null,
   "id": "2f2db932-6479-4a4d-89a5-a89cf88a738a",
   "metadata": {},
   "outputs": [],
   "source": []
  }
 ],
 "metadata": {
  "kernelspec": {
   "display_name": "Python 3 (ipykernel)",
   "language": "python",
   "name": "python3"
  },
  "language_info": {
   "codemirror_mode": {
    "name": "ipython",
    "version": 3
   },
   "file_extension": ".py",
   "mimetype": "text/x-python",
   "name": "python",
   "nbconvert_exporter": "python",
   "pygments_lexer": "ipython3",
   "version": "3.8.5"
  }
 },
 "nbformat": 4,
 "nbformat_minor": 5
}
